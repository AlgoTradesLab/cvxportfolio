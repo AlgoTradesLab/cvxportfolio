{
 "cells": [
  {
   "cell_type": "code",
   "execution_count": 1,
   "metadata": {
    "collapsed": false
   },
   "outputs": [],
   "source": [
    "%load_ext autoreload\n",
    "%autoreload 2\n",
    "%matplotlib inline\n",
    "\n",
    "import pandas as pd\n",
    "import numpy as np\n",
    "import matplotlib.pyplot as plt\n",
    "import cvx_portfolio as cp\n",
    "\n",
    "plotdir = '../portfolio/plots/'"
   ]
  },
  {
   "cell_type": "markdown",
   "metadata": {},
   "source": [
    "## Download data using ee103 code (to be integrated) "
   ]
  },
  {
   "cell_type": "code",
   "execution_count": null,
   "metadata": {
    "collapsed": true
   },
   "outputs": [],
   "source": [
    "datadir= '../equity_data_tool/'\n",
    "sigmas=pd.read_csv(datadir+'sigmas.txt',index_col=0,parse_dates=[0])\n",
    "returns=pd.read_csv(datadir+'returns.txt',index_col=0,parse_dates=[0])\n",
    "volumes=pd.read_csv(datadir+'volumes.txt',index_col=0,parse_dates=[0])\n",
    "\n",
    "spread = pd.DataFrame(data=2.5*1e-4, index=volumes.index, columns=volumes.columns)\n",
    "nonlin_coeff = pd.DataFrame(data=1, index=volumes.index, columns=volumes.columns) # fix volatility model"
   ]
  },
  {
   "cell_type": "markdown",
   "metadata": {},
   "source": [
    "## Simulations"
   ]
  },
  {
   "cell_type": "code",
   "execution_count": null,
   "metadata": {
    "collapsed": false
   },
   "outputs": [],
   "source": [
    "simulated_tcost = cp.TcostModel(volumes, sigmas, spread, nonlin_coeff, cash_key='USDOLLAR')\n",
    "simulator = cp.MarketSimulator(returns, volumes, [simulated_tcost], cash_key='USDOLLAR')\n",
    "\n",
    "benchmark = pd.Series(index=returns.columns, data=1)\n",
    "benchmark.USDOLLAR = 0.\n",
    "benchmark/=sum(benchmark)\n",
    "\n",
    "def select_starts_periods(period_property, timestamps):\n",
    "    selected = [timestamps[0]]\n",
    "    for day in timestamps[1:]:\n",
    "        if not (period_property(day) == period_property(selected[-1])):\n",
    "            selected.append(day)\n",
    "    return selected\n",
    "\n",
    "policies = []\n",
    "for selector in [lambda t: t.day,lambda t: t.week,lambda t: t.month,lambda t: t.quarter,lambda t: t.year]:\n",
    "    policies.append(cp.PeriodicRebalance(target=benchmark, rebalancing_times=select_starts_periods(selector,\n",
    "                                                                                                returns.index)))\n",
    "policies.append(cp.Hold())\n",
    "\n",
    "res = pd.DataFrame(index=['D','W','M','Q','A','H'])\n",
    "for label, fund_val in [('\\$100M',1E8), ('\\$10B',1E10)]:\n",
    "    res[label] = simulator.run_multiple_backtest(fund_val*benchmark, start_time=\"2012-01-01\", \n",
    "                                     end_time=\"2016-12-31\", policies=policies)"
   ]
  },
  {
   "cell_type": "markdown",
   "metadata": {},
   "source": [
    "## Results "
   ]
  },
  {
   "cell_type": "code",
   "execution_count": null,
   "metadata": {
    "collapsed": false
   },
   "outputs": [],
   "source": [
    "table=pd.DataFrame()\n",
    "table[r'Return']=res.applymap(lambda res: 100*res.mean_return).unstack()\n",
    "table[r'Trans. costs']=\\\n",
    "    res.applymap(lambda res: (res.simulator_TcostModel.sum(1)/res.v).mean() * 100 * 250).unstack()\n",
    "table[r'Active risk']= \\\n",
    "res.applymap(lambda res: np.std(returns.loc[returns.index>'2012-01-01'].mean(1) - res.returns)*100*np.sqrt(250)).unstack()\n",
    "\n",
    "table_print=pd.DataFrame(table,copy=True)\n",
    "table_print.ix[:,:]=table_print.ix[:,:].applymap(lambda x: r'%.2f%%'%x )\n",
    "\n",
    "table_print"
   ]
  },
  {
   "cell_type": "code",
   "execution_count": null,
   "metadata": {
    "collapsed": false
   },
   "outputs": [],
   "source": [
    "print(table_print.to_latex(float_format='%.2f', escape=False).replace('%',r'\\%'))"
   ]
  },
  {
   "cell_type": "markdown",
   "metadata": {},
   "source": [
    "# Plots "
   ]
  },
  {
   "cell_type": "code",
   "execution_count": null,
   "metadata": {
    "collapsed": false
   },
   "outputs": [],
   "source": [
    "plt.figure(figsize=(6,4))\n",
    "colors=['k','r']\n",
    "offsetx = 0.0035\n",
    "offsety = 0.04\n",
    "data=table.ix[:,:]\n",
    "\n",
    "for j,initval in enumerate(data.index.levels[0]):\n",
    "    x=data.loc[initval].ix[:,1].values\n",
    "    y=data.loc[initval].ix[:,2].values\n",
    "    line,=plt.plot(x,y, colors[j]+'o', \n",
    "                   markersize=12+j,\n",
    "                   fillstyle='none', \n",
    "                   label='$v_1 = %s\\mathrm{%s}$'%(initval[:-1],initval[-1:]))\n",
    "    for i in range(len(x)):\n",
    "        plt.text(x[i]-offsetx,y[i]-offsety, data.index.levels[1][i],color=colors[j] )\n",
    "\n",
    "\n",
    "plt.legend(loc='upper right')\n",
    "plt.ylabel(r'Active risk')\n",
    "\n",
    "import matplotlib.ticker as mtick\n",
    "ax = plt.gca()\n",
    "ax.xaxis.set_major_formatter(mtick.FormatStrFormatter( '%.2f%%'))\n",
    "ax.yaxis.set_major_formatter(mtick.FormatStrFormatter( '%.1f%%'))\n",
    "\n",
    "plt.xlabel(r'Trans. costs')\n",
    "plt.xlim([-0.01,0.4])\n",
    "#plt.ylim([- 0.5, 14])\n",
    "plt.savefig(plotdir+'basic_frontier.png')"
   ]
  },
  {
   "cell_type": "code",
   "execution_count": null,
   "metadata": {
    "collapsed": false
   },
   "outputs": [],
   "source": [
    "res.loc[:, '\\$10B'].apply(lambda x: 100*x.simulator_TcostModel.sum(1)/x.v).T.ix[:,:-1].plot(figsize=(8,5))\n",
    "import matplotlib.ticker as mtick\n",
    "ax = plt.gca()\n",
    "ax.yaxis.set_major_formatter(mtick.FormatStrFormatter('%.2f%%'))\n",
    "\n",
    "#plt.ylabel(\"$\\phi_t^{\\mathrm{trade}}(z_t)$\",fontsize=20)\n",
    "plt.ylabel(\"Daily trans. cost\")\n",
    "\n",
    "plt.savefig(plotdir+'basic_example_tcost_time.png')"
   ]
  }
 ],
 "metadata": {
  "anaconda-cloud": {},
  "kernelspec": {
   "display_name": "Python [Root]",
   "language": "python",
   "name": "Python [Root]"
  },
  "language_info": {
   "codemirror_mode": {
    "name": "ipython",
    "version": 3
   },
   "file_extension": ".py",
   "mimetype": "text/x-python",
   "name": "python",
   "nbconvert_exporter": "python",
   "pygments_lexer": "ipython3",
   "version": "3.5.2"
  }
 },
 "nbformat": 4,
 "nbformat_minor": 2
}
