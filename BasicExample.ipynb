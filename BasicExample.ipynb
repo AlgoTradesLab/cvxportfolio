{
 "cells": [
  {
   "cell_type": "code",
   "execution_count": 1,
   "metadata": {
    "collapsed": false
   },
   "outputs": [],
   "source": [
    "%load_ext autoreload\n",
    "%autoreload 2\n",
    "%matplotlib inline\n",
    "\n",
    "import pandas as pd\n",
    "import numpy as np\n",
    "import matplotlib.pyplot as plt\n",
    "import cvx_portfolio as cp\n",
    "\n",
    "plotdir = '../portfolio/plots/'"
   ]
  },
  {
   "cell_type": "markdown",
   "metadata": {},
   "source": [
    "## Download data using ee103 code (to be integrated) "
   ]
  },
  {
   "cell_type": "code",
   "execution_count": 2,
   "metadata": {
    "collapsed": true
   },
   "outputs": [],
   "source": [
    "datadir= '../equity_data_tool/'\n",
    "sigmas=pd.read_csv(datadir+'sigmas.txt',index_col=0,parse_dates=[0])\n",
    "returns=pd.read_csv(datadir+'returns.txt',index_col=0,parse_dates=[0])\n",
    "volumes=pd.read_csv(datadir+'volumes.txt',index_col=0,parse_dates=[0])\n",
    "\n",
    "spread = pd.DataFrame(data=2.5*1e-4, index=volumes.index, columns=volumes.columns)\n",
    "nonlin_coeff = pd.DataFrame(data=1, index=volumes.index, columns=volumes.columns) # fix volatility model"
   ]
  },
  {
   "cell_type": "markdown",
   "metadata": {},
   "source": [
    "## Simulations"
   ]
  },
  {
   "cell_type": "code",
   "execution_count": 3,
   "metadata": {
    "collapsed": false
   },
   "outputs": [],
   "source": [
    "simulated_tcost = cp.TcostModel(volumes, sigmas, spread, nonlin_coeff, cash_key='USDOLLAR')\n",
    "simulator = cp.MarketSimulator(returns, volumes, [simulated_tcost], cash_key='USDOLLAR')\n",
    "\n",
    "benchmark = pd.Series(index=returns.columns, data=1)\n",
    "benchmark.USDOLLAR = 0.\n",
    "benchmark/=sum(benchmark)\n",
    "\n",
    "def select_starts_periods(period_property, timestamps):\n",
    "    selected = [timestamps[0]]\n",
    "    for day in timestamps[1:]:\n",
    "        if not (period_property(day) == period_property(selected[-1])):\n",
    "            selected.append(day)\n",
    "    return selected\n",
    "\n",
    "policies = []\n",
    "for selector in [lambda t: t.day,lambda t: t.week,lambda t: t.month,lambda t: t.quarter,lambda t: t.year]:\n",
    "    policies.append(cp.PeriodicRebalance(target=benchmark, rebalancing_times=select_starts_periods(selector,\n",
    "                                                                                                returns.index)))\n",
    "policies.append(cp.Hold())\n",
    "\n",
    "res = pd.DataFrame(index=['Daily','Weekly','Monthly','Quarterly','Annually','Hold'])\n",
    "for label, fund_val in [('\\$100M',1E8), ('\\$10B',1E10)]:\n",
    "    res[label] = simulator.run_multiple_backtest(fund_val*benchmark, start_time=\"2012-01-01\", \n",
    "                                     end_time=\"2016-12-31\", policies=policies)"
   ]
  },
  {
   "cell_type": "markdown",
   "metadata": {},
   "source": [
    "## Results "
   ]
  },
  {
   "cell_type": "code",
   "execution_count": 14,
   "metadata": {
    "collapsed": true
   },
   "outputs": [],
   "source": [
    "benchmark_returns = returns.loc[returns.index>'2012-01-01'].mean(1)"
   ]
  },
  {
   "cell_type": "code",
   "execution_count": 23,
   "metadata": {
    "collapsed": false
   },
   "outputs": [
    {
     "data": {
      "text/html": [
       "<div>\n",
       "<table border=\"1\" class=\"dataframe\">\n",
       "  <thead>\n",
       "    <tr style=\"text-align: right;\">\n",
       "      <th></th>\n",
       "      <th></th>\n",
       "      <th>Active return</th>\n",
       "      <th>Trans. costs</th>\n",
       "      <th>Active risk</th>\n",
       "    </tr>\n",
       "  </thead>\n",
       "  <tbody>\n",
       "    <tr>\n",
       "      <th rowspan=\"6\" valign=\"top\">\\$100M</th>\n",
       "      <th>D</th>\n",
       "      <td>0.03%</td>\n",
       "      <td>0.07%</td>\n",
       "      <td>0.23%</td>\n",
       "    </tr>\n",
       "    <tr>\n",
       "      <th>W</th>\n",
       "      <td>-0.05%</td>\n",
       "      <td>0.04%</td>\n",
       "      <td>0.25%</td>\n",
       "    </tr>\n",
       "    <tr>\n",
       "      <th>M</th>\n",
       "      <td>-0.01%</td>\n",
       "      <td>0.02%</td>\n",
       "      <td>0.32%</td>\n",
       "    </tr>\n",
       "    <tr>\n",
       "      <th>Q</th>\n",
       "      <td>-0.02%</td>\n",
       "      <td>0.02%</td>\n",
       "      <td>0.51%</td>\n",
       "    </tr>\n",
       "    <tr>\n",
       "      <th>A</th>\n",
       "      <td>0.26%</td>\n",
       "      <td>0.01%</td>\n",
       "      <td>0.88%</td>\n",
       "    </tr>\n",
       "    <tr>\n",
       "      <th>H</th>\n",
       "      <td>1.13%</td>\n",
       "      <td>0.00%</td>\n",
       "      <td>2.44%</td>\n",
       "    </tr>\n",
       "    <tr>\n",
       "      <th rowspan=\"6\" valign=\"top\">\\$10B</th>\n",
       "      <th>D</th>\n",
       "      <td>-0.22%</td>\n",
       "      <td>0.33%</td>\n",
       "      <td>0.23%</td>\n",
       "    </tr>\n",
       "    <tr>\n",
       "      <th>W</th>\n",
       "      <td>-0.21%</td>\n",
       "      <td>0.20%</td>\n",
       "      <td>0.25%</td>\n",
       "    </tr>\n",
       "    <tr>\n",
       "      <th>M</th>\n",
       "      <td>-0.14%</td>\n",
       "      <td>0.15%</td>\n",
       "      <td>0.33%</td>\n",
       "    </tr>\n",
       "    <tr>\n",
       "      <th>Q</th>\n",
       "      <td>-0.12%</td>\n",
       "      <td>0.11%</td>\n",
       "      <td>0.51%</td>\n",
       "    </tr>\n",
       "    <tr>\n",
       "      <th>A</th>\n",
       "      <td>0.21%</td>\n",
       "      <td>0.06%</td>\n",
       "      <td>0.88%</td>\n",
       "    </tr>\n",
       "    <tr>\n",
       "      <th>H</th>\n",
       "      <td>1.13%</td>\n",
       "      <td>0.00%</td>\n",
       "      <td>2.44%</td>\n",
       "    </tr>\n",
       "  </tbody>\n",
       "</table>\n",
       "</div>"
      ],
      "text/plain": [
       "         Active return Trans. costs Active risk\n",
       "\\$100M D         0.03%        0.07%       0.23%\n",
       "       W        -0.05%        0.04%       0.25%\n",
       "       M        -0.01%        0.02%       0.32%\n",
       "       Q        -0.02%        0.02%       0.51%\n",
       "       A         0.26%        0.01%       0.88%\n",
       "       H         1.13%        0.00%       2.44%\n",
       "\\$10B  D        -0.22%        0.33%       0.23%\n",
       "       W        -0.21%        0.20%       0.25%\n",
       "       M        -0.14%        0.15%       0.33%\n",
       "       Q        -0.12%        0.11%       0.51%\n",
       "       A         0.21%        0.06%       0.88%\n",
       "       H         1.13%        0.00%       2.44%"
      ]
     },
     "execution_count": 23,
     "metadata": {},
     "output_type": "execute_result"
    }
   ],
   "source": [
    "table=pd.DataFrame()\n",
    "table[r'Active return']=res.applymap(lambda res: 100*250*(res.returns - benchmark_returns).mean()).unstack()\n",
    "table[r'Trans. costs']=\\\n",
    "    res.applymap(lambda res: (res.simulator_TcostModel.sum(1)/res.v).mean() * 100 * 250).unstack()\n",
    "table[r'Active risk']= \\\n",
    "res.applymap(lambda res: np.std(returns.loc[returns.index>'2012-01-01'].mean(1) - res.returns)*100*np.sqrt(250)).unstack()\n",
    "\n",
    "table_print=pd.DataFrame(table,copy=True)\n",
    "table_print.ix[:,:]=table_print.ix[:,:].applymap(lambda x: r'%.2f%%'%x )\n",
    "\n",
    "table_print"
   ]
  },
  {
   "cell_type": "code",
   "execution_count": 5,
   "metadata": {
    "collapsed": false
   },
   "outputs": [
    {
     "name": "stdout",
     "output_type": "stream",
     "text": [
      "\\begin{tabular}{lllll}\n",
      "\\toprule\n",
      "       &   & Return & Trans. costs & Active risk \\\\\n",
      "\\midrule\n",
      "\\$100M & D &  5.42\\% &        0.07\\% &       0.23\\% \\\\\n",
      "       & W &  5.34\\% &        0.04\\% &       0.25\\% \\\\\n",
      "       & M &  5.38\\% &        0.02\\% &       0.32\\% \\\\\n",
      "       & Q &  5.37\\% &        0.02\\% &       0.51\\% \\\\\n",
      "       & A &  5.66\\% &        0.01\\% &       0.88\\% \\\\\n",
      "       & H &  6.53\\% &        0.00\\% &       2.44\\% \\\\\n",
      "\\$10B & D &  5.16\\% &        0.33\\% &       0.23\\% \\\\\n",
      "       & W &  5.18\\% &        0.20\\% &       0.25\\% \\\\\n",
      "       & M &  5.25\\% &        0.15\\% &       0.33\\% \\\\\n",
      "       & Q &  5.27\\% &        0.11\\% &       0.51\\% \\\\\n",
      "       & A &  5.61\\% &        0.06\\% &       0.88\\% \\\\\n",
      "       & H &  6.53\\% &        0.00\\% &       2.44\\% \\\\\n",
      "\\bottomrule\n",
      "\\end{tabular}\n",
      "\n"
     ]
    }
   ],
   "source": [
    "print(table_print.to_latex(float_format='%.2f', escape=False).replace('%',r'\\%'))"
   ]
  },
  {
   "cell_type": "markdown",
   "metadata": {},
   "source": [
    "# Plots "
   ]
  },
  {
   "cell_type": "code",
   "execution_count": 6,
   "metadata": {
    "collapsed": false
   },
   "outputs": [
    {
     "data": {
      "image/png": "[encoded data removed]",
      "text/plain": [
       "<matplotlib.figure.Figure at 0x114cb3c88>"
      ]
     },
     "metadata": {},
     "output_type": "display_data"
    }
   ],
   "source": [
    "plt.figure(figsize=(6,4))\n",
    "colors=['k','r']\n",
    "offsetx = 0.0035\n",
    "offsety = 0.04\n",
    "data=table.ix[:,:]\n",
    "\n",
    "for j,initval in enumerate(data.index.levels[0]):\n",
    "    x=data.loc[initval].ix[:,1].values\n",
    "    y=data.loc[initval].ix[:,2].values\n",
    "    line,=plt.plot(x,y, colors[j]+'o', \n",
    "                   markersize=12+j,\n",
    "                   fillstyle='none', \n",
    "                   label='$v_1 = %s\\mathrm{%s}$'%(initval[:-1],initval[-1:]))\n",
    "    for i in range(len(x)):\n",
    "        plt.text(x[i]-offsetx,y[i]-offsety, data.index.levels[1][i],color=colors[j] )\n",
    "\n",
    "\n",
    "plt.legend(loc='upper right')\n",
    "plt.ylabel(r'Active risk')\n",
    "\n",
    "import matplotlib.ticker as mtick\n",
    "ax = plt.gca()\n",
    "ax.xaxis.set_major_formatter(mtick.FormatStrFormatter( '%.2f%%'))\n",
    "ax.yaxis.set_major_formatter(mtick.FormatStrFormatter( '%.1f%%'))\n",
    "\n",
    "plt.xlabel(r'Trans. costs')\n",
    "plt.xlim([-0.01,0.4])\n",
    "#plt.ylim([- 0.5, 14])\n",
    "plt.savefig(plotdir+'basic_frontier.png')"
   ]
  },
  {
   "cell_type": "code",
   "execution_count": 8,
   "metadata": {
    "collapsed": false
   },
   "outputs": [],
   "source": [
    "# res.loc[:, '\\$10B'].apply(lambda x: 100*x.simulator_TcostModel.sum(1)/x.v).T.ix[:,:-1].plot(figsize=(8,5))\n",
    "# import matplotlib.ticker as mtick\n",
    "# ax = plt.gca()\n",
    "# ax.yaxis.set_major_formatter(mtick.FormatStrFormatter('%.2f%%'))\n",
    "\n",
    "# #plt.ylabel(\"$\\phi_t^{\\mathrm{trade}}(z_t)$\",fontsize=20)\n",
    "# plt.ylabel(\"Daily trans. cost\")\n",
    "\n",
    "# plt.savefig(plotdir+'basic_example_tcost_time.png')"
   ]
  }
 ],
 "metadata": {
  "anaconda-cloud": {},
  "kernelspec": {
   "display_name": "Python [Root]",
   "language": "python",
   "name": "Python [Root]"
  },
  "language_info": {
   "codemirror_mode": {
    "name": "ipython",
    "version": 3
   },
   "file_extension": ".py",
   "mimetype": "text/x-python",
   "name": "python",
   "nbconvert_exporter": "python",
   "pygments_lexer": "ipython3",
   "version": "3.5.2"
  }
 },
 "nbformat": 4,
 "nbformat_minor": 2
}
