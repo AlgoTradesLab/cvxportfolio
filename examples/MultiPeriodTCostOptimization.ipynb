{
 "cells": [
  {
   "cell_type": "code",
   "execution_count": 1,
   "metadata": {},
   "outputs": [],
   "source": [
    "import os\n",
    "import sys\n",
    "\n",
    "sys.path.insert(0, os.path.abspath(\"..\"))"
   ]
  },
  {
   "cell_type": "code",
   "execution_count": 2,
   "metadata": {},
   "outputs": [],
   "source": [
    "%matplotlib inline\n",
    "import pandas as pd\n",
    "import cvxportfolio as cp"
   ]
  },
  {
   "cell_type": "code",
   "execution_count": 3,
   "metadata": {},
   "outputs": [
    {
     "name": "stdout",
     "output_type": "stream",
     "text": [
      "\u001b[33mDEPRECATION: Configuring installation scheme with distutils config files is deprecated and will no longer work in the near future. If you are using a Homebrew or Linuxbrew Python, please see discussion at https://github.com/Homebrew/homebrew-core/issues/76621\u001b[0m\u001b[33m\n",
      "\u001b[0mRequirement already satisfied: yfinance in /usr/local/lib/python3.9/site-packages (0.2.14)\n",
      "Requirement already satisfied: pandas_datareader in /usr/local/lib/python3.9/site-packages (0.10.0)\n",
      "Requirement already satisfied: multitasking>=0.0.7 in /usr/local/lib/python3.9/site-packages (from yfinance) (0.0.11)\n",
      "Requirement already satisfied: appdirs>=1.4.4 in /usr/local/lib/python3.9/site-packages (from yfinance) (1.4.4)\n",
      "Requirement already satisfied: pytz>=2022.5 in /usr/local/lib/python3.9/site-packages (from yfinance) (2023.3)\n",
      "Requirement already satisfied: pandas>=1.3.0 in /usr/local/lib/python3.9/site-packages (from yfinance) (1.4.2)\n",
      "Requirement already satisfied: numpy>=1.16.5 in /usr/local/lib/python3.9/site-packages (from yfinance) (1.20.3)\n",
      "Requirement already satisfied: html5lib>=1.1 in /usr/local/lib/python3.9/site-packages (from yfinance) (1.1)\n",
      "Requirement already satisfied: lxml>=4.9.1 in /usr/local/lib/python3.9/site-packages (from yfinance) (4.9.2)\n",
      "Requirement already satisfied: requests>=2.26 in /usr/local/lib/python3.9/site-packages (from yfinance) (2.28.2)\n",
      "Requirement already satisfied: frozendict>=2.3.4 in /usr/local/lib/python3.9/site-packages (from yfinance) (2.3.6)\n",
      "Requirement already satisfied: cryptography>=3.3.2 in /usr/local/lib/python3.9/site-packages (from yfinance) (40.0.1)\n",
      "Requirement already satisfied: beautifulsoup4>=4.11.1 in /usr/local/lib/python3.9/site-packages (from yfinance) (4.12.2)\n",
      "Requirement already satisfied: soupsieve>1.2 in /usr/local/lib/python3.9/site-packages (from beautifulsoup4>=4.11.1->yfinance) (2.4)\n",
      "Requirement already satisfied: cffi>=1.12 in /usr/local/lib/python3.9/site-packages (from cryptography>=3.3.2->yfinance) (1.15.1)\n",
      "Requirement already satisfied: webencodings in /usr/local/lib/python3.9/site-packages (from html5lib>=1.1->yfinance) (0.5.1)\n",
      "Requirement already satisfied: six>=1.9 in /usr/local/lib/python3.9/site-packages (from html5lib>=1.1->yfinance) (1.16.0)\n",
      "Requirement already satisfied: python-dateutil>=2.8.1 in /usr/local/lib/python3.9/site-packages (from pandas>=1.3.0->yfinance) (2.8.2)\n",
      "Requirement already satisfied: idna<4,>=2.5 in /usr/local/lib/python3.9/site-packages (from requests>=2.26->yfinance) (2.10)\n",
      "Requirement already satisfied: urllib3<1.27,>=1.21.1 in /usr/local/lib/python3.9/site-packages (from requests>=2.26->yfinance) (1.26.5)\n",
      "Requirement already satisfied: certifi>=2017.4.17 in /usr/local/lib/python3.9/site-packages (from requests>=2.26->yfinance) (2020.12.5)\n",
      "Requirement already satisfied: charset-normalizer<4,>=2 in /usr/local/lib/python3.9/site-packages (from requests>=2.26->yfinance) (3.1.0)\n",
      "Requirement already satisfied: pycparser in /usr/local/lib/python3.9/site-packages (from cffi>=1.12->cryptography>=3.3.2->yfinance) (2.21)\n",
      "\u001b[33mDEPRECATION: Configuring installation scheme with distutils config files is deprecated and will no longer work in the near future. If you are using a Homebrew or Linuxbrew Python, please see discussion at https://github.com/Homebrew/homebrew-core/issues/76621\u001b[0m\u001b[33m\n",
      "\u001b[0m"
     ]
    }
   ],
   "source": [
    "!pip install yfinance pandas_datareader"
   ]
  },
  {
   "cell_type": "markdown",
   "metadata": {},
   "source": [
    "Download the problem data with `yfinance`. We select five liquid stocks."
   ]
  },
  {
   "cell_type": "code",
   "execution_count": 4,
   "metadata": {},
   "outputs": [
    {
     "name": "stdout",
     "output_type": "stream",
     "text": [
      "[*********************100%***********************]  1 of 1 completed\n",
      "[*********************100%***********************]  1 of 1 completed\n",
      "[*********************100%***********************]  1 of 1 completed\n",
      "[*********************100%***********************]  1 of 1 completed\n",
      "[*********************100%***********************]  1 of 1 completed\n"
     ]
    }
   ],
   "source": [
    "import yfinance\n",
    "tickers = [\"AMZN\", \"AAPL\", \"MSFT\", \"GOOGL\", \"TSLA\"]\n",
    "data = {ticker: yfinance.download(ticker) for ticker in tickers}"
   ]
  },
  {
   "cell_type": "code",
   "execution_count": 5,
   "metadata": {},
   "outputs": [],
   "source": [
    "returns = pd.DataFrame({ticker: data[ticker]['Adj Close'].pct_change() for ticker in tickers})\n",
    "volumes = pd.DataFrame({ticker: data[ticker]['Volume'] * data[ticker]['Close'] for ticker in tickers})"
   ]
  },
  {
   "cell_type": "code",
   "execution_count": 6,
   "metadata": {},
   "outputs": [
    {
     "data": {
      "text/html": [
       "<div>\n",
       "<style scoped>\n",
       "    .dataframe tbody tr th:only-of-type {\n",
       "        vertical-align: middle;\n",
       "    }\n",
       "\n",
       "    .dataframe tbody tr th {\n",
       "        vertical-align: top;\n",
       "    }\n",
       "\n",
       "    .dataframe thead th {\n",
       "        text-align: right;\n",
       "    }\n",
       "</style>\n",
       "<table border=\"1\" class=\"dataframe\">\n",
       "  <thead>\n",
       "    <tr style=\"text-align: right;\">\n",
       "      <th></th>\n",
       "      <th>AMZN</th>\n",
       "      <th>AAPL</th>\n",
       "      <th>MSFT</th>\n",
       "      <th>GOOGL</th>\n",
       "      <th>TSLA</th>\n",
       "    </tr>\n",
       "  </thead>\n",
       "  <tbody>\n",
       "    <tr>\n",
       "      <th>count</th>\n",
       "      <td>6516.000000</td>\n",
       "      <td>10668.000000</td>\n",
       "      <td>9342.000000</td>\n",
       "      <td>4690.000000</td>\n",
       "      <td>3215.000000</td>\n",
       "    </tr>\n",
       "    <tr>\n",
       "      <th>mean</th>\n",
       "      <td>0.001706</td>\n",
       "      <td>0.001100</td>\n",
       "      <td>0.001136</td>\n",
       "      <td>0.000991</td>\n",
       "      <td>0.002130</td>\n",
       "    </tr>\n",
       "    <tr>\n",
       "      <th>std</th>\n",
       "      <td>0.036090</td>\n",
       "      <td>0.028219</td>\n",
       "      <td>0.021318</td>\n",
       "      <td>0.019436</td>\n",
       "      <td>0.036154</td>\n",
       "    </tr>\n",
       "    <tr>\n",
       "      <th>min</th>\n",
       "      <td>-0.247661</td>\n",
       "      <td>-0.518692</td>\n",
       "      <td>-0.301159</td>\n",
       "      <td>-0.116341</td>\n",
       "      <td>-0.210628</td>\n",
       "    </tr>\n",
       "    <tr>\n",
       "      <th>25%</th>\n",
       "      <td>-0.013288</td>\n",
       "      <td>-0.013062</td>\n",
       "      <td>-0.009217</td>\n",
       "      <td>-0.007982</td>\n",
       "      <td>-0.015604</td>\n",
       "    </tr>\n",
       "    <tr>\n",
       "      <th>50%</th>\n",
       "      <td>0.000402</td>\n",
       "      <td>0.000000</td>\n",
       "      <td>0.000352</td>\n",
       "      <td>0.000755</td>\n",
       "      <td>0.001221</td>\n",
       "    </tr>\n",
       "    <tr>\n",
       "      <th>75%</th>\n",
       "      <td>0.014802</td>\n",
       "      <td>0.014705</td>\n",
       "      <td>0.011358</td>\n",
       "      <td>0.010082</td>\n",
       "      <td>0.019391</td>\n",
       "    </tr>\n",
       "    <tr>\n",
       "      <th>max</th>\n",
       "      <td>0.344714</td>\n",
       "      <td>0.332281</td>\n",
       "      <td>0.195653</td>\n",
       "      <td>0.199915</td>\n",
       "      <td>0.243951</td>\n",
       "    </tr>\n",
       "  </tbody>\n",
       "</table>\n",
       "</div>"
      ],
      "text/plain": [
       "              AMZN          AAPL         MSFT        GOOGL         TSLA\n",
       "count  6516.000000  10668.000000  9342.000000  4690.000000  3215.000000\n",
       "mean      0.001706      0.001100     0.001136     0.000991     0.002130\n",
       "std       0.036090      0.028219     0.021318     0.019436     0.036154\n",
       "min      -0.247661     -0.518692    -0.301159    -0.116341    -0.210628\n",
       "25%      -0.013288     -0.013062    -0.009217    -0.007982    -0.015604\n",
       "50%       0.000402      0.000000     0.000352     0.000755     0.001221\n",
       "75%       0.014802      0.014705     0.011358     0.010082     0.019391\n",
       "max       0.344714      0.332281     0.195653     0.199915     0.243951"
      ]
     },
     "execution_count": 6,
     "metadata": {},
     "output_type": "execute_result"
    }
   ],
   "source": [
    "returns.describe()"
   ]
  },
  {
   "cell_type": "code",
   "execution_count": 7,
   "metadata": {},
   "outputs": [
    {
     "data": {
      "text/html": [
       "<div>\n",
       "<style scoped>\n",
       "    .dataframe tbody tr th:only-of-type {\n",
       "        vertical-align: middle;\n",
       "    }\n",
       "\n",
       "    .dataframe tbody tr th {\n",
       "        vertical-align: top;\n",
       "    }\n",
       "\n",
       "    .dataframe thead th {\n",
       "        text-align: right;\n",
       "    }\n",
       "</style>\n",
       "<table border=\"1\" class=\"dataframe\">\n",
       "  <thead>\n",
       "    <tr style=\"text-align: right;\">\n",
       "      <th></th>\n",
       "      <th>AMZN</th>\n",
       "      <th>AAPL</th>\n",
       "      <th>MSFT</th>\n",
       "      <th>GOOGL</th>\n",
       "      <th>TSLA</th>\n",
       "    </tr>\n",
       "  </thead>\n",
       "  <tbody>\n",
       "    <tr>\n",
       "      <th>count</th>\n",
       "      <td>6.517000e+03</td>\n",
       "      <td>1.066900e+04</td>\n",
       "      <td>9.343000e+03</td>\n",
       "      <td>4.691000e+03</td>\n",
       "      <td>3.216000e+03</td>\n",
       "    </tr>\n",
       "    <tr>\n",
       "      <th>mean</th>\n",
       "      <td>2.725410e+09</td>\n",
       "      <td>2.922022e+09</td>\n",
       "      <td>1.899162e+09</td>\n",
       "      <td>2.294151e+09</td>\n",
       "      <td>6.461023e+09</td>\n",
       "    </tr>\n",
       "    <tr>\n",
       "      <th>std</th>\n",
       "      <td>4.255222e+09</td>\n",
       "      <td>4.519733e+09</td>\n",
       "      <td>2.263382e+09</td>\n",
       "      <td>1.494585e+09</td>\n",
       "      <td>1.055820e+10</td>\n",
       "    </tr>\n",
       "    <tr>\n",
       "      <th>min</th>\n",
       "      <td>8.935645e+05</td>\n",
       "      <td>0.000000e+00</td>\n",
       "      <td>2.348990e+05</td>\n",
       "      <td>2.079860e+08</td>\n",
       "      <td>2.470725e+06</td>\n",
       "    </tr>\n",
       "    <tr>\n",
       "      <th>25%</th>\n",
       "      <td>3.092570e+08</td>\n",
       "      <td>4.958471e+07</td>\n",
       "      <td>3.193753e+08</td>\n",
       "      <td>1.304535e+09</td>\n",
       "      <td>5.732500e+08</td>\n",
       "    </tr>\n",
       "    <tr>\n",
       "      <th>50%</th>\n",
       "      <td>8.026035e+08</td>\n",
       "      <td>1.832336e+08</td>\n",
       "      <td>1.391419e+09</td>\n",
       "      <td>1.873122e+09</td>\n",
       "      <td>1.519953e+09</td>\n",
       "    </tr>\n",
       "    <tr>\n",
       "      <th>75%</th>\n",
       "      <td>2.889868e+09</td>\n",
       "      <td>4.653319e+09</td>\n",
       "      <td>2.209604e+09</td>\n",
       "      <td>2.808775e+09</td>\n",
       "      <td>7.866425e+09</td>\n",
       "    </tr>\n",
       "    <tr>\n",
       "      <th>max</th>\n",
       "      <td>3.995468e+10</td>\n",
       "      <td>4.353884e+10</td>\n",
       "      <td>2.683116e+10</td>\n",
       "      <td>1.823360e+10</td>\n",
       "      <td>1.543777e+11</td>\n",
       "    </tr>\n",
       "  </tbody>\n",
       "</table>\n",
       "</div>"
      ],
      "text/plain": [
       "               AMZN          AAPL          MSFT         GOOGL          TSLA\n",
       "count  6.517000e+03  1.066900e+04  9.343000e+03  4.691000e+03  3.216000e+03\n",
       "mean   2.725410e+09  2.922022e+09  1.899162e+09  2.294151e+09  6.461023e+09\n",
       "std    4.255222e+09  4.519733e+09  2.263382e+09  1.494585e+09  1.055820e+10\n",
       "min    8.935645e+05  0.000000e+00  2.348990e+05  2.079860e+08  2.470725e+06\n",
       "25%    3.092570e+08  4.958471e+07  3.193753e+08  1.304535e+09  5.732500e+08\n",
       "50%    8.026035e+08  1.832336e+08  1.391419e+09  1.873122e+09  1.519953e+09\n",
       "75%    2.889868e+09  4.653319e+09  2.209604e+09  2.808775e+09  7.866425e+09\n",
       "max    3.995468e+10  4.353884e+10  2.683116e+10  1.823360e+10  1.543777e+11"
      ]
     },
     "execution_count": 7,
     "metadata": {},
     "output_type": "execute_result"
    }
   ],
   "source": [
    "volumes.describe()"
   ]
  },
  {
   "cell_type": "markdown",
   "metadata": {},
   "source": [
    "We get the return on cash from FRED."
   ]
  },
  {
   "cell_type": "code",
   "execution_count": 8,
   "metadata": {},
   "outputs": [
    {
     "data": {
      "text/html": [
       "<div>\n",
       "<style scoped>\n",
       "    .dataframe tbody tr th:only-of-type {\n",
       "        vertical-align: middle;\n",
       "    }\n",
       "\n",
       "    .dataframe tbody tr th {\n",
       "        vertical-align: top;\n",
       "    }\n",
       "\n",
       "    .dataframe thead th {\n",
       "        text-align: right;\n",
       "    }\n",
       "</style>\n",
       "<table border=\"1\" class=\"dataframe\">\n",
       "  <thead>\n",
       "    <tr style=\"text-align: right;\">\n",
       "      <th></th>\n",
       "      <th>AMZN</th>\n",
       "      <th>AAPL</th>\n",
       "      <th>MSFT</th>\n",
       "      <th>GOOGL</th>\n",
       "      <th>TSLA</th>\n",
       "      <th>USDOLLAR</th>\n",
       "    </tr>\n",
       "    <tr>\n",
       "      <th>Date</th>\n",
       "      <th></th>\n",
       "      <th></th>\n",
       "      <th></th>\n",
       "      <th></th>\n",
       "      <th></th>\n",
       "      <th></th>\n",
       "    </tr>\n",
       "  </thead>\n",
       "  <tbody>\n",
       "    <tr>\n",
       "      <th>2023-03-31</th>\n",
       "      <td>0.012647</td>\n",
       "      <td>0.015644</td>\n",
       "      <td>0.014962</td>\n",
       "      <td>0.028150</td>\n",
       "      <td>0.062372</td>\n",
       "      <td>0.000193</td>\n",
       "    </tr>\n",
       "    <tr>\n",
       "      <th>2023-04-03</th>\n",
       "      <td>-0.008520</td>\n",
       "      <td>0.007702</td>\n",
       "      <td>-0.003711</td>\n",
       "      <td>0.006073</td>\n",
       "      <td>-0.061168</td>\n",
       "      <td>0.000193</td>\n",
       "    </tr>\n",
       "    <tr>\n",
       "      <th>2023-04-04</th>\n",
       "      <td>0.015038</td>\n",
       "      <td>-0.003250</td>\n",
       "      <td>-0.000174</td>\n",
       "      <td>0.003450</td>\n",
       "      <td>-0.011244</td>\n",
       "      <td>0.000193</td>\n",
       "    </tr>\n",
       "    <tr>\n",
       "      <th>2023-04-05</th>\n",
       "      <td>-0.027417</td>\n",
       "      <td>-0.011290</td>\n",
       "      <td>-0.009889</td>\n",
       "      <td>-0.002387</td>\n",
       "      <td>-0.036660</td>\n",
       "      <td>0.000193</td>\n",
       "    </tr>\n",
       "    <tr>\n",
       "      <th>2023-04-06</th>\n",
       "      <td>0.009496</td>\n",
       "      <td>0.005496</td>\n",
       "      <td>0.025533</td>\n",
       "      <td>0.037810</td>\n",
       "      <td>-0.002480</td>\n",
       "      <td>0.000193</td>\n",
       "    </tr>\n",
       "  </tbody>\n",
       "</table>\n",
       "</div>"
      ],
      "text/plain": [
       "                AMZN      AAPL      MSFT     GOOGL      TSLA  USDOLLAR\n",
       "Date                                                                  \n",
       "2023-03-31  0.012647  0.015644  0.014962  0.028150  0.062372  0.000193\n",
       "2023-04-03 -0.008520  0.007702 -0.003711  0.006073 -0.061168  0.000193\n",
       "2023-04-04  0.015038 -0.003250 -0.000174  0.003450 -0.011244  0.000193\n",
       "2023-04-05 -0.027417 -0.011290 -0.009889 -0.002387 -0.036660  0.000193\n",
       "2023-04-06  0.009496  0.005496  0.025533  0.037810 -0.002480  0.000193"
      ]
     },
     "execution_count": 8,
     "metadata": {},
     "output_type": "execute_result"
    }
   ],
   "source": [
    "import pandas_datareader\n",
    "\n",
    "returns[[\"USDOLLAR\"]] =  pandas_datareader.get_data_fred(\"DFF\", start='2000-01-01') / (250 * 100)\n",
    "returns = returns.fillna(method=\"ffill\").dropna()\n",
    "\n",
    "returns.tail()"
   ]
  },
  {
   "cell_type": "markdown",
   "metadata": {},
   "source": [
    "We compute rolling estimates of the first and second moments of the returns using a window of 1000 days. We shift them by one unit (so at every day we present the optimizer with only past data)."
   ]
  },
  {
   "cell_type": "code",
   "execution_count": 9,
   "metadata": {},
   "outputs": [
    {
     "data": {
      "text/html": [
       "<div>\n",
       "<style scoped>\n",
       "    .dataframe tbody tr th:only-of-type {\n",
       "        vertical-align: middle;\n",
       "    }\n",
       "\n",
       "    .dataframe tbody tr th {\n",
       "        vertical-align: top;\n",
       "    }\n",
       "\n",
       "    .dataframe thead th {\n",
       "        text-align: right;\n",
       "    }\n",
       "</style>\n",
       "<table border=\"1\" class=\"dataframe\">\n",
       "  <thead>\n",
       "    <tr style=\"text-align: right;\">\n",
       "      <th></th>\n",
       "      <th>AMZN</th>\n",
       "      <th>AAPL</th>\n",
       "      <th>MSFT</th>\n",
       "      <th>GOOGL</th>\n",
       "      <th>TSLA</th>\n",
       "      <th>USDOLLAR</th>\n",
       "    </tr>\n",
       "    <tr>\n",
       "      <th>Date</th>\n",
       "      <th></th>\n",
       "      <th></th>\n",
       "      <th></th>\n",
       "      <th></th>\n",
       "      <th></th>\n",
       "      <th></th>\n",
       "    </tr>\n",
       "  </thead>\n",
       "  <tbody>\n",
       "    <tr>\n",
       "      <th>2014-06-20</th>\n",
       "      <td>0.001314</td>\n",
       "      <td>0.001108</td>\n",
       "      <td>0.000786</td>\n",
       "      <td>0.001036</td>\n",
       "      <td>0.002961</td>\n",
       "      <td>0.000005</td>\n",
       "    </tr>\n",
       "    <tr>\n",
       "      <th>2014-06-23</th>\n",
       "      <td>0.001300</td>\n",
       "      <td>0.001116</td>\n",
       "      <td>0.000803</td>\n",
       "      <td>0.001059</td>\n",
       "      <td>0.002971</td>\n",
       "      <td>0.000005</td>\n",
       "    </tr>\n",
       "    <tr>\n",
       "      <th>2014-06-24</th>\n",
       "      <td>0.001293</td>\n",
       "      <td>0.001127</td>\n",
       "      <td>0.000804</td>\n",
       "      <td>0.001085</td>\n",
       "      <td>0.003083</td>\n",
       "      <td>0.000005</td>\n",
       "    </tr>\n",
       "    <tr>\n",
       "      <th>2014-06-25</th>\n",
       "      <td>0.001300</td>\n",
       "      <td>0.001127</td>\n",
       "      <td>0.000794</td>\n",
       "      <td>0.001089</td>\n",
       "      <td>0.003189</td>\n",
       "      <td>0.000005</td>\n",
       "    </tr>\n",
       "    <tr>\n",
       "      <th>2014-06-26</th>\n",
       "      <td>0.001302</td>\n",
       "      <td>0.001121</td>\n",
       "      <td>0.000777</td>\n",
       "      <td>0.001113</td>\n",
       "      <td>0.003368</td>\n",
       "      <td>0.000005</td>\n",
       "    </tr>\n",
       "    <tr>\n",
       "      <th>...</th>\n",
       "      <td>...</td>\n",
       "      <td>...</td>\n",
       "      <td>...</td>\n",
       "      <td>...</td>\n",
       "      <td>...</td>\n",
       "      <td>...</td>\n",
       "    </tr>\n",
       "    <tr>\n",
       "      <th>2023-03-31</th>\n",
       "      <td>0.000361</td>\n",
       "      <td>0.001441</td>\n",
       "      <td>0.001107</td>\n",
       "      <td>0.000732</td>\n",
       "      <td>0.003286</td>\n",
       "      <td>0.000048</td>\n",
       "    </tr>\n",
       "    <tr>\n",
       "      <th>2023-04-03</th>\n",
       "      <td>0.000376</td>\n",
       "      <td>0.001465</td>\n",
       "      <td>0.001121</td>\n",
       "      <td>0.000758</td>\n",
       "      <td>0.003376</td>\n",
       "      <td>0.000048</td>\n",
       "    </tr>\n",
       "    <tr>\n",
       "      <th>2023-04-04</th>\n",
       "      <td>0.000368</td>\n",
       "      <td>0.001473</td>\n",
       "      <td>0.001112</td>\n",
       "      <td>0.000753</td>\n",
       "      <td>0.003317</td>\n",
       "      <td>0.000048</td>\n",
       "    </tr>\n",
       "    <tr>\n",
       "      <th>2023-04-05</th>\n",
       "      <td>0.000382</td>\n",
       "      <td>0.001468</td>\n",
       "      <td>0.001111</td>\n",
       "      <td>0.000753</td>\n",
       "      <td>0.003311</td>\n",
       "      <td>0.000048</td>\n",
       "    </tr>\n",
       "    <tr>\n",
       "      <th>2023-04-06</th>\n",
       "      <td>0.000345</td>\n",
       "      <td>0.001456</td>\n",
       "      <td>0.001104</td>\n",
       "      <td>0.000747</td>\n",
       "      <td>0.003248</td>\n",
       "      <td>0.000048</td>\n",
       "    </tr>\n",
       "  </tbody>\n",
       "</table>\n",
       "<p>2215 rows × 6 columns</p>\n",
       "</div>"
      ],
      "text/plain": [
       "                AMZN      AAPL      MSFT     GOOGL      TSLA  USDOLLAR\n",
       "Date                                                                  \n",
       "2014-06-20  0.001314  0.001108  0.000786  0.001036  0.002961  0.000005\n",
       "2014-06-23  0.001300  0.001116  0.000803  0.001059  0.002971  0.000005\n",
       "2014-06-24  0.001293  0.001127  0.000804  0.001085  0.003083  0.000005\n",
       "2014-06-25  0.001300  0.001127  0.000794  0.001089  0.003189  0.000005\n",
       "2014-06-26  0.001302  0.001121  0.000777  0.001113  0.003368  0.000005\n",
       "...              ...       ...       ...       ...       ...       ...\n",
       "2023-03-31  0.000361  0.001441  0.001107  0.000732  0.003286  0.000048\n",
       "2023-04-03  0.000376  0.001465  0.001121  0.000758  0.003376  0.000048\n",
       "2023-04-04  0.000368  0.001473  0.001112  0.000753  0.003317  0.000048\n",
       "2023-04-05  0.000382  0.001468  0.001111  0.000753  0.003311  0.000048\n",
       "2023-04-06  0.000345  0.001456  0.001104  0.000747  0.003248  0.000048\n",
       "\n",
       "[2215 rows x 6 columns]"
      ]
     },
     "execution_count": 9,
     "metadata": {},
     "output_type": "execute_result"
    }
   ],
   "source": [
    "r_hat = returns.rolling(window=1000).mean().shift(1).dropna()\n",
    "Sigma_hat = returns.shift(1).rolling(window=1000).cov().dropna()\n",
    "\n",
    "r_hat"
   ]
  },
  {
   "cell_type": "code",
   "execution_count": 10,
   "metadata": {},
   "outputs": [
    {
     "data": {
      "text/html": [
       "<div>\n",
       "<style scoped>\n",
       "    .dataframe tbody tr th:only-of-type {\n",
       "        vertical-align: middle;\n",
       "    }\n",
       "\n",
       "    .dataframe tbody tr th {\n",
       "        vertical-align: top;\n",
       "    }\n",
       "\n",
       "    .dataframe thead th {\n",
       "        text-align: right;\n",
       "    }\n",
       "</style>\n",
       "<table border=\"1\" class=\"dataframe\">\n",
       "  <thead>\n",
       "    <tr style=\"text-align: right;\">\n",
       "      <th></th>\n",
       "      <th></th>\n",
       "      <th>AMZN</th>\n",
       "      <th>AAPL</th>\n",
       "      <th>MSFT</th>\n",
       "      <th>GOOGL</th>\n",
       "      <th>TSLA</th>\n",
       "      <th>USDOLLAR</th>\n",
       "    </tr>\n",
       "    <tr>\n",
       "      <th>Date</th>\n",
       "      <th></th>\n",
       "      <th></th>\n",
       "      <th></th>\n",
       "      <th></th>\n",
       "      <th></th>\n",
       "      <th></th>\n",
       "      <th></th>\n",
       "    </tr>\n",
       "  </thead>\n",
       "  <tbody>\n",
       "    <tr>\n",
       "      <th rowspan=\"5\" valign=\"top\">2014-06-20</th>\n",
       "      <th>AMZN</th>\n",
       "      <td>4.237160e-04</td>\n",
       "      <td>1.014460e-04</td>\n",
       "      <td>9.996409e-05</td>\n",
       "      <td>1.531471e-04</td>\n",
       "      <td>2.003648e-04</td>\n",
       "      <td>9.720131e-10</td>\n",
       "    </tr>\n",
       "    <tr>\n",
       "      <th>AAPL</th>\n",
       "      <td>1.014460e-04</td>\n",
       "      <td>2.841138e-04</td>\n",
       "      <td>7.152258e-05</td>\n",
       "      <td>1.037273e-04</td>\n",
       "      <td>1.220262e-04</td>\n",
       "      <td>-6.378204e-10</td>\n",
       "    </tr>\n",
       "    <tr>\n",
       "      <th>MSFT</th>\n",
       "      <td>9.996409e-05</td>\n",
       "      <td>7.152258e-05</td>\n",
       "      <td>1.983344e-04</td>\n",
       "      <td>8.818655e-05</td>\n",
       "      <td>1.074347e-04</td>\n",
       "      <td>-7.019039e-10</td>\n",
       "    </tr>\n",
       "    <tr>\n",
       "      <th>GOOGL</th>\n",
       "      <td>1.531471e-04</td>\n",
       "      <td>1.037273e-04</td>\n",
       "      <td>8.818655e-05</td>\n",
       "      <td>2.528908e-04</td>\n",
       "      <td>1.364906e-04</td>\n",
       "      <td>2.541239e-10</td>\n",
       "    </tr>\n",
       "    <tr>\n",
       "      <th>TSLA</th>\n",
       "      <td>2.003648e-04</td>\n",
       "      <td>1.220262e-04</td>\n",
       "      <td>1.074347e-04</td>\n",
       "      <td>1.364906e-04</td>\n",
       "      <td>1.424632e-03</td>\n",
       "      <td>-6.411383e-10</td>\n",
       "    </tr>\n",
       "    <tr>\n",
       "      <th>...</th>\n",
       "      <th>...</th>\n",
       "      <td>...</td>\n",
       "      <td>...</td>\n",
       "      <td>...</td>\n",
       "      <td>...</td>\n",
       "      <td>...</td>\n",
       "      <td>...</td>\n",
       "    </tr>\n",
       "    <tr>\n",
       "      <th rowspan=\"5\" valign=\"top\">2023-04-06</th>\n",
       "      <th>AAPL</th>\n",
       "      <td>3.195569e-04</td>\n",
       "      <td>4.661096e-04</td>\n",
       "      <td>3.415261e-04</td>\n",
       "      <td>3.155695e-04</td>\n",
       "      <td>4.703270e-04</td>\n",
       "      <td>-1.379739e-08</td>\n",
       "    </tr>\n",
       "    <tr>\n",
       "      <th>MSFT</th>\n",
       "      <td>3.274857e-04</td>\n",
       "      <td>3.415261e-04</td>\n",
       "      <td>4.113644e-04</td>\n",
       "      <td>3.398829e-04</td>\n",
       "      <td>4.169270e-04</td>\n",
       "      <td>3.710392e-09</td>\n",
       "    </tr>\n",
       "    <tr>\n",
       "      <th>GOOGL</th>\n",
       "      <td>3.208216e-04</td>\n",
       "      <td>3.155695e-04</td>\n",
       "      <td>3.398829e-04</td>\n",
       "      <td>4.366007e-04</td>\n",
       "      <td>3.822836e-04</td>\n",
       "      <td>-2.227037e-08</td>\n",
       "    </tr>\n",
       "    <tr>\n",
       "      <th>TSLA</th>\n",
       "      <td>4.526107e-04</td>\n",
       "      <td>4.703270e-04</td>\n",
       "      <td>4.169270e-04</td>\n",
       "      <td>3.822836e-04</td>\n",
       "      <td>1.854000e-03</td>\n",
       "      <td>-1.129021e-07</td>\n",
       "    </tr>\n",
       "    <tr>\n",
       "      <th>USDOLLAR</th>\n",
       "      <td>-2.052149e-08</td>\n",
       "      <td>-1.379739e-08</td>\n",
       "      <td>3.710392e-09</td>\n",
       "      <td>-2.227037e-08</td>\n",
       "      <td>-1.129021e-07</td>\n",
       "      <td>3.227362e-09</td>\n",
       "    </tr>\n",
       "  </tbody>\n",
       "</table>\n",
       "<p>13290 rows × 6 columns</p>\n",
       "</div>"
      ],
      "text/plain": [
       "                             AMZN          AAPL          MSFT         GOOGL  \\\n",
       "Date                                                                          \n",
       "2014-06-20 AMZN      4.237160e-04  1.014460e-04  9.996409e-05  1.531471e-04   \n",
       "           AAPL      1.014460e-04  2.841138e-04  7.152258e-05  1.037273e-04   \n",
       "           MSFT      9.996409e-05  7.152258e-05  1.983344e-04  8.818655e-05   \n",
       "           GOOGL     1.531471e-04  1.037273e-04  8.818655e-05  2.528908e-04   \n",
       "           TSLA      2.003648e-04  1.220262e-04  1.074347e-04  1.364906e-04   \n",
       "...                           ...           ...           ...           ...   \n",
       "2023-04-06 AAPL      3.195569e-04  4.661096e-04  3.415261e-04  3.155695e-04   \n",
       "           MSFT      3.274857e-04  3.415261e-04  4.113644e-04  3.398829e-04   \n",
       "           GOOGL     3.208216e-04  3.155695e-04  3.398829e-04  4.366007e-04   \n",
       "           TSLA      4.526107e-04  4.703270e-04  4.169270e-04  3.822836e-04   \n",
       "           USDOLLAR -2.052149e-08 -1.379739e-08  3.710392e-09 -2.227037e-08   \n",
       "\n",
       "                             TSLA      USDOLLAR  \n",
       "Date                                             \n",
       "2014-06-20 AMZN      2.003648e-04  9.720131e-10  \n",
       "           AAPL      1.220262e-04 -6.378204e-10  \n",
       "           MSFT      1.074347e-04 -7.019039e-10  \n",
       "           GOOGL     1.364906e-04  2.541239e-10  \n",
       "           TSLA      1.424632e-03 -6.411383e-10  \n",
       "...                           ...           ...  \n",
       "2023-04-06 AAPL      4.703270e-04 -1.379739e-08  \n",
       "           MSFT      4.169270e-04  3.710392e-09  \n",
       "           GOOGL     3.822836e-04 -2.227037e-08  \n",
       "           TSLA      1.854000e-03 -1.129021e-07  \n",
       "           USDOLLAR -1.129021e-07  3.227362e-09  \n",
       "\n",
       "[13290 rows x 6 columns]"
      ]
     },
     "execution_count": 10,
     "metadata": {},
     "output_type": "execute_result"
    }
   ],
   "source": [
    "Sigma_hat"
   ]
  },
  {
   "cell_type": "markdown",
   "metadata": {},
   "source": [
    "For the cash return instead we simply use the previous day's return."
   ]
  },
  {
   "cell_type": "code",
   "execution_count": 11,
   "metadata": {},
   "outputs": [],
   "source": [
    "r_hat['USDOLLAR'] = returns['USDOLLAR'].shift(1)"
   ]
  },
  {
   "cell_type": "markdown",
   "metadata": {},
   "source": [
    "Here we define the transaction cost and holding cost model (sections 2.3 and 2.4 [of the paper](https://web.stanford.edu/~boyd/papers/cvx_portfolio.html)). The data can be expressed \n",
    "as \n",
    "- a scalar (like we're doing here), the same value for all assets and all time periods;\n",
    "- a Pandas Series indexed by the asset names, for asset-specific values; \n",
    "- a Pandas DataFrame indexed by timestamps with asset names as columns, for values that vary by asset and in time."
   ]
  },
  {
   "cell_type": "code",
   "execution_count": 12,
   "metadata": {},
   "outputs": [],
   "source": [
    "sigma = returns.iloc[:,:-1].rolling(window=1000).std().dropna()"
   ]
  },
  {
   "cell_type": "code",
   "execution_count": 13,
   "metadata": {},
   "outputs": [
    {
     "data": {
      "text/html": [
       "<div>\n",
       "<style scoped>\n",
       "    .dataframe tbody tr th:only-of-type {\n",
       "        vertical-align: middle;\n",
       "    }\n",
       "\n",
       "    .dataframe tbody tr th {\n",
       "        vertical-align: top;\n",
       "    }\n",
       "\n",
       "    .dataframe thead th {\n",
       "        text-align: right;\n",
       "    }\n",
       "</style>\n",
       "<table border=\"1\" class=\"dataframe\">\n",
       "  <thead>\n",
       "    <tr style=\"text-align: right;\">\n",
       "      <th></th>\n",
       "      <th>AMZN</th>\n",
       "      <th>AAPL</th>\n",
       "      <th>MSFT</th>\n",
       "      <th>GOOGL</th>\n",
       "      <th>TSLA</th>\n",
       "    </tr>\n",
       "    <tr>\n",
       "      <th>Date</th>\n",
       "      <th></th>\n",
       "      <th></th>\n",
       "      <th></th>\n",
       "      <th></th>\n",
       "      <th></th>\n",
       "    </tr>\n",
       "  </thead>\n",
       "  <tbody>\n",
       "    <tr>\n",
       "      <th>2014-06-19</th>\n",
       "      <td>0.020584</td>\n",
       "      <td>0.016856</td>\n",
       "      <td>0.014083</td>\n",
       "      <td>0.015903</td>\n",
       "      <td>0.037744</td>\n",
       "    </tr>\n",
       "    <tr>\n",
       "      <th>2014-06-20</th>\n",
       "      <td>0.020586</td>\n",
       "      <td>0.016849</td>\n",
       "      <td>0.014077</td>\n",
       "      <td>0.015888</td>\n",
       "      <td>0.037744</td>\n",
       "    </tr>\n",
       "    <tr>\n",
       "      <th>2014-06-23</th>\n",
       "      <td>0.020583</td>\n",
       "      <td>0.016843</td>\n",
       "      <td>0.014077</td>\n",
       "      <td>0.015887</td>\n",
       "      <td>0.037668</td>\n",
       "    </tr>\n",
       "    <tr>\n",
       "      <th>2014-06-24</th>\n",
       "      <td>0.020578</td>\n",
       "      <td>0.016843</td>\n",
       "      <td>0.014078</td>\n",
       "      <td>0.015886</td>\n",
       "      <td>0.037454</td>\n",
       "    </tr>\n",
       "    <tr>\n",
       "      <th>2014-06-25</th>\n",
       "      <td>0.020579</td>\n",
       "      <td>0.016842</td>\n",
       "      <td>0.014061</td>\n",
       "      <td>0.015902</td>\n",
       "      <td>0.037095</td>\n",
       "    </tr>\n",
       "    <tr>\n",
       "      <th>...</th>\n",
       "      <td>...</td>\n",
       "      <td>...</td>\n",
       "      <td>...</td>\n",
       "      <td>...</td>\n",
       "      <td>...</td>\n",
       "    </tr>\n",
       "    <tr>\n",
       "      <th>2023-03-31</th>\n",
       "      <td>0.022911</td>\n",
       "      <td>0.021585</td>\n",
       "      <td>0.020279</td>\n",
       "      <td>0.020897</td>\n",
       "      <td>0.042996</td>\n",
       "    </tr>\n",
       "    <tr>\n",
       "      <th>2023-04-03</th>\n",
       "      <td>0.022912</td>\n",
       "      <td>0.021585</td>\n",
       "      <td>0.020279</td>\n",
       "      <td>0.020895</td>\n",
       "      <td>0.043044</td>\n",
       "    </tr>\n",
       "    <tr>\n",
       "      <th>2023-04-04</th>\n",
       "      <td>0.022917</td>\n",
       "      <td>0.021586</td>\n",
       "      <td>0.020279</td>\n",
       "      <td>0.020895</td>\n",
       "      <td>0.043046</td>\n",
       "    </tr>\n",
       "    <tr>\n",
       "      <th>2023-04-05</th>\n",
       "      <td>0.022932</td>\n",
       "      <td>0.021590</td>\n",
       "      <td>0.020282</td>\n",
       "      <td>0.020895</td>\n",
       "      <td>0.043058</td>\n",
       "    </tr>\n",
       "    <tr>\n",
       "      <th>2023-04-06</th>\n",
       "      <td>0.022934</td>\n",
       "      <td>0.021582</td>\n",
       "      <td>0.020296</td>\n",
       "      <td>0.020927</td>\n",
       "      <td>0.043057</td>\n",
       "    </tr>\n",
       "  </tbody>\n",
       "</table>\n",
       "<p>2216 rows × 5 columns</p>\n",
       "</div>"
      ],
      "text/plain": [
       "                AMZN      AAPL      MSFT     GOOGL      TSLA\n",
       "Date                                                        \n",
       "2014-06-19  0.020584  0.016856  0.014083  0.015903  0.037744\n",
       "2014-06-20  0.020586  0.016849  0.014077  0.015888  0.037744\n",
       "2014-06-23  0.020583  0.016843  0.014077  0.015887  0.037668\n",
       "2014-06-24  0.020578  0.016843  0.014078  0.015886  0.037454\n",
       "2014-06-25  0.020579  0.016842  0.014061  0.015902  0.037095\n",
       "...              ...       ...       ...       ...       ...\n",
       "2023-03-31  0.022911  0.021585  0.020279  0.020897  0.042996\n",
       "2023-04-03  0.022912  0.021585  0.020279  0.020895  0.043044\n",
       "2023-04-04  0.022917  0.021586  0.020279  0.020895  0.043046\n",
       "2023-04-05  0.022932  0.021590  0.020282  0.020895  0.043058\n",
       "2023-04-06  0.022934  0.021582  0.020296  0.020927  0.043057\n",
       "\n",
       "[2216 rows x 5 columns]"
      ]
     },
     "execution_count": 13,
     "metadata": {},
     "output_type": "execute_result"
    }
   ],
   "source": [
    "sigma"
   ]
  },
  {
   "cell_type": "code",
   "execution_count": 56,
   "metadata": {},
   "outputs": [],
   "source": [
    "cp.TcostModel?"
   ]
  },
  {
   "cell_type": "code",
   "execution_count": 57,
   "metadata": {},
   "outputs": [],
   "source": [
    "tcost_model = cp.TcostModel(half_spread=10e-4, nonlin_coeff=1., sigma=sigma, volume=volumes.dropna())\n",
    "hcost_model = cp.HcostModel(borrow_costs=1e-4)"
   ]
  },
  {
   "cell_type": "markdown",
   "metadata": {},
   "source": [
    "We define the single period optimization policy (section 4 [of the paper](https://web.stanford.edu/~boyd/papers/cvx_portfolio.html)). "
   ]
  },
  {
   "cell_type": "code",
   "execution_count": 81,
   "metadata": {},
   "outputs": [],
   "source": [
    "risk_model = cp.FullSigma(Sigma_hat)\n",
    "gamma_risk, gamma_trade, gamma_hold = 5.0, 1.0, 1.0\n",
    "leverage_limit = cp.LeverageLimit(3)\n",
    "\n",
    "terminal_weights = pd.Series(0., returns.columns)\n",
    "terminal_weights['USDOLLAR'] = 1.\n",
    "\n",
    "trading_times = returns.index[returns.index >= '2023-03-01']\n",
    "trading_times = trading_times[trading_times <= '2023-03-31']\n",
    "\n",
    "\n",
    "mpo_policy = cp.MultiPeriodOpt(\n",
    "    trading_times = trading_times,\n",
    "    terminal_weights=terminal_weights, \n",
    "    lookahead_periods=25, # a month\n",
    "    return_forecast=cp.ReturnsForecast(r_hat),\n",
    "    costs=[\n",
    "        gamma_risk * risk_model,\n",
    "        gamma_trade * tcost_model,\n",
    "        gamma_hold * hcost_model,\n",
    "    ],\n",
    "    constraints=[leverage_limit],\n",
    ")"
   ]
  },
  {
   "cell_type": "markdown",
   "metadata": {},
   "source": [
    "We run a backtest, which returns a result object. By calling its summary method we get some basic statistics."
   ]
  },
  {
   "cell_type": "code",
   "execution_count": 82,
   "metadata": {},
   "outputs": [],
   "source": [
    "import numpy as np\n",
    "\n",
    "tw = np.ones(len(tickers)+1)\n",
    "tw[:-1] = -1/(22 * len(tickers))\n",
    "tw[-1] = 0 - sum(tw[:-1])\n",
    "\n",
    "fixedtrade = cp.FixedTrade(tradeweight=pd.Series(tw, returns.columns))"
   ]
  },
  {
   "cell_type": "code",
   "execution_count": 83,
   "metadata": {},
   "outputs": [
    {
     "name": "stderr",
     "output_type": "stream",
     "text": [
      "/usr/local/lib/python3.9/site-packages/cvxpy/problems/problem.py:1385: UserWarning: Solution may be inaccurate. Try another solver, adjusting the solver settings, or solve with verbose=True for more information.\n",
      "  warnings.warn(\n",
      "/usr/local/lib/python3.9/site-packages/cvxpy/problems/problem.py:1385: UserWarning: Solution may be inaccurate. Try another solver, adjusting the solver settings, or solve with verbose=True for more information.\n",
      "  warnings.warn(\n",
      "/usr/local/lib/python3.9/site-packages/cvxpy/problems/problem.py:1385: UserWarning: Solution may be inaccurate. Try another solver, adjusting the solver settings, or solve with verbose=True for more information.\n",
      "  warnings.warn(\n"
     ]
    },
    {
     "name": "stdout",
     "output_type": "stream",
     "text": [
      "Number of periods                                23\n",
      "Initial timestamp               2023-03-01 00:00:00\n",
      "Final timestamp                 2023-03-31 00:00:00\n",
      "Portfolio return (%)                          3.156\n",
      "Excess return (%)                            -1.526\n",
      "Excess risk (%)                               8.816\n",
      "Sharpe ratio                                 -0.177\n",
      "Max. drawdown                                 2.114\n",
      "Turnover (%)                              1,221.713\n",
      "Average policy time (sec)                     0.441\n",
      "Average simulator time (sec)                  0.003\n"
     ]
    }
   ],
   "source": [
    "\n",
    "\n",
    "market_sim = cp.MarketSimulator(\n",
    "    returns, [tcost_model, hcost_model], cash_key=\"USDOLLAR\"\n",
    ")\n",
    "init_portfolio = pd.Series(index=returns.columns, data=1E9)\n",
    "init_portfolio.USDOLLAR = 0\n",
    "results = market_sim.run_multiple_backtest(\n",
    "    init_portfolio,\n",
    "    start_time=\"2023-03-01\",\n",
    "    end_time=\"2023-03-31\",\n",
    "    policies=[mpo_policy, \n",
    "             fixedtrade,\n",
    "            ],\n",
    ")\n",
    "results[0].summary()"
   ]
  },
  {
   "cell_type": "code",
   "execution_count": 84,
   "metadata": {},
   "outputs": [
    {
     "data": {
      "text/plain": [
       "<Axes: >"
      ]
     },
     "execution_count": 84,
     "metadata": {},
     "output_type": "execute_result"
    },
    {
     "data": {
      "image/png": "[encoded data removed]",
      "text/plain": [
       "<Figure size 640x480 with 1 Axes>"
      ]
     },
     "metadata": {},
     "output_type": "display_data"
    }
   ],
   "source": [
    "results[0].h_next.plot()"
   ]
  },
  {
   "cell_type": "code",
   "execution_count": 85,
   "metadata": {},
   "outputs": [
    {
     "data": {
      "text/plain": [
       "<Axes: >"
      ]
     },
     "execution_count": 85,
     "metadata": {},
     "output_type": "execute_result"
    },
    {
     "data": {
      "image/png": "[encoded data removed]",
      "text/plain": [
       "<Figure size 640x480 with 1 Axes>"
      ]
     },
     "metadata": {},
     "output_type": "display_data"
    }
   ],
   "source": [
    "results[1].h_next.plot()"
   ]
  },
  {
   "cell_type": "markdown",
   "metadata": {},
   "source": [
    "The total value of the portfolio in time."
   ]
  },
  {
   "cell_type": "markdown",
   "metadata": {},
   "source": [
    "The weights vector of the portfolio in time."
   ]
  },
  {
   "cell_type": "code",
   "execution_count": 88,
   "metadata": {},
   "outputs": [
    {
     "data": {
      "text/plain": [
       "<Axes: >"
      ]
     },
     "execution_count": 88,
     "metadata": {},
     "output_type": "execute_result"
    },
    {
     "data": {
      "image/png": "[encoded data removed]",
      "text/plain": [
       "<Figure size 640x480 with 1 Axes>"
      ]
     },
     "metadata": {},
     "output_type": "display_data"
    }
   ],
   "source": [
    "results[0].w.plot()#figsize=(12, 6))"
   ]
  },
  {
   "cell_type": "code",
   "execution_count": 89,
   "metadata": {
    "jupyter": {
     "outputs_hidden": true
    }
   },
   "outputs": [
    {
     "data": {
      "text/plain": [
       "<Axes: >"
      ]
     },
     "execution_count": 89,
     "metadata": {},
     "output_type": "execute_result"
    },
    {
     "data": {
      "image/png": "[encoded data removed]",
      "text/plain": [
       "<Figure size 640x480 with 1 Axes>"
      ]
     },
     "metadata": {},
     "output_type": "display_data"
    }
   ],
   "source": [
    "results[1].w.plot()#figsize=(12, 6))"
   ]
  },
  {
   "cell_type": "code",
   "execution_count": null,
   "metadata": {},
   "outputs": [],
   "source": []
  }
 ],
 "metadata": {
  "anaconda-cloud": {},
  "kernelspec": {
   "display_name": "Python 3 (ipykernel)",
   "language": "python",
   "name": "python3"
  },
  "language_info": {
   "codemirror_mode": {
    "name": "ipython",
    "version": 3
   },
   "file_extension": ".py",
   "mimetype": "text/x-python",
   "name": "python",
   "nbconvert_exporter": "python",
   "pygments_lexer": "ipython3",
   "version": "3.9.16"
  }
 },
 "nbformat": 4,
 "nbformat_minor": 4
}
