{
 "cells": [
  {
   "cell_type": "code",
   "execution_count": null,
   "metadata": {
    "collapsed": false,
    "deletable": true,
    "editable": true,
    "jupyter": {
     "outputs_hidden": false
    }
   },
   "outputs": [],
   "source": [
    "%matplotlib inline\n",
    "\n",
    "import pandas as pd\n",
    "import numpy as np\n",
    "import matplotlib.pyplot as plt\n",
    "import cvxportfolio as cp\n",
    "\n",
    "plotdir = \"../portfolio/plots/\"\n",
    "datadir = \"../data/\"\n",
    "\n",
    "sigmas = pd.read_csv(datadir + \"sigmas.csv.gz\", index_col=0, parse_dates=[0]).iloc[\n",
    "    :, :-1\n",
    "]\n",
    "returns = pd.read_csv(datadir + \"returns.csv.gz\", index_col=0, parse_dates=[0])\n",
    "volumes = pd.read_csv(datadir + \"volumes.csv.gz\", index_col=0, parse_dates=[0]).iloc[\n",
    "    :, :-1\n",
    "]\n",
    "\n",
    "w_b = pd.Series(index=returns.columns, data=1)\n",
    "w_b.USDOLLAR = 0.0\n",
    "w_b /= sum(w_b)\n",
    "\n",
    "start_t = \"2012-01-01\"\n",
    "end_t = \"2016-12-31\"\n",
    "\n",
    "simulated_tcost = cp.TcostModel(\n",
    "    half_spread=0.0005 / 2.0, nonlin_coeff=1.0, sigma=sigmas, volume=volumes\n",
    ")\n",
    "simulated_hcost = cp.HcostModel(borrow_costs=0.0001)\n",
    "simulator = cp.MarketSimulator(\n",
    "    returns,\n",
    "    costs=[simulated_tcost, simulated_hcost],\n",
    "    market_volumes=volumes,\n",
    "    cash_key=\"USDOLLAR\",\n",
    ")\n",
    "\n",
    "return_estimate = pd.read_csv(\n",
    "    datadir + \"return_estimate.csv.gz\", index_col=0, parse_dates=[0]\n",
    ")\n",
    "volume_estimate = pd.read_csv(\n",
    "    datadir + \"volume_estimate.csv.gz\", index_col=0, parse_dates=[0]\n",
    ")\n",
    "sigma_estimate = pd.read_csv(\n",
    "    datadir + \"sigma_estimate.csv.gz\", index_col=0, parse_dates=[0]\n",
    ")\n",
    "\n",
    "alpha_model = cp.AlphaSource(return_estimate)\n",
    "optimization_tcost = cp.TcostModel(\n",
    "    half_spread=0.0005 / 2.0,\n",
    "    nonlin_coeff=1.0,\n",
    "    sigma=sigma_estimate,\n",
    "    volume=volume_estimate,\n",
    ")\n",
    "optimization_hcost = cp.HcostModel(borrow_costs=0.0001)\n",
    "\n",
    "risk_data = pd.HDFStore(datadir + \"risk_model.h5\")\n",
    "risk_model = cp.FactorModelSigma(\n",
    "    risk_data.exposures, risk_data.factor_sigma, risk_data.idyos\n",
    ")\n",
    "\n",
    "results = {}"
   ]
  },
  {
   "cell_type": "code",
   "execution_count": null,
   "metadata": {
    "collapsed": false,
    "deletable": true,
    "editable": true,
    "jupyter": {
     "outputs_hidden": false
    },
    "scrolled": true
   },
   "outputs": [],
   "source": [
    "import sys\n",
    "import cvxpy as cvx\n",
    "from io import TextIOWrapper, BytesIO\n",
    "\n",
    "solver = cvx.ECOS\n",
    "\n",
    "# setup the environment\n",
    "old_stdout = sys.stdout\n",
    "sys.stdout = TextIOWrapper(BytesIO(), sys.stdout.encoding)\n",
    "\n",
    "policy = cp.SinglePeriodOpt(\n",
    "    alpha_model,\n",
    "    [1 * risk_model, 1 * optimization_tcost, optimization_hcost],\n",
    "    [cp.LeverageLimit(3)],\n",
    "    solver_opts={\"verbose\": True},\n",
    "    solver=solver,\n",
    ")\n",
    "result = simulator.run_backtest(\n",
    "    1e8 * w_b, start_time=start_t, end_time=end_t, policy=policy  #'2012-01-31',\n",
    ")\n",
    "\n",
    "# get output\n",
    "sys.stdout.seek(0)  # jump to the start\n",
    "out = sys.stdout.read()  # read output\n",
    "\n",
    "# restore stdout\n",
    "sys.stdout.close()\n",
    "sys.stdout = old_stdout"
   ]
  },
  {
   "cell_type": "code",
   "execution_count": null,
   "metadata": {
    "collapsed": false,
    "deletable": true,
    "editable": true,
    "jupyter": {
     "outputs_hidden": false
    }
   },
   "outputs": [],
   "source": [
    "if solver == cvx.ECOS:\n",
    "    solver_times = pd.Series(\n",
    "        index=result.simulation_time.index,\n",
    "        data=[float(line[8:17]) for line in out.split(\"\\n\") if line[:7] == \"Runtime\"],\n",
    "    )"
   ]
  },
  {
   "cell_type": "code",
   "execution_count": null,
   "metadata": {
    "collapsed": false,
    "deletable": true,
    "editable": true,
    "jupyter": {
     "outputs_hidden": false
    }
   },
   "outputs": [],
   "source": [
    "df = pd.DataFrame(\n",
    "    {\n",
    "        \"solver\": solver_times,\n",
    "        \"simulator\": result.simulation_time,\n",
    "        \"policy\": result.policy_time - solver_times,\n",
    "    }\n",
    ")\n",
    "df = df[\n",
    "    [\n",
    "        \"simulator\",\n",
    "        \"solver\",\n",
    "        \"policy\",\n",
    "    ]\n",
    "]\n",
    "df.plot.area(figsize=(8, 5))\n",
    "plt.ylabel(\"Seconds\")\n",
    "# plt.savefig(plotdir+'execution_time.png')"
   ]
  }
 ],
 "metadata": {
  "kernelspec": {
   "display_name": "Python 3 (ipykernel)",
   "language": "python",
   "name": "python3"
  },
  "language_info": {
   "codemirror_mode": {
    "name": "ipython",
    "version": 3
   },
   "file_extension": ".py",
   "mimetype": "text/x-python",
   "name": "python",
   "nbconvert_exporter": "python",
   "pygments_lexer": "ipython3",
   "version": "3.10.10"
  }
 },
 "nbformat": 4,
 "nbformat_minor": 4
}
