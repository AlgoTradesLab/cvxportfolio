{
 "cells": [
  {
   "cell_type": "code",
   "execution_count": 1,
   "metadata": {
    "collapsed": false
   },
   "outputs": [],
   "source": [
    "%load_ext autoreload\n",
    "%autoreload 2\n",
    "%matplotlib inline\n",
    "\n",
    "import pandas as pd\n",
    "import numpy as np\n",
    "import matplotlib.pyplot as plt\n",
    "\n",
    "from cvx_portfolio.costs import TcostModel\n",
    "from cvx_portfolio.returns import AlphaSource\n",
    "from cvx_portfolio.simulator import MarketSimulator\n",
    "from cvx_portfolio.policies import SinglePeriodOpt, Hold\n",
    "from cvx_portfolio.data import generate_alpha_signal, series_factor_model_covariance\n",
    "from cvx_portfolio.risks import EmpSigma, FactorModelSigma\n",
    "from cvx_portfolio.constraints import LeverageLimit  \n",
    "\n",
    "plotdir = '../portfolio/plots/'\n",
    "datadir= '../equity_data_tool/'"
   ]
  },
  {
   "cell_type": "markdown",
   "metadata": {},
   "source": [
    "## Download data using ee103 code (to be integrated) "
   ]
  },
  {
   "cell_type": "code",
   "execution_count": 2,
   "metadata": {
    "collapsed": false
   },
   "outputs": [],
   "source": [
    "sigmas=pd.read_csv(datadir+'sigmas.txt',index_col=0,parse_dates=[0])\n",
    "returns=pd.read_csv(datadir+'returns.txt',index_col=0,parse_dates=[0])\n",
    "volumes=pd.read_csv(datadir+'volumes.txt',index_col=0,parse_dates=[0])\n",
    "prices=pd.read_csv(datadir+'prices.txt',index_col=0,parse_dates=[0])"
   ]
  },
  {
   "cell_type": "code",
   "execution_count": 3,
   "metadata": {
    "collapsed": false
   },
   "outputs": [
    {
     "name": "stderr",
     "output_type": "stream",
     "text": [
      "/home/enzo/repos/cvx_portfolio/cvx_portfolio/data/generator.py:30: RuntimeWarning: overflow encountered in exp\n",
      "  sig*ex*np.concatenate([[0],np.cumsum(np.sqrt(np.diff(np.exp(2*th*t)-1))*np.random.randn(len(t)-1))])\n",
      "/home/enzo/anaconda3/lib/python3.5/site-packages/numpy/lib/function_base.py:1578: RuntimeWarning: invalid value encountered in subtract\n",
      "  return a[slice1]-a[slice2]\n"
     ]
    }
   ],
   "source": [
    "np.random.seed(1)\n",
    "alpha_signal=generate_alpha_signal(real_returns=returns, IC=0.01, type_noise='OU')\n",
    "alpha_signal = 0.01 * alpha_signal\n",
    "alpha_signal.USDOLLAR = returns.USDOLLAR\n",
    "\n",
    "alpha_model = AlphaSource(alpha_signal)"
   ]
  },
  {
   "cell_type": "markdown",
   "metadata": {},
   "source": [
    "### Compute factor risk model "
   ]
  },
  {
   "cell_type": "code",
   "execution_count": 4,
   "metadata": {
    "collapsed": false
   },
   "outputs": [],
   "source": [
    "exposures_pan, factor_sigma_pan, idyos_df = series_factor_model_covariance(returns, \n",
    "                                                                           variance_explained=.75,\n",
    "                                                                           freq='MS',\n",
    "                                    lookback_periods = 12)\n",
    "\n",
    "#risk_model = EmpSigma(returns, lookback=500)\n",
    "risk_model = FactorModelSigma(exposures_pan, factor_sigma_pan, idyos_df)"
   ]
  },
  {
   "cell_type": "markdown",
   "metadata": {},
   "source": [
    "### Transaction costs model"
   ]
  },
  {
   "cell_type": "code",
   "execution_count": 5,
   "metadata": {
    "collapsed": true
   },
   "outputs": [],
   "source": [
    "del volumes['USDOLLAR']\n",
    "del sigmas['USDOLLAR']\n",
    "\n",
    "spread = pd.DataFrame(data=5e-4, index=volumes.index, columns=volumes.columns)\n",
    "nonlin_coeff = pd.DataFrame(data=1, index=volumes.index, columns=volumes.columns)\n",
    "simulated_tcost = TcostModel(volumes, sigmas, spread, nonlin_coeff, cash_key='USDOLLAR')"
   ]
  },
  {
   "cell_type": "markdown",
   "metadata": {},
   "source": [
    "## Market simulator "
   ]
  },
  {
   "cell_type": "code",
   "execution_count": 6,
   "metadata": {
    "collapsed": false
   },
   "outputs": [],
   "source": [
    "simulator = MarketSimulator(returns, volumes, [simulated_tcost], cash_key='USDOLLAR')"
   ]
  },
  {
   "cell_type": "markdown",
   "metadata": {},
   "source": [
    "## Portfolio"
   ]
  },
  {
   "cell_type": "code",
   "execution_count": 140,
   "metadata": {
    "collapsed": false
   },
   "outputs": [],
   "source": [
    "p = pd.Series(index=returns.columns, data=1)\n",
    "p.USDOLLAR=0.\n",
    "weights=p/sum(p)\n",
    "p_0 = 1E8*p"
   ]
  },
  {
   "cell_type": "markdown",
   "metadata": {},
   "source": [
    "## Policy"
   ]
  },
  {
   "cell_type": "code",
   "execution_count": 165,
   "metadata": {
    "collapsed": false
   },
   "outputs": [],
   "source": [
    "gamma_tcost=1.\n",
    "policies={}\n",
    "for lev in [1, 1.5, 2, 2.5, 3]:\n",
    "    for risk in [.5,10,100, 1000] : \n",
    "        policies[(risk, lev)] = \\\n",
    "                SinglePeriodOpt(alpha_model, [risk*risk_model, gamma_tcost*simulated_tcost], \n",
    "                                [LeverageLimit(lev)])"
   ]
  },
  {
   "cell_type": "markdown",
   "metadata": {},
   "source": [
    "## Simulations"
   ]
  },
  {
   "cell_type": "code",
   "execution_count": 167,
   "metadata": {
    "collapsed": false
   },
   "outputs": [
    {
     "name": "stderr",
     "output_type": "stream",
     "text": [
      "WARNING:root:Setting stocks Index(['EQIX'], dtype='object') on 2014-09-25 00:00:00 to null trades (because market volumes are 0)\n",
      "WARNING:root:Setting stocks Index(['EQIX'], dtype='object') on 2014-09-26 00:00:00 to null trades (because market volumes are 0)\n",
      "WARNING:root:Setting stocks Index(['EQIX'], dtype='object') on 2014-09-29 00:00:00 to null trades (because market volumes are 0)\n",
      "WARNING:root:Setting stocks Index(['EQIX'], dtype='object') on 2014-09-30 00:00:00 to null trades (because market volumes are 0)\n",
      "WARNING:root:Setting stocks Index(['EQIX'], dtype='object') on 2014-09-25 00:00:00 to null trades (because market volumes are 0)\n",
      "WARNING:root:Setting stocks Index(['EQIX'], dtype='object') on 2014-10-01 00:00:00 to null trades (because market volumes are 0)\n",
      "WARNING:root:Setting stocks Index(['EQIX'], dtype='object') on 2014-09-26 00:00:00 to null trades (because market volumes are 0)\n",
      "WARNING:root:Setting stocks Index(['EQIX'], dtype='object') on 2014-10-02 00:00:00 to null trades (because market volumes are 0)\n",
      "WARNING:root:Setting stocks Index(['EQIX'], dtype='object') on 2014-09-29 00:00:00 to null trades (because market volumes are 0)\n",
      "WARNING:root:Setting stocks Index(['EQIX'], dtype='object') on 2014-10-03 00:00:00 to null trades (because market volumes are 0)\n",
      "WARNING:root:Setting stocks Index(['EQIX'], dtype='object') on 2014-09-25 00:00:00 to null trades (because market volumes are 0)\n",
      "WARNING:root:Setting stocks Index(['EQIX'], dtype='object') on 2014-09-30 00:00:00 to null trades (because market volumes are 0)\n",
      "WARNING:root:Setting stocks Index(['EQIX'], dtype='object') on 2014-10-06 00:00:00 to null trades (because market volumes are 0)\n",
      "WARNING:root:Setting stocks Index(['EQIX'], dtype='object') on 2014-10-01 00:00:00 to null trades (because market volumes are 0)\n",
      "WARNING:root:Setting stocks Index(['EQIX'], dtype='object') on 2014-09-26 00:00:00 to null trades (because market volumes are 0)\n",
      "WARNING:root:Setting stocks Index(['EQIX'], dtype='object') on 2014-10-07 00:00:00 to null trades (because market volumes are 0)\n",
      "WARNING:root:Setting stocks Index(['EQIX'], dtype='object') on 2014-10-02 00:00:00 to null trades (because market volumes are 0)\n",
      "WARNING:root:Setting stocks Index(['EQIX'], dtype='object') on 2014-09-29 00:00:00 to null trades (because market volumes are 0)\n",
      "WARNING:root:Setting stocks Index(['EQIX'], dtype='object') on 2014-10-08 00:00:00 to null trades (because market volumes are 0)\n",
      "WARNING:root:Setting stocks Index(['EQIX'], dtype='object') on 2014-10-03 00:00:00 to null trades (because market volumes are 0)\n",
      "WARNING:root:Setting stocks Index(['EQIX'], dtype='object') on 2014-09-30 00:00:00 to null trades (because market volumes are 0)\n",
      "WARNING:root:Setting stocks Index(['EQIX'], dtype='object') on 2014-10-09 00:00:00 to null trades (because market volumes are 0)\n",
      "WARNING:root:Setting stocks Index(['EQIX'], dtype='object') on 2014-10-06 00:00:00 to null trades (because market volumes are 0)\n",
      "WARNING:root:Setting stocks Index(['EQIX'], dtype='object') on 2014-10-01 00:00:00 to null trades (because market volumes are 0)\n",
      "WARNING:root:Setting stocks Index(['EQIX'], dtype='object') on 2014-10-10 00:00:00 to null trades (because market volumes are 0)\n",
      "WARNING:root:Setting stocks Index(['EQIX'], dtype='object') on 2014-09-25 00:00:00 to null trades (because market volumes are 0)\n",
      "WARNING:root:Setting stocks Index(['EQIX'], dtype='object') on 2014-10-07 00:00:00 to null trades (because market volumes are 0)\n",
      "WARNING:root:Setting stocks Index(['EQIX'], dtype='object') on 2014-10-02 00:00:00 to null trades (because market volumes are 0)\n",
      "WARNING:root:Setting stocks Index(['EQIX'], dtype='object') on 2014-10-13 00:00:00 to null trades (because market volumes are 0)\n",
      "WARNING:root:Setting stocks Index(['EQIX'], dtype='object') on 2014-10-08 00:00:00 to null trades (because market volumes are 0)\n",
      "WARNING:root:Setting stocks Index(['EQIX'], dtype='object') on 2014-10-03 00:00:00 to null trades (because market volumes are 0)\n",
      "WARNING:root:Setting stocks Index(['EQIX'], dtype='object') on 2014-09-26 00:00:00 to null trades (because market volumes are 0)\n",
      "WARNING:root:Setting stocks Index(['EQIX'], dtype='object') on 2014-10-14 00:00:00 to null trades (because market volumes are 0)\n",
      "WARNING:root:Setting stocks Index(['EQIX'], dtype='object') on 2014-10-06 00:00:00 to null trades (because market volumes are 0)\n",
      "WARNING:root:Setting stocks Index(['EQIX'], dtype='object') on 2014-10-09 00:00:00 to null trades (because market volumes are 0)\n",
      "WARNING:root:Setting stocks Index(['EQIX'], dtype='object') on 2014-09-29 00:00:00 to null trades (because market volumes are 0)\n",
      "WARNING:root:Setting stocks Index(['EQIX'], dtype='object') on 2014-10-15 00:00:00 to null trades (because market volumes are 0)\n",
      "WARNING:root:Setting stocks Index(['EQIX'], dtype='object') on 2014-10-10 00:00:00 to null trades (because market volumes are 0)\n",
      "WARNING:root:Setting stocks Index(['EQIX'], dtype='object') on 2014-10-07 00:00:00 to null trades (because market volumes are 0)\n",
      "WARNING:root:Setting stocks Index(['EQIX'], dtype='object') on 2014-10-16 00:00:00 to null trades (because market volumes are 0)\n",
      "WARNING:root:Setting stocks Index(['EQIX'], dtype='object') on 2014-09-30 00:00:00 to null trades (because market volumes are 0)\n",
      "WARNING:root:Setting stocks Index(['EQIX'], dtype='object') on 2014-10-17 00:00:00 to null trades (because market volumes are 0)\n",
      "WARNING:root:Setting stocks Index(['EQIX'], dtype='object') on 2014-10-01 00:00:00 to null trades (because market volumes are 0)\n",
      "WARNING:root:Setting stocks Index(['EQIX'], dtype='object') on 2014-10-13 00:00:00 to null trades (because market volumes are 0)\n",
      "WARNING:root:Setting stocks Index(['EQIX'], dtype='object') on 2014-10-08 00:00:00 to null trades (because market volumes are 0)\n",
      "WARNING:root:Setting stocks Index(['EQIX'], dtype='object') on 2014-10-20 00:00:00 to null trades (because market volumes are 0)\n",
      "WARNING:root:Setting stocks Index(['EQIX'], dtype='object') on 2014-10-02 00:00:00 to null trades (because market volumes are 0)\n",
      "WARNING:root:Setting stocks Index(['EQIX'], dtype='object') on 2014-10-14 00:00:00 to null trades (because market volumes are 0)\n",
      "WARNING:root:Setting stocks Index(['EQIX'], dtype='object') on 2014-10-09 00:00:00 to null trades (because market volumes are 0)\n",
      "WARNING:root:Setting stocks Index(['EQIX'], dtype='object') on 2014-10-21 00:00:00 to null trades (because market volumes are 0)\n",
      "WARNING:root:Setting stocks Index(['EQIX'], dtype='object') on 2014-10-03 00:00:00 to null trades (because market volumes are 0)\n",
      "WARNING:root:Setting stocks Index(['EQIX'], dtype='object') on 2014-10-15 00:00:00 to null trades (because market volumes are 0)\n",
      "WARNING:root:Setting stocks Index(['EQIX'], dtype='object') on 2014-10-10 00:00:00 to null trades (because market volumes are 0)\n",
      "WARNING:root:Setting stocks Index(['EQIX'], dtype='object') on 2014-10-06 00:00:00 to null trades (because market volumes are 0)\n",
      "WARNING:root:Setting stocks Index(['EQIX'], dtype='object') on 2014-10-16 00:00:00 to null trades (because market volumes are 0)\n",
      "WARNING:root:Setting stocks Index(['EQIX'], dtype='object') on 2014-10-17 00:00:00 to null trades (because market volumes are 0)\n",
      "WARNING:root:Setting stocks Index(['EQIX'], dtype='object') on 2014-10-07 00:00:00 to null trades (because market volumes are 0)\n",
      "WARNING:root:Setting stocks Index(['EQIX'], dtype='object') on 2014-10-13 00:00:00 to null trades (because market volumes are 0)\n",
      "WARNING:root:Setting stocks Index(['EQIX'], dtype='object') on 2014-10-20 00:00:00 to null trades (because market volumes are 0)\n",
      "WARNING:root:Setting stocks Index(['EQIX'], dtype='object') on 2014-10-08 00:00:00 to null trades (because market volumes are 0)\n",
      "WARNING:root:Setting stocks Index(['EQIX'], dtype='object') on 2014-10-14 00:00:00 to null trades (because market volumes are 0)\n",
      "WARNING:root:Setting stocks Index(['EQIX'], dtype='object') on 2014-10-21 00:00:00 to null trades (because market volumes are 0)\n",
      "WARNING:root:Setting stocks Index(['EQIX'], dtype='object') on 2014-10-15 00:00:00 to null trades (because market volumes are 0)\n",
      "WARNING:root:Setting stocks Index(['EQIX'], dtype='object') on 2014-10-09 00:00:00 to null trades (because market volumes are 0)\n",
      "WARNING:root:Setting stocks Index(['EQIX'], dtype='object') on 2014-10-16 00:00:00 to null trades (because market volumes are 0)\n",
      "WARNING:root:Setting stocks Index(['EQIX'], dtype='object') on 2014-10-10 00:00:00 to null trades (because market volumes are 0)\n",
      "WARNING:root:Setting stocks Index(['EQIX'], dtype='object') on 2014-10-17 00:00:00 to null trades (because market volumes are 0)\n",
      "WARNING:root:Setting stocks Index(['EQIX'], dtype='object') on 2014-10-13 00:00:00 to null trades (because market volumes are 0)\n",
      "WARNING:root:Setting stocks Index(['EQIX'], dtype='object') on 2014-10-20 00:00:00 to null trades (because market volumes are 0)\n",
      "WARNING:root:Setting stocks Index(['EQIX'], dtype='object') on 2014-10-14 00:00:00 to null trades (because market volumes are 0)\n",
      "WARNING:root:Setting stocks Index(['EQIX'], dtype='object') on 2014-10-21 00:00:00 to null trades (because market volumes are 0)\n",
      "WARNING:root:Setting stocks Index(['EQIX'], dtype='object') on 2014-10-15 00:00:00 to null trades (because market volumes are 0)\n",
      "WARNING:root:Setting stocks Index(['EQIX'], dtype='object') on 2014-10-16 00:00:00 to null trades (because market volumes are 0)\n",
      "WARNING:root:Setting stocks Index(['EQIX'], dtype='object') on 2014-10-17 00:00:00 to null trades (because market volumes are 0)\n",
      "WARNING:root:Setting stocks Index(['EQIX'], dtype='object') on 2014-10-20 00:00:00 to null trades (because market volumes are 0)\n",
      "WARNING:root:Setting stocks Index(['EQIX'], dtype='object') on 2014-10-21 00:00:00 to null trades (because market volumes are 0)\n",
      "WARNING:root:Setting stocks Index(['EQIX'], dtype='object') on 2014-09-25 00:00:00 to null trades (because market volumes are 0)\n",
      "WARNING:root:Setting stocks Index(['EQIX'], dtype='object') on 2014-09-26 00:00:00 to null trades (because market volumes are 0)\n",
      "WARNING:root:Setting stocks Index(['EQIX'], dtype='object') on 2014-09-29 00:00:00 to null trades (because market volumes are 0)\n",
      "WARNING:root:Setting stocks Index(['EQIX'], dtype='object') on 2014-09-30 00:00:00 to null trades (because market volumes are 0)\n",
      "WARNING:root:Setting stocks Index(['EQIX'], dtype='object') on 2014-10-01 00:00:00 to null trades (because market volumes are 0)\n",
      "WARNING:root:Setting stocks Index(['EQIX'], dtype='object') on 2014-10-02 00:00:00 to null trades (because market volumes are 0)\n",
      "WARNING:root:Setting stocks Index(['EQIX'], dtype='object') on 2014-10-03 00:00:00 to null trades (because market volumes are 0)\n",
      "WARNING:root:Setting stocks Index(['EQIX'], dtype='object') on 2014-10-06 00:00:00 to null trades (because market volumes are 0)\n",
      "WARNING:root:Setting stocks Index(['EQIX'], dtype='object') on 2014-10-07 00:00:00 to null trades (because market volumes are 0)\n",
      "WARNING:root:Setting stocks Index(['EQIX'], dtype='object') on 2014-10-08 00:00:00 to null trades (because market volumes are 0)\n",
      "WARNING:root:Setting stocks Index(['EQIX'], dtype='object') on 2014-10-09 00:00:00 to null trades (because market volumes are 0)\n",
      "WARNING:root:Setting stocks Index(['EQIX'], dtype='object') on 2014-10-10 00:00:00 to null trades (because market volumes are 0)\n",
      "WARNING:root:Setting stocks Index(['EQIX'], dtype='object') on 2014-10-13 00:00:00 to null trades (because market volumes are 0)\n",
      "WARNING:root:Setting stocks Index(['EQIX'], dtype='object') on 2014-10-14 00:00:00 to null trades (because market volumes are 0)\n",
      "WARNING:root:Setting stocks Index(['EQIX'], dtype='object') on 2014-10-15 00:00:00 to null trades (because market volumes are 0)\n",
      "WARNING:root:Setting stocks Index(['EQIX'], dtype='object') on 2014-10-16 00:00:00 to null trades (because market volumes are 0)\n",
      "WARNING:root:Setting stocks Index(['EQIX'], dtype='object') on 2014-10-17 00:00:00 to null trades (because market volumes are 0)\n",
      "WARNING:root:Setting stocks Index(['EQIX'], dtype='object') on 2014-10-20 00:00:00 to null trades (because market volumes are 0)\n",
      "WARNING:root:Setting stocks Index(['EQIX'], dtype='object') on 2014-10-21 00:00:00 to null trades (because market volumes are 0)\n",
      "WARNING:root:Setting stocks Index(['EQIX'], dtype='object') on 2014-09-25 00:00:00 to null trades (because market volumes are 0)\n",
      "WARNING:root:Setting stocks Index(['EQIX'], dtype='object') on 2014-09-26 00:00:00 to null trades (because market volumes are 0)\n",
      "WARNING:root:Setting stocks Index(['EQIX'], dtype='object') on 2014-09-29 00:00:00 to null trades (because market volumes are 0)\n",
      "WARNING:root:Setting stocks Index(['EQIX'], dtype='object') on 2014-09-30 00:00:00 to null trades (because market volumes are 0)\n",
      "WARNING:root:Setting stocks Index(['EQIX'], dtype='object') on 2014-10-01 00:00:00 to null trades (because market volumes are 0)\n",
      "WARNING:root:Setting stocks Index(['EQIX'], dtype='object') on 2014-10-02 00:00:00 to null trades (because market volumes are 0)\n",
      "WARNING:root:Setting stocks Index(['EQIX'], dtype='object') on 2014-10-03 00:00:00 to null trades (because market volumes are 0)\n",
      "WARNING:root:Setting stocks Index(['EQIX'], dtype='object') on 2014-10-06 00:00:00 to null trades (because market volumes are 0)\n",
      "WARNING:root:Setting stocks Index(['EQIX'], dtype='object') on 2014-10-07 00:00:00 to null trades (because market volumes are 0)\n",
      "WARNING:root:Setting stocks Index(['EQIX'], dtype='object') on 2014-10-08 00:00:00 to null trades (because market volumes are 0)\n",
      "WARNING:root:Setting stocks Index(['EQIX'], dtype='object') on 2014-10-09 00:00:00 to null trades (because market volumes are 0)\n",
      "WARNING:root:Setting stocks Index(['EQIX'], dtype='object') on 2014-10-10 00:00:00 to null trades (because market volumes are 0)\n",
      "WARNING:root:Setting stocks Index(['EQIX'], dtype='object') on 2014-10-13 00:00:00 to null trades (because market volumes are 0)\n",
      "WARNING:root:Setting stocks Index(['EQIX'], dtype='object') on 2014-10-14 00:00:00 to null trades (because market volumes are 0)\n",
      "WARNING:root:Setting stocks Index(['EQIX'], dtype='object') on 2014-10-15 00:00:00 to null trades (because market volumes are 0)\n",
      "WARNING:root:Setting stocks Index(['EQIX'], dtype='object') on 2014-10-16 00:00:00 to null trades (because market volumes are 0)\n",
      "WARNING:root:Setting stocks Index(['EQIX'], dtype='object') on 2014-10-17 00:00:00 to null trades (because market volumes are 0)\n",
      "WARNING:root:Setting stocks Index(['EQIX'], dtype='object') on 2014-10-20 00:00:00 to null trades (because market volumes are 0)\n",
      "WARNING:root:Setting stocks Index(['EQIX'], dtype='object') on 2014-10-21 00:00:00 to null trades (because market volumes are 0)\n",
      "WARNING:root:Setting stocks Index(['EQIX'], dtype='object') on 2014-09-25 00:00:00 to null trades (because market volumes are 0)\n",
      "WARNING:root:Setting stocks Index(['EQIX'], dtype='object') on 2014-09-26 00:00:00 to null trades (because market volumes are 0)\n",
      "WARNING:root:Setting stocks Index(['EQIX'], dtype='object') on 2014-09-29 00:00:00 to null trades (because market volumes are 0)\n",
      "WARNING:root:Setting stocks Index(['EQIX'], dtype='object') on 2014-09-30 00:00:00 to null trades (because market volumes are 0)\n",
      "WARNING:root:Setting stocks Index(['EQIX'], dtype='object') on 2014-10-01 00:00:00 to null trades (because market volumes are 0)\n",
      "WARNING:root:Setting stocks Index(['EQIX'], dtype='object') on 2014-10-02 00:00:00 to null trades (because market volumes are 0)\n",
      "WARNING:root:Setting stocks Index(['EQIX'], dtype='object') on 2014-10-03 00:00:00 to null trades (because market volumes are 0)\n",
      "WARNING:root:Setting stocks Index(['EQIX'], dtype='object') on 2014-10-06 00:00:00 to null trades (because market volumes are 0)\n",
      "WARNING:root:Setting stocks Index(['EQIX'], dtype='object') on 2014-10-07 00:00:00 to null trades (because market volumes are 0)\n",
      "WARNING:root:Setting stocks Index(['EQIX'], dtype='object') on 2014-10-08 00:00:00 to null trades (because market volumes are 0)\n",
      "WARNING:root:Setting stocks Index(['EQIX'], dtype='object') on 2014-10-09 00:00:00 to null trades (because market volumes are 0)\n",
      "WARNING:root:Setting stocks Index(['EQIX'], dtype='object') on 2014-10-10 00:00:00 to null trades (because market volumes are 0)\n",
      "WARNING:root:Setting stocks Index(['EQIX'], dtype='object') on 2014-10-13 00:00:00 to null trades (because market volumes are 0)\n",
      "WARNING:root:Setting stocks Index(['EQIX'], dtype='object') on 2014-10-14 00:00:00 to null trades (because market volumes are 0)\n",
      "WARNING:root:Setting stocks Index(['EQIX'], dtype='object') on 2014-10-15 00:00:00 to null trades (because market volumes are 0)\n",
      "WARNING:root:Setting stocks Index(['EQIX'], dtype='object') on 2014-10-16 00:00:00 to null trades (because market volumes are 0)\n",
      "WARNING:root:Setting stocks Index(['EQIX'], dtype='object') on 2014-10-17 00:00:00 to null trades (because market volumes are 0)\n",
      "WARNING:root:Setting stocks Index(['EQIX'], dtype='object') on 2014-10-20 00:00:00 to null trades (because market volumes are 0)\n",
      "WARNING:root:Setting stocks Index(['EQIX'], dtype='object') on 2014-10-21 00:00:00 to null trades (because market volumes are 0)\n",
      "WARNING:root:Setting stocks Index(['EQIX'], dtype='object') on 2014-09-25 00:00:00 to null trades (because market volumes are 0)\n",
      "WARNING:root:Setting stocks Index(['EQIX'], dtype='object') on 2014-09-26 00:00:00 to null trades (because market volumes are 0)\n",
      "WARNING:root:Setting stocks Index(['EQIX'], dtype='object') on 2014-09-29 00:00:00 to null trades (because market volumes are 0)\n",
      "WARNING:root:Setting stocks Index(['EQIX'], dtype='object') on 2014-09-30 00:00:00 to null trades (because market volumes are 0)\n",
      "WARNING:root:Setting stocks Index(['EQIX'], dtype='object') on 2014-10-01 00:00:00 to null trades (because market volumes are 0)\n",
      "WARNING:root:Setting stocks Index(['EQIX'], dtype='object') on 2014-10-02 00:00:00 to null trades (because market volumes are 0)\n",
      "WARNING:root:Setting stocks Index(['EQIX'], dtype='object') on 2014-10-03 00:00:00 to null trades (because market volumes are 0)\n",
      "WARNING:root:Setting stocks Index(['EQIX'], dtype='object') on 2014-10-06 00:00:00 to null trades (because market volumes are 0)\n",
      "WARNING:root:Setting stocks Index(['EQIX'], dtype='object') on 2014-10-07 00:00:00 to null trades (because market volumes are 0)\n",
      "WARNING:root:Setting stocks Index(['EQIX'], dtype='object') on 2014-10-08 00:00:00 to null trades (because market volumes are 0)\n",
      "WARNING:root:Setting stocks Index(['EQIX'], dtype='object') on 2014-10-09 00:00:00 to null trades (because market volumes are 0)\n",
      "WARNING:root:Setting stocks Index(['EQIX'], dtype='object') on 2014-10-10 00:00:00 to null trades (because market volumes are 0)\n",
      "WARNING:root:Setting stocks Index(['EQIX'], dtype='object') on 2014-10-13 00:00:00 to null trades (because market volumes are 0)\n",
      "WARNING:root:Setting stocks Index(['EQIX'], dtype='object') on 2014-10-14 00:00:00 to null trades (because market volumes are 0)\n",
      "WARNING:root:Setting stocks Index(['EQIX'], dtype='object') on 2014-10-15 00:00:00 to null trades (because market volumes are 0)\n",
      "WARNING:root:Setting stocks Index(['EQIX'], dtype='object') on 2014-10-16 00:00:00 to null trades (because market volumes are 0)\n",
      "WARNING:root:Setting stocks Index(['EQIX'], dtype='object') on 2014-10-17 00:00:00 to null trades (because market volumes are 0)\n",
      "WARNING:root:Setting stocks Index(['EQIX'], dtype='object') on 2014-10-20 00:00:00 to null trades (because market volumes are 0)\n",
      "WARNING:root:Setting stocks Index(['EQIX'], dtype='object') on 2014-10-21 00:00:00 to null trades (because market volumes are 0)\n",
      "WARNING:root:Setting stocks Index(['EQIX'], dtype='object') on 2014-09-25 00:00:00 to null trades (because market volumes are 0)\n",
      "WARNING:root:Setting stocks Index(['EQIX'], dtype='object') on 2014-09-26 00:00:00 to null trades (because market volumes are 0)\n",
      "WARNING:root:Setting stocks Index(['EQIX'], dtype='object') on 2014-09-29 00:00:00 to null trades (because market volumes are 0)\n",
      "WARNING:root:Setting stocks Index(['EQIX'], dtype='object') on 2014-09-30 00:00:00 to null trades (because market volumes are 0)\n",
      "WARNING:root:Setting stocks Index(['EQIX'], dtype='object') on 2014-10-01 00:00:00 to null trades (because market volumes are 0)\n",
      "WARNING:root:Setting stocks Index(['EQIX'], dtype='object') on 2014-10-02 00:00:00 to null trades (because market volumes are 0)\n",
      "WARNING:root:Setting stocks Index(['EQIX'], dtype='object') on 2014-10-03 00:00:00 to null trades (because market volumes are 0)\n",
      "WARNING:root:Setting stocks Index(['EQIX'], dtype='object') on 2014-10-06 00:00:00 to null trades (because market volumes are 0)\n",
      "WARNING:root:Setting stocks Index(['EQIX'], dtype='object') on 2014-10-07 00:00:00 to null trades (because market volumes are 0)\n",
      "WARNING:root:Setting stocks Index(['EQIX'], dtype='object') on 2014-10-08 00:00:00 to null trades (because market volumes are 0)\n",
      "WARNING:root:Setting stocks Index(['EQIX'], dtype='object') on 2014-10-09 00:00:00 to null trades (because market volumes are 0)\n",
      "WARNING:root:Setting stocks Index(['EQIX'], dtype='object') on 2014-10-10 00:00:00 to null trades (because market volumes are 0)\n",
      "WARNING:root:Setting stocks Index(['EQIX'], dtype='object') on 2014-10-13 00:00:00 to null trades (because market volumes are 0)\n",
      "WARNING:root:Setting stocks Index(['EQIX'], dtype='object') on 2014-10-14 00:00:00 to null trades (because market volumes are 0)\n",
      "WARNING:root:Setting stocks Index(['EQIX'], dtype='object') on 2014-10-15 00:00:00 to null trades (because market volumes are 0)\n",
      "WARNING:root:Setting stocks Index(['EQIX'], dtype='object') on 2014-10-16 00:00:00 to null trades (because market volumes are 0)\n",
      "WARNING:root:Setting stocks Index(['EQIX'], dtype='object') on 2014-10-17 00:00:00 to null trades (because market volumes are 0)\n",
      "WARNING:root:Setting stocks Index(['EQIX'], dtype='object') on 2014-10-20 00:00:00 to null trades (because market volumes are 0)\n",
      "WARNING:root:Setting stocks Index(['EQIX'], dtype='object') on 2014-10-21 00:00:00 to null trades (because market volumes are 0)\n",
      "WARNING:root:Setting stocks Index(['EQIX'], dtype='object') on 2014-09-25 00:00:00 to null trades (because market volumes are 0)\n",
      "WARNING:root:Setting stocks Index(['EQIX'], dtype='object') on 2014-09-26 00:00:00 to null trades (because market volumes are 0)\n",
      "WARNING:root:Setting stocks Index(['EQIX'], dtype='object') on 2014-09-29 00:00:00 to null trades (because market volumes are 0)\n",
      "WARNING:root:Setting stocks Index(['EQIX'], dtype='object') on 2014-09-30 00:00:00 to null trades (because market volumes are 0)\n",
      "WARNING:root:Setting stocks Index(['EQIX'], dtype='object') on 2014-10-01 00:00:00 to null trades (because market volumes are 0)\n",
      "WARNING:root:Setting stocks Index(['EQIX'], dtype='object') on 2014-10-02 00:00:00 to null trades (because market volumes are 0)\n",
      "WARNING:root:Setting stocks Index(['EQIX'], dtype='object') on 2014-10-03 00:00:00 to null trades (because market volumes are 0)\n",
      "WARNING:root:Setting stocks Index(['EQIX'], dtype='object') on 2014-10-06 00:00:00 to null trades (because market volumes are 0)\n",
      "WARNING:root:Setting stocks Index(['EQIX'], dtype='object') on 2014-10-07 00:00:00 to null trades (because market volumes are 0)\n",
      "WARNING:root:Setting stocks Index(['EQIX'], dtype='object') on 2014-10-08 00:00:00 to null trades (because market volumes are 0)\n",
      "WARNING:root:Setting stocks Index(['EQIX'], dtype='object') on 2014-10-09 00:00:00 to null trades (because market volumes are 0)\n",
      "WARNING:root:Setting stocks Index(['EQIX'], dtype='object') on 2014-10-10 00:00:00 to null trades (because market volumes are 0)\n",
      "WARNING:root:Setting stocks Index(['EQIX'], dtype='object') on 2014-10-13 00:00:00 to null trades (because market volumes are 0)\n",
      "WARNING:root:Setting stocks Index(['EQIX'], dtype='object') on 2014-10-14 00:00:00 to null trades (because market volumes are 0)\n",
      "WARNING:root:Setting stocks Index(['EQIX'], dtype='object') on 2014-10-15 00:00:00 to null trades (because market volumes are 0)\n",
      "WARNING:root:Setting stocks Index(['EQIX'], dtype='object') on 2014-10-16 00:00:00 to null trades (because market volumes are 0)\n",
      "WARNING:root:Setting stocks Index(['EQIX'], dtype='object') on 2014-10-17 00:00:00 to null trades (because market volumes are 0)\n",
      "WARNING:root:Setting stocks Index(['EQIX'], dtype='object') on 2014-10-20 00:00:00 to null trades (because market volumes are 0)\n",
      "WARNING:root:Setting stocks Index(['EQIX'], dtype='object') on 2014-10-21 00:00:00 to null trades (because market volumes are 0)\n",
      "WARNING:root:Setting stocks Index(['EQIX'], dtype='object') on 2014-09-25 00:00:00 to null trades (because market volumes are 0)\n",
      "WARNING:root:Setting stocks Index(['EQIX'], dtype='object') on 2014-09-26 00:00:00 to null trades (because market volumes are 0)\n",
      "WARNING:root:Setting stocks Index(['EQIX'], dtype='object') on 2014-09-29 00:00:00 to null trades (because market volumes are 0)\n",
      "WARNING:root:Setting stocks Index(['EQIX'], dtype='object') on 2014-09-30 00:00:00 to null trades (because market volumes are 0)\n",
      "WARNING:root:Setting stocks Index(['EQIX'], dtype='object') on 2014-10-01 00:00:00 to null trades (because market volumes are 0)\n",
      "WARNING:root:Setting stocks Index(['EQIX'], dtype='object') on 2014-10-02 00:00:00 to null trades (because market volumes are 0)\n",
      "WARNING:root:Setting stocks Index(['EQIX'], dtype='object') on 2014-10-03 00:00:00 to null trades (because market volumes are 0)\n",
      "WARNING:root:Setting stocks Index(['EQIX'], dtype='object') on 2014-10-06 00:00:00 to null trades (because market volumes are 0)\n",
      "WARNING:root:Setting stocks Index(['EQIX'], dtype='object') on 2014-10-07 00:00:00 to null trades (because market volumes are 0)\n",
      "WARNING:root:Setting stocks Index(['EQIX'], dtype='object') on 2014-10-08 00:00:00 to null trades (because market volumes are 0)\n",
      "WARNING:root:Setting stocks Index(['EQIX'], dtype='object') on 2014-10-09 00:00:00 to null trades (because market volumes are 0)\n",
      "WARNING:root:Setting stocks Index(['EQIX'], dtype='object') on 2014-10-10 00:00:00 to null trades (because market volumes are 0)\n",
      "WARNING:root:Setting stocks Index(['EQIX'], dtype='object') on 2014-10-13 00:00:00 to null trades (because market volumes are 0)\n",
      "WARNING:root:Setting stocks Index(['EQIX'], dtype='object') on 2014-10-14 00:00:00 to null trades (because market volumes are 0)\n",
      "WARNING:root:Setting stocks Index(['EQIX'], dtype='object') on 2014-09-25 00:00:00 to null trades (because market volumes are 0)\n",
      "WARNING:root:Setting stocks Index(['EQIX'], dtype='object') on 2014-10-15 00:00:00 to null trades (because market volumes are 0)\n",
      "WARNING:root:Setting stocks Index(['EQIX'], dtype='object') on 2014-09-26 00:00:00 to null trades (because market volumes are 0)\n",
      "WARNING:root:Setting stocks Index(['EQIX'], dtype='object') on 2014-09-29 00:00:00 to null trades (because market volumes are 0)\n",
      "WARNING:root:Setting stocks Index(['EQIX'], dtype='object') on 2014-10-16 00:00:00 to null trades (because market volumes are 0)\n",
      "WARNING:root:Setting stocks Index(['EQIX'], dtype='object') on 2014-10-17 00:00:00 to null trades (because market volumes are 0)\n",
      "WARNING:root:Setting stocks Index(['EQIX'], dtype='object') on 2014-09-30 00:00:00 to null trades (because market volumes are 0)\n",
      "WARNING:root:Setting stocks Index(['EQIX'], dtype='object') on 2014-10-20 00:00:00 to null trades (because market volumes are 0)\n",
      "WARNING:root:Setting stocks Index(['EQIX'], dtype='object') on 2014-10-01 00:00:00 to null trades (because market volumes are 0)\n",
      "WARNING:root:Setting stocks Index(['EQIX'], dtype='object') on 2014-10-02 00:00:00 to null trades (because market volumes are 0)\n",
      "WARNING:root:Setting stocks Index(['EQIX'], dtype='object') on 2014-10-21 00:00:00 to null trades (because market volumes are 0)\n",
      "WARNING:root:Setting stocks Index(['EQIX'], dtype='object') on 2014-10-03 00:00:00 to null trades (because market volumes are 0)\n",
      "WARNING:root:Setting stocks Index(['EQIX'], dtype='object') on 2014-10-06 00:00:00 to null trades (because market volumes are 0)\n",
      "WARNING:root:Setting stocks Index(['EQIX'], dtype='object') on 2014-10-07 00:00:00 to null trades (because market volumes are 0)\n",
      "WARNING:root:Setting stocks Index(['EQIX'], dtype='object') on 2014-10-08 00:00:00 to null trades (because market volumes are 0)\n",
      "WARNING:root:Setting stocks Index(['EQIX'], dtype='object') on 2014-10-09 00:00:00 to null trades (because market volumes are 0)\n",
      "WARNING:root:Setting stocks Index(['EQIX'], dtype='object') on 2014-10-10 00:00:00 to null trades (because market volumes are 0)\n",
      "WARNING:root:Setting stocks Index(['EQIX'], dtype='object') on 2014-10-13 00:00:00 to null trades (because market volumes are 0)\n",
      "WARNING:root:Setting stocks Index(['EQIX'], dtype='object') on 2014-10-14 00:00:00 to null trades (because market volumes are 0)\n",
      "WARNING:root:Setting stocks Index(['EQIX'], dtype='object') on 2014-10-15 00:00:00 to null trades (because market volumes are 0)\n",
      "WARNING:root:Setting stocks Index(['EQIX'], dtype='object') on 2014-10-16 00:00:00 to null trades (because market volumes are 0)\n",
      "WARNING:root:Setting stocks Index(['EQIX'], dtype='object') on 2014-10-17 00:00:00 to null trades (because market volumes are 0)\n",
      "WARNING:root:Setting stocks Index(['EQIX'], dtype='object') on 2014-10-20 00:00:00 to null trades (because market volumes are 0)\n",
      "WARNING:root:Setting stocks Index(['EQIX'], dtype='object') on 2014-10-21 00:00:00 to null trades (because market volumes are 0)\n",
      "WARNING:root:Setting stocks Index(['EQIX'], dtype='object') on 2014-09-25 00:00:00 to null trades (because market volumes are 0)\n",
      "WARNING:root:Setting stocks Index(['EQIX'], dtype='object') on 2014-09-26 00:00:00 to null trades (because market volumes are 0)\n",
      "WARNING:root:Setting stocks Index(['EQIX'], dtype='object') on 2014-09-29 00:00:00 to null trades (because market volumes are 0)\n",
      "WARNING:root:Setting stocks Index(['EQIX'], dtype='object') on 2014-09-30 00:00:00 to null trades (because market volumes are 0)\n",
      "WARNING:root:Setting stocks Index(['EQIX'], dtype='object') on 2014-10-01 00:00:00 to null trades (because market volumes are 0)\n",
      "WARNING:root:Setting stocks Index(['EQIX'], dtype='object') on 2014-10-02 00:00:00 to null trades (because market volumes are 0)\n",
      "WARNING:root:Setting stocks Index(['EQIX'], dtype='object') on 2014-10-03 00:00:00 to null trades (because market volumes are 0)\n",
      "WARNING:root:Setting stocks Index(['EQIX'], dtype='object') on 2014-10-06 00:00:00 to null trades (because market volumes are 0)\n",
      "WARNING:root:Setting stocks Index(['EQIX'], dtype='object') on 2014-10-07 00:00:00 to null trades (because market volumes are 0)\n",
      "WARNING:root:Setting stocks Index(['EQIX'], dtype='object') on 2014-10-08 00:00:00 to null trades (because market volumes are 0)\n",
      "WARNING:root:Setting stocks Index(['EQIX'], dtype='object') on 2014-10-09 00:00:00 to null trades (because market volumes are 0)\n",
      "WARNING:root:Setting stocks Index(['EQIX'], dtype='object') on 2014-10-10 00:00:00 to null trades (because market volumes are 0)\n",
      "WARNING:root:Setting stocks Index(['EQIX'], dtype='object') on 2014-10-13 00:00:00 to null trades (because market volumes are 0)\n",
      "WARNING:root:Setting stocks Index(['EQIX'], dtype='object') on 2014-10-14 00:00:00 to null trades (because market volumes are 0)\n",
      "WARNING:root:Setting stocks Index(['EQIX'], dtype='object') on 2014-10-15 00:00:00 to null trades (because market volumes are 0)\n",
      "WARNING:root:Setting stocks Index(['EQIX'], dtype='object') on 2014-10-16 00:00:00 to null trades (because market volumes are 0)\n",
      "WARNING:root:Setting stocks Index(['EQIX'], dtype='object') on 2014-10-17 00:00:00 to null trades (because market volumes are 0)\n",
      "WARNING:root:Setting stocks Index(['EQIX'], dtype='object') on 2014-10-20 00:00:00 to null trades (because market volumes are 0)\n",
      "WARNING:root:Setting stocks Index(['EQIX'], dtype='object') on 2014-10-21 00:00:00 to null trades (because market volumes are 0)\n",
      "WARNING:root:Setting stocks Index(['EQIX'], dtype='object') on 2014-09-25 00:00:00 to null trades (because market volumes are 0)\n",
      "WARNING:root:Setting stocks Index(['EQIX'], dtype='object') on 2014-09-26 00:00:00 to null trades (because market volumes are 0)\n",
      "WARNING:root:Setting stocks Index(['EQIX'], dtype='object') on 2014-09-29 00:00:00 to null trades (because market volumes are 0)\n",
      "WARNING:root:Setting stocks Index(['EQIX'], dtype='object') on 2014-09-30 00:00:00 to null trades (because market volumes are 0)\n",
      "WARNING:root:Setting stocks Index(['EQIX'], dtype='object') on 2014-10-01 00:00:00 to null trades (because market volumes are 0)\n",
      "WARNING:root:Setting stocks Index(['EQIX'], dtype='object') on 2014-10-02 00:00:00 to null trades (because market volumes are 0)\n",
      "WARNING:root:Setting stocks Index(['EQIX'], dtype='object') on 2014-10-03 00:00:00 to null trades (because market volumes are 0)\n",
      "WARNING:root:Setting stocks Index(['EQIX'], dtype='object') on 2014-10-06 00:00:00 to null trades (because market volumes are 0)\n",
      "WARNING:root:Setting stocks Index(['EQIX'], dtype='object') on 2014-10-07 00:00:00 to null trades (because market volumes are 0)\n",
      "WARNING:root:Setting stocks Index(['EQIX'], dtype='object') on 2014-10-08 00:00:00 to null trades (because market volumes are 0)\n",
      "WARNING:root:Setting stocks Index(['EQIX'], dtype='object') on 2014-10-09 00:00:00 to null trades (because market volumes are 0)\n",
      "WARNING:root:Setting stocks Index(['EQIX'], dtype='object') on 2014-10-10 00:00:00 to null trades (because market volumes are 0)\n",
      "WARNING:root:Setting stocks Index(['EQIX'], dtype='object') on 2014-10-13 00:00:00 to null trades (because market volumes are 0)\n",
      "WARNING:root:Setting stocks Index(['EQIX'], dtype='object') on 2014-10-14 00:00:00 to null trades (because market volumes are 0)\n",
      "WARNING:root:Setting stocks Index(['EQIX'], dtype='object') on 2014-10-15 00:00:00 to null trades (because market volumes are 0)\n",
      "WARNING:root:Setting stocks Index(['EQIX'], dtype='object') on 2014-10-16 00:00:00 to null trades (because market volumes are 0)\n",
      "WARNING:root:Setting stocks Index(['EQIX'], dtype='object') on 2014-10-17 00:00:00 to null trades (because market volumes are 0)\n",
      "WARNING:root:Setting stocks Index(['EQIX'], dtype='object') on 2014-10-20 00:00:00 to null trades (because market volumes are 0)\n",
      "WARNING:root:Setting stocks Index(['EQIX'], dtype='object') on 2014-10-21 00:00:00 to null trades (because market volumes are 0)\n",
      "WARNING:root:Setting stocks Index(['EQIX'], dtype='object') on 2014-09-25 00:00:00 to null trades (because market volumes are 0)\n",
      "WARNING:root:Setting stocks Index(['EQIX'], dtype='object') on 2014-09-26 00:00:00 to null trades (because market volumes are 0)\n",
      "WARNING:root:Setting stocks Index(['EQIX'], dtype='object') on 2014-09-29 00:00:00 to null trades (because market volumes are 0)\n",
      "WARNING:root:Setting stocks Index(['EQIX'], dtype='object') on 2014-09-30 00:00:00 to null trades (because market volumes are 0)\n",
      "WARNING:root:Setting stocks Index(['EQIX'], dtype='object') on 2014-10-01 00:00:00 to null trades (because market volumes are 0)\n",
      "WARNING:root:Setting stocks Index(['EQIX'], dtype='object') on 2014-10-02 00:00:00 to null trades (because market volumes are 0)\n",
      "WARNING:root:Setting stocks Index(['EQIX'], dtype='object') on 2014-10-03 00:00:00 to null trades (because market volumes are 0)\n",
      "WARNING:root:Setting stocks Index(['EQIX'], dtype='object') on 2014-10-06 00:00:00 to null trades (because market volumes are 0)\n",
      "WARNING:root:Setting stocks Index(['EQIX'], dtype='object') on 2014-10-07 00:00:00 to null trades (because market volumes are 0)\n",
      "WARNING:root:Setting stocks Index(['EQIX'], dtype='object') on 2014-10-08 00:00:00 to null trades (because market volumes are 0)\n",
      "WARNING:root:Setting stocks Index(['EQIX'], dtype='object') on 2014-10-09 00:00:00 to null trades (because market volumes are 0)\n",
      "WARNING:root:Setting stocks Index(['EQIX'], dtype='object') on 2014-10-10 00:00:00 to null trades (because market volumes are 0)\n",
      "WARNING:root:Setting stocks Index(['EQIX'], dtype='object') on 2014-10-13 00:00:00 to null trades (because market volumes are 0)\n",
      "WARNING:root:Setting stocks Index(['EQIX'], dtype='object') on 2014-10-14 00:00:00 to null trades (because market volumes are 0)\n",
      "WARNING:root:Setting stocks Index(['EQIX'], dtype='object') on 2014-10-15 00:00:00 to null trades (because market volumes are 0)\n",
      "WARNING:root:Setting stocks Index(['EQIX'], dtype='object') on 2014-10-16 00:00:00 to null trades (because market volumes are 0)\n",
      "WARNING:root:Setting stocks Index(['EQIX'], dtype='object') on 2014-10-17 00:00:00 to null trades (because market volumes are 0)\n",
      "WARNING:root:Setting stocks Index(['EQIX'], dtype='object') on 2014-10-20 00:00:00 to null trades (because market volumes are 0)\n",
      "WARNING:root:Setting stocks Index(['EQIX'], dtype='object') on 2014-10-21 00:00:00 to null trades (because market volumes are 0)\n",
      "WARNING:root:Setting stocks Index(['EQIX'], dtype='object') on 2014-09-25 00:00:00 to null trades (because market volumes are 0)\n",
      "WARNING:root:Setting stocks Index(['EQIX'], dtype='object') on 2014-09-26 00:00:00 to null trades (because market volumes are 0)\n",
      "WARNING:root:Setting stocks Index(['EQIX'], dtype='object') on 2014-09-29 00:00:00 to null trades (because market volumes are 0)\n",
      "WARNING:root:Setting stocks Index(['EQIX'], dtype='object') on 2014-09-30 00:00:00 to null trades (because market volumes are 0)\n",
      "WARNING:root:Setting stocks Index(['EQIX'], dtype='object') on 2014-10-01 00:00:00 to null trades (because market volumes are 0)\n",
      "WARNING:root:Setting stocks Index(['EQIX'], dtype='object') on 2014-10-02 00:00:00 to null trades (because market volumes are 0)\n",
      "WARNING:root:Setting stocks Index(['EQIX'], dtype='object') on 2014-10-03 00:00:00 to null trades (because market volumes are 0)\n",
      "WARNING:root:Setting stocks Index(['EQIX'], dtype='object') on 2014-10-06 00:00:00 to null trades (because market volumes are 0)\n",
      "WARNING:root:Setting stocks Index(['EQIX'], dtype='object') on 2014-10-07 00:00:00 to null trades (because market volumes are 0)\n",
      "WARNING:root:Setting stocks Index(['EQIX'], dtype='object') on 2014-10-08 00:00:00 to null trades (because market volumes are 0)\n",
      "WARNING:root:Setting stocks Index(['EQIX'], dtype='object') on 2014-10-09 00:00:00 to null trades (because market volumes are 0)\n",
      "WARNING:root:Setting stocks Index(['EQIX'], dtype='object') on 2014-10-10 00:00:00 to null trades (because market volumes are 0)\n",
      "WARNING:root:Setting stocks Index(['EQIX'], dtype='object') on 2014-10-13 00:00:00 to null trades (because market volumes are 0)\n",
      "WARNING:root:Setting stocks Index(['EQIX'], dtype='object') on 2014-10-14 00:00:00 to null trades (because market volumes are 0)\n",
      "WARNING:root:Setting stocks Index(['EQIX'], dtype='object') on 2014-10-15 00:00:00 to null trades (because market volumes are 0)\n",
      "WARNING:root:Setting stocks Index(['EQIX'], dtype='object') on 2014-10-16 00:00:00 to null trades (because market volumes are 0)\n",
      "WARNING:root:Setting stocks Index(['EQIX'], dtype='object') on 2014-10-17 00:00:00 to null trades (because market volumes are 0)\n",
      "WARNING:root:Setting stocks Index(['EQIX'], dtype='object') on 2014-10-20 00:00:00 to null trades (because market volumes are 0)\n",
      "WARNING:root:Setting stocks Index(['EQIX'], dtype='object') on 2014-10-21 00:00:00 to null trades (because market volumes are 0)\n",
      "WARNING:root:Setting stocks Index(['EQIX'], dtype='object') on 2014-09-25 00:00:00 to null trades (because market volumes are 0)\n",
      "WARNING:root:Setting stocks Index(['EQIX'], dtype='object') on 2014-09-26 00:00:00 to null trades (because market volumes are 0)\n",
      "WARNING:root:Setting stocks Index(['EQIX'], dtype='object') on 2014-09-29 00:00:00 to null trades (because market volumes are 0)\n",
      "WARNING:root:Setting stocks Index(['EQIX'], dtype='object') on 2014-09-30 00:00:00 to null trades (because market volumes are 0)\n",
      "WARNING:root:Setting stocks Index(['EQIX'], dtype='object') on 2014-10-01 00:00:00 to null trades (because market volumes are 0)\n",
      "WARNING:root:Setting stocks Index(['EQIX'], dtype='object') on 2014-10-02 00:00:00 to null trades (because market volumes are 0)\n",
      "WARNING:root:Setting stocks Index(['EQIX'], dtype='object') on 2014-10-03 00:00:00 to null trades (because market volumes are 0)\n",
      "WARNING:root:Setting stocks Index(['EQIX'], dtype='object') on 2014-10-06 00:00:00 to null trades (because market volumes are 0)\n",
      "WARNING:root:Setting stocks Index(['EQIX'], dtype='object') on 2014-10-07 00:00:00 to null trades (because market volumes are 0)\n",
      "WARNING:root:Setting stocks Index(['EQIX'], dtype='object') on 2014-10-08 00:00:00 to null trades (because market volumes are 0)\n",
      "WARNING:root:Setting stocks Index(['EQIX'], dtype='object') on 2014-10-09 00:00:00 to null trades (because market volumes are 0)\n",
      "WARNING:root:Setting stocks Index(['EQIX'], dtype='object') on 2014-10-10 00:00:00 to null trades (because market volumes are 0)\n",
      "WARNING:root:Setting stocks Index(['EQIX'], dtype='object') on 2014-10-13 00:00:00 to null trades (because market volumes are 0)\n",
      "WARNING:root:Setting stocks Index(['EQIX'], dtype='object') on 2014-10-14 00:00:00 to null trades (because market volumes are 0)\n",
      "WARNING:root:Setting stocks Index(['EQIX'], dtype='object') on 2014-10-15 00:00:00 to null trades (because market volumes are 0)\n",
      "WARNING:root:Setting stocks Index(['EQIX'], dtype='object') on 2014-10-16 00:00:00 to null trades (because market volumes are 0)\n",
      "WARNING:root:Setting stocks Index(['EQIX'], dtype='object') on 2014-10-17 00:00:00 to null trades (because market volumes are 0)\n",
      "WARNING:root:Setting stocks Index(['EQIX'], dtype='object') on 2014-10-20 00:00:00 to null trades (because market volumes are 0)\n",
      "WARNING:root:Setting stocks Index(['EQIX'], dtype='object') on 2014-10-21 00:00:00 to null trades (because market volumes are 0)\n",
      "WARNING:root:Setting stocks Index(['EQIX'], dtype='object') on 2014-09-25 00:00:00 to null trades (because market volumes are 0)\n",
      "WARNING:root:Setting stocks Index(['EQIX'], dtype='object') on 2014-09-26 00:00:00 to null trades (because market volumes are 0)\n",
      "WARNING:root:Setting stocks Index(['EQIX'], dtype='object') on 2014-09-29 00:00:00 to null trades (because market volumes are 0)\n",
      "WARNING:root:Setting stocks Index(['EQIX'], dtype='object') on 2014-09-30 00:00:00 to null trades (because market volumes are 0)\n",
      "WARNING:root:Setting stocks Index(['EQIX'], dtype='object') on 2014-10-01 00:00:00 to null trades (because market volumes are 0)\n",
      "WARNING:root:Setting stocks Index(['EQIX'], dtype='object') on 2014-10-02 00:00:00 to null trades (because market volumes are 0)\n",
      "WARNING:root:Setting stocks Index(['EQIX'], dtype='object') on 2014-10-03 00:00:00 to null trades (because market volumes are 0)\n",
      "WARNING:root:Setting stocks Index(['EQIX'], dtype='object') on 2014-10-06 00:00:00 to null trades (because market volumes are 0)\n",
      "WARNING:root:Setting stocks Index(['EQIX'], dtype='object') on 2014-10-07 00:00:00 to null trades (because market volumes are 0)\n",
      "WARNING:root:Setting stocks Index(['EQIX'], dtype='object') on 2014-10-08 00:00:00 to null trades (because market volumes are 0)\n",
      "WARNING:root:Setting stocks Index(['EQIX'], dtype='object') on 2014-10-09 00:00:00 to null trades (because market volumes are 0)\n",
      "WARNING:root:Setting stocks Index(['EQIX'], dtype='object') on 2014-10-10 00:00:00 to null trades (because market volumes are 0)\n",
      "WARNING:root:Setting stocks Index(['EQIX'], dtype='object') on 2014-10-13 00:00:00 to null trades (because market volumes are 0)\n",
      "WARNING:root:Setting stocks Index(['EQIX'], dtype='object') on 2014-10-14 00:00:00 to null trades (because market volumes are 0)\n",
      "WARNING:root:Setting stocks Index(['EQIX'], dtype='object') on 2014-10-15 00:00:00 to null trades (because market volumes are 0)\n",
      "WARNING:root:Setting stocks Index(['EQIX'], dtype='object') on 2014-10-16 00:00:00 to null trades (because market volumes are 0)\n",
      "WARNING:root:Setting stocks Index(['EQIX'], dtype='object') on 2014-10-17 00:00:00 to null trades (because market volumes are 0)\n",
      "WARNING:root:Setting stocks Index(['EQIX'], dtype='object') on 2014-10-20 00:00:00 to null trades (because market volumes are 0)\n",
      "WARNING:root:Setting stocks Index(['EQIX'], dtype='object') on 2014-10-21 00:00:00 to null trades (because market volumes are 0)\n",
      "WARNING:root:Setting stocks Index(['EQIX'], dtype='object') on 2014-09-25 00:00:00 to null trades (because market volumes are 0)\n",
      "WARNING:root:Setting stocks Index(['EQIX'], dtype='object') on 2014-09-26 00:00:00 to null trades (because market volumes are 0)\n",
      "WARNING:root:Setting stocks Index(['EQIX'], dtype='object') on 2014-09-29 00:00:00 to null trades (because market volumes are 0)\n",
      "WARNING:root:Setting stocks Index(['EQIX'], dtype='object') on 2014-09-30 00:00:00 to null trades (because market volumes are 0)\n",
      "WARNING:root:Setting stocks Index(['EQIX'], dtype='object') on 2014-10-01 00:00:00 to null trades (because market volumes are 0)\n",
      "WARNING:root:Setting stocks Index(['EQIX'], dtype='object') on 2014-10-02 00:00:00 to null trades (because market volumes are 0)\n",
      "WARNING:root:Setting stocks Index(['EQIX'], dtype='object') on 2014-10-03 00:00:00 to null trades (because market volumes are 0)\n",
      "WARNING:root:Setting stocks Index(['EQIX'], dtype='object') on 2014-10-06 00:00:00 to null trades (because market volumes are 0)\n",
      "WARNING:root:Setting stocks Index(['EQIX'], dtype='object') on 2014-10-07 00:00:00 to null trades (because market volumes are 0)\n",
      "WARNING:root:Setting stocks Index(['EQIX'], dtype='object') on 2014-10-08 00:00:00 to null trades (because market volumes are 0)\n",
      "WARNING:root:Setting stocks Index(['EQIX'], dtype='object') on 2014-10-09 00:00:00 to null trades (because market volumes are 0)\n",
      "WARNING:root:Setting stocks Index(['EQIX'], dtype='object') on 2014-10-10 00:00:00 to null trades (because market volumes are 0)\n",
      "WARNING:root:Setting stocks Index(['EQIX'], dtype='object') on 2014-10-13 00:00:00 to null trades (because market volumes are 0)\n",
      "WARNING:root:Setting stocks Index(['EQIX'], dtype='object') on 2014-10-14 00:00:00 to null trades (because market volumes are 0)\n",
      "WARNING:root:Setting stocks Index(['EQIX'], dtype='object') on 2014-10-15 00:00:00 to null trades (because market volumes are 0)\n",
      "WARNING:root:Setting stocks Index(['EQIX'], dtype='object') on 2014-10-16 00:00:00 to null trades (because market volumes are 0)\n",
      "WARNING:root:Setting stocks Index(['EQIX'], dtype='object') on 2014-10-17 00:00:00 to null trades (because market volumes are 0)\n",
      "WARNING:root:Setting stocks Index(['EQIX'], dtype='object') on 2014-10-20 00:00:00 to null trades (because market volumes are 0)\n",
      "WARNING:root:Setting stocks Index(['EQIX'], dtype='object') on 2014-10-21 00:00:00 to null trades (because market volumes are 0)\n",
      "WARNING:root:Setting stocks Index(['EQIX'], dtype='object') on 2014-09-25 00:00:00 to null trades (because market volumes are 0)\n",
      "WARNING:root:Setting stocks Index(['EQIX'], dtype='object') on 2014-09-26 00:00:00 to null trades (because market volumes are 0)\n",
      "WARNING:root:Setting stocks Index(['EQIX'], dtype='object') on 2014-09-29 00:00:00 to null trades (because market volumes are 0)\n",
      "WARNING:root:Setting stocks Index(['EQIX'], dtype='object') on 2014-09-30 00:00:00 to null trades (because market volumes are 0)\n",
      "WARNING:root:Setting stocks Index(['EQIX'], dtype='object') on 2014-10-01 00:00:00 to null trades (because market volumes are 0)\n",
      "WARNING:root:Setting stocks Index(['EQIX'], dtype='object') on 2014-10-02 00:00:00 to null trades (because market volumes are 0)\n",
      "WARNING:root:Setting stocks Index(['EQIX'], dtype='object') on 2014-10-03 00:00:00 to null trades (because market volumes are 0)\n",
      "WARNING:root:Setting stocks Index(['EQIX'], dtype='object') on 2014-10-06 00:00:00 to null trades (because market volumes are 0)\n",
      "WARNING:root:Setting stocks Index(['EQIX'], dtype='object') on 2014-10-07 00:00:00 to null trades (because market volumes are 0)\n",
      "WARNING:root:Setting stocks Index(['EQIX'], dtype='object') on 2014-10-08 00:00:00 to null trades (because market volumes are 0)\n",
      "WARNING:root:Setting stocks Index(['EQIX'], dtype='object') on 2014-10-09 00:00:00 to null trades (because market volumes are 0)\n",
      "WARNING:root:Setting stocks Index(['EQIX'], dtype='object') on 2014-10-10 00:00:00 to null trades (because market volumes are 0)\n",
      "WARNING:root:Setting stocks Index(['EQIX'], dtype='object') on 2014-10-13 00:00:00 to null trades (because market volumes are 0)\n",
      "WARNING:root:Setting stocks Index(['EQIX'], dtype='object') on 2014-10-14 00:00:00 to null trades (because market volumes are 0)\n",
      "WARNING:root:Setting stocks Index(['EQIX'], dtype='object') on 2014-10-15 00:00:00 to null trades (because market volumes are 0)\n",
      "WARNING:root:Setting stocks Index(['EQIX'], dtype='object') on 2014-10-16 00:00:00 to null trades (because market volumes are 0)\n",
      "WARNING:root:Setting stocks Index(['EQIX'], dtype='object') on 2014-10-17 00:00:00 to null trades (because market volumes are 0)\n",
      "WARNING:root:Setting stocks Index(['EQIX'], dtype='object') on 2014-10-20 00:00:00 to null trades (because market volumes are 0)\n",
      "WARNING:root:Setting stocks Index(['EQIX'], dtype='object') on 2014-10-21 00:00:00 to null trades (because market volumes are 0)\n"
     ]
    }
   ],
   "source": [
    "results=dict(zip(policies.keys(), \n",
    "                 simulator.run_multiple_backtest(p_0, start_time=\"2012-01-01\",end_time=\"2016-12-31\",\n",
    "                                              policies=policies.values(), parallel=True)))"
   ]
  },
  {
   "cell_type": "code",
   "execution_count": 170,
   "metadata": {
    "collapsed": false
   },
   "outputs": [
    {
     "data": {
      "text/plain": [
       "{(0.5, 1): <cvx_portfolio.result.SimulationResult at 0x7f922c3c3438>,\n",
       " (0.5, 1.5): <cvx_portfolio.result.SimulationResult at 0x7f922c3e35f8>,\n",
       " (0.5, 2): <cvx_portfolio.result.SimulationResult at 0x7f922c3493c8>,\n",
       " (0.5, 2.5): <cvx_portfolio.result.SimulationResult at 0x7f922c3f9198>,\n",
       " (0.5, 3): <cvx_portfolio.result.SimulationResult at 0x7f922c36f0b8>,\n",
       " (10, 1): <cvx_portfolio.result.SimulationResult at 0x7f922c3c6668>,\n",
       " (10, 1.5): <cvx_portfolio.result.SimulationResult at 0x7f922c3541d0>,\n",
       " (10, 2): <cvx_portfolio.result.SimulationResult at 0x7f922c31fe48>,\n",
       " (10, 2.5): <cvx_portfolio.result.SimulationResult at 0x7f922c3af470>,\n",
       " (10, 3): <cvx_portfolio.result.SimulationResult at 0x7f922c4e1080>,\n",
       " (100, 1): <cvx_portfolio.result.SimulationResult at 0x7f922c3fae48>,\n",
       " (100, 1.5): <cvx_portfolio.result.SimulationResult at 0x7f922c304f60>,\n",
       " (100, 2): <cvx_portfolio.result.SimulationResult at 0x7f922c3548d0>,\n",
       " (100, 2.5): <cvx_portfolio.result.SimulationResult at 0x7f922c3f92b0>,\n",
       " (100, 3): <cvx_portfolio.result.SimulationResult at 0x7f922c3b2080>,\n",
       " (1000, 1): <cvx_portfolio.result.SimulationResult at 0x7f922c39b978>,\n",
       " (1000, 1.5): <cvx_portfolio.result.SimulationResult at 0x7f922c3c4fd0>,\n",
       " (1000, 2): <cvx_portfolio.result.SimulationResult at 0x7f922c4234e0>,\n",
       " (1000, 2.5): <cvx_portfolio.result.SimulationResult at 0x7f922c49c438>,\n",
       " (1000, 3): <cvx_portfolio.result.SimulationResult at 0x7f922c3b82b0>}"
      ]
     },
     "execution_count": 170,
     "metadata": {},
     "output_type": "execute_result"
    }
   ],
   "source": [
    "results"
   ]
  },
  {
   "cell_type": "code",
   "execution_count": 187,
   "metadata": {
    "collapsed": false
   },
   "outputs": [],
   "source": [
    "result_df=pd.DataFrame()\n",
    "for k in results:\n",
    "    result_df.loc[k[0], float(k[1])]= results[k]\n",
    "result_df.index.name = 'gamma_risk'\n",
    "result_df.columns.name = 'leverage'\n",
    "result_df = result_df.reindex(index=sorted(result_df.index),columns=sorted(result_df.columns))"
   ]
  },
  {
   "cell_type": "code",
   "execution_count": 191,
   "metadata": {
    "collapsed": true
   },
   "outputs": [],
   "source": [
    "result_df=result_df.loc[result_df.index[:3]]\n",
    "result_df=result_df[[1,2,3]]"
   ]
  },
  {
   "cell_type": "code",
   "execution_count": 192,
   "metadata": {
    "collapsed": false
   },
   "outputs": [
    {
     "data": {
      "image/png": "[encoded data removed]",
      "text/plain": [
       "<matplotlib.figure.Figure at 0x7f920f5f2198>"
      ]
     },
     "metadata": {},
     "output_type": "display_data"
    }
   ],
   "source": [
    "plt.figure(figsize=(8,5))\n",
    "for leverage in result_df.columns:\n",
    "    x = [100*result_df.loc[(i, leverage)].volatility for i in result_df.index]\n",
    "    y = [100*result_df.loc[(i, leverage)].mean_return for i in result_df.index]\n",
    "    plt.plot(np.array(x),np.array(y), '.-', label=r'$L^\\mathrm{max} = %g$'%leverage)\n",
    "plt.legend(loc='upper left')\n",
    "plt.xlabel('Volatility')\n",
    "plt.ylabel('Return')\n",
    "\n",
    "import matplotlib.ticker as mtick\n",
    "ax = plt.gca()\n",
    "ax.xaxis.set_major_formatter(mtick.FormatStrFormatter('%g%%'))\n",
    "ax.yaxis.set_major_formatter(mtick.FormatStrFormatter('%g%%'))\n",
    "\n",
    "plt.savefig(plotdir+'constr_riskrewardfrontier.png')"
   ]
  },
  {
   "cell_type": "code",
   "execution_count": 193,
   "metadata": {
    "collapsed": false
   },
   "outputs": [
    {
     "data": {
      "text/html": [
       "<div>\n",
       "<table border=\"1\" class=\"dataframe\">\n",
       "  <thead>\n",
       "    <tr style=\"text-align: right;\">\n",
       "      <th></th>\n",
       "      <th></th>\n",
       "      <th>Return</th>\n",
       "      <th>Trans. costs</th>\n",
       "      <th>Volatility</th>\n",
       "    </tr>\n",
       "    <tr>\n",
       "      <th>$\\gamma^\\mathrm{risk}$</th>\n",
       "      <th>$L^\\mathrm{max}$</th>\n",
       "      <th></th>\n",
       "      <th></th>\n",
       "      <th></th>\n",
       "    </tr>\n",
       "  </thead>\n",
       "  <tbody>\n",
       "    <tr>\n",
       "      <th rowspan=\"3\" valign=\"top\">0.5</th>\n",
       "      <th>1</th>\n",
       "      <td>16.79%</td>\n",
       "      <td>0.01%</td>\n",
       "      <td>13.72%</td>\n",
       "    </tr>\n",
       "    <tr>\n",
       "      <th>2</th>\n",
       "      <td>13.55%</td>\n",
       "      <td>0.43%</td>\n",
       "      <td>13.63%</td>\n",
       "    </tr>\n",
       "    <tr>\n",
       "      <th>3</th>\n",
       "      <td>10.42%</td>\n",
       "      <td>1.10%</td>\n",
       "      <td>16.70%</td>\n",
       "    </tr>\n",
       "    <tr>\n",
       "      <th rowspan=\"3\" valign=\"top\">10</th>\n",
       "      <th>1</th>\n",
       "      <td>5.66%</td>\n",
       "      <td>0.08%</td>\n",
       "      <td>4.15%</td>\n",
       "    </tr>\n",
       "    <tr>\n",
       "      <th>2</th>\n",
       "      <td>5.80%</td>\n",
       "      <td>0.36%</td>\n",
       "      <td>5.58%</td>\n",
       "    </tr>\n",
       "    <tr>\n",
       "      <th>3</th>\n",
       "      <td>4.65%</td>\n",
       "      <td>0.32%</td>\n",
       "      <td>5.66%</td>\n",
       "    </tr>\n",
       "    <tr>\n",
       "      <th rowspan=\"3\" valign=\"top\">100</th>\n",
       "      <th>1</th>\n",
       "      <td>0.84%</td>\n",
       "      <td>0.19%</td>\n",
       "      <td>0.69%</td>\n",
       "    </tr>\n",
       "    <tr>\n",
       "      <th>2</th>\n",
       "      <td>1.80%</td>\n",
       "      <td>0.41%</td>\n",
       "      <td>2.30%</td>\n",
       "    </tr>\n",
       "    <tr>\n",
       "      <th>3</th>\n",
       "      <td>1.80%</td>\n",
       "      <td>0.41%</td>\n",
       "      <td>2.30%</td>\n",
       "    </tr>\n",
       "  </tbody>\n",
       "</table>\n",
       "</div>"
      ],
      "text/plain": [
       "                                         Return Trans. costs Volatility\n",
       "$\\gamma^\\mathrm{risk}$ $L^\\mathrm{max}$                                \n",
       "0.5                    1                 16.79%        0.01%     13.72%\n",
       "                       2                 13.55%        0.43%     13.63%\n",
       "                       3                 10.42%        1.10%     16.70%\n",
       "10                     1                  5.66%        0.08%      4.15%\n",
       "                       2                  5.80%        0.36%      5.58%\n",
       "                       3                  4.65%        0.32%      5.66%\n",
       "100                    1                  0.84%        0.19%      0.69%\n",
       "                       2                  1.80%        0.41%      2.30%\n",
       "                       3                  1.80%        0.41%      2.30%"
      ]
     },
     "execution_count": 193,
     "metadata": {},
     "output_type": "execute_result"
    }
   ],
   "source": [
    "result_df_used= result_df\n",
    "\n",
    "avg_daily_return=lambda res: \"%.2f%%\"%(res.mean_return*100)\n",
    "avg_annual_tcost=lambda res: \"%.2f%%\"%((res.simulator_TcostModel.sum(1)/res.v).mean() *250*100)\n",
    "volatility=lambda res: \"%.2f%%\"%(res.volatility*100)\n",
    "\n",
    "table=pd.Panel({r'Return':result_df_used.applymap(avg_daily_return),\n",
    "          r'Trans. costs':result_df_used.applymap(avg_annual_tcost),\n",
    "          r'Volatility':result_df_used.applymap(volatility),\n",
    "               }).to_frame()\n",
    "table = table.set_index(table.index.rename([r'$\\gamma^\\mathrm{risk}$', r'$L^\\mathrm{max}$']))\n",
    "\n",
    "# format index\n",
    "table=table.set_index(table.index.set_levels([[\"%g\"%i for i in table.index.levels[0]],\n",
    "                      [\"%g\"%i for i in table.index.levels[1]]]))\n",
    "\n",
    "table"
   ]
  },
  {
   "cell_type": "code",
   "execution_count": 194,
   "metadata": {
    "collapsed": false
   },
   "outputs": [
    {
     "name": "stdout",
     "output_type": "stream",
     "text": [
      "\\begin{tabular}{lllll}\n",
      "\\toprule\n",
      "    &   &  Return & Trans. costs & Volatility \\\\\n",
      "$\\gamma^\\mathrm{risk}$ & $L^\\mathrm{max}$ &         &              &            \\\\\n",
      "\\midrule\n",
      "0.5 & 1 &  16.79\\% &        0.01\\% &     13.72\\% \\\\\n",
      "    & 2 &  13.55\\% &        0.43\\% &     13.63\\% \\\\\n",
      "    & 3 &  10.42\\% &        1.10\\% &     16.70\\% \\\\\n",
      "10 & 1 &   5.66\\% &        0.08\\% &      4.15\\% \\\\\n",
      "    & 2 &   5.80\\% &        0.36\\% &      5.58\\% \\\\\n",
      "    & 3 &   4.65\\% &        0.32\\% &      5.66\\% \\\\\n",
      "100 & 1 &   0.84\\% &        0.19\\% &      0.69\\% \\\\\n",
      "    & 2 &   1.80\\% &        0.41\\% &      2.30\\% \\\\\n",
      "    & 3 &   1.80\\% &        0.41\\% &      2.30\\% \\\\\n",
      "\\bottomrule\n",
      "\\end{tabular}\n",
      "\n"
     ]
    }
   ],
   "source": [
    "print(table.to_latex(escape=False).replace('%','\\%'))"
   ]
  },
  {
   "cell_type": "code",
   "execution_count": 200,
   "metadata": {
    "collapsed": false
   },
   "outputs": [],
   "source": [
    "# x = [results_s.loc[l].volatility*100 for l in results_s.index]\n",
    "# y = [results_s.loc[l].mean_return*100 for l in results_s.index]\n",
    "# plt.plot(np.array(x),np.array(y), '.-')"
   ]
  },
  {
   "cell_type": "code",
   "execution_count": 201,
   "metadata": {
    "collapsed": false
   },
   "outputs": [],
   "source": [
    "# for i in range(5):\\\n",
    "#     results_s.values[i].leverage.plot(label='%g'%leverages[i])\n",
    "# plt.legend()"
   ]
  },
  {
   "cell_type": "code",
   "execution_count": 202,
   "metadata": {
    "collapsed": false
   },
   "outputs": [],
   "source": [
    "# for i in range(5):\\\n",
    "#     results_s.values[i].v.plot(label='%g'%leverages[i])\n",
    "# plt.legend()"
   ]
  },
  {
   "cell_type": "code",
   "execution_count": 203,
   "metadata": {
    "collapsed": false
   },
   "outputs": [],
   "source": [
    "# for i in range(5):\\\n",
    "#     results_s.values[i].w['USDOLLAR'].plot(label='%g'%leverages[i])\n",
    "# plt.legend()"
   ]
  },
  {
   "cell_type": "code",
   "execution_count": 204,
   "metadata": {
    "collapsed": false
   },
   "outputs": [],
   "source": [
    "# for i in range(5):\\\n",
    "#     (np.sqrt(250)*np.sqrt(results_s.values[i].policy_FactorModelSigma)).plot(label='%g'%leverages[i])\n",
    "# plt.legend()"
   ]
  },
  {
   "cell_type": "code",
   "execution_count": null,
   "metadata": {
    "collapsed": true
   },
   "outputs": [],
   "source": []
  },
  {
   "cell_type": "code",
   "execution_count": null,
   "metadata": {
    "collapsed": true
   },
   "outputs": [],
   "source": []
  }
 ],
 "metadata": {
  "anaconda-cloud": {},
  "kernelspec": {
   "display_name": "Python [conda root]",
   "language": "python",
   "name": "conda-root-py"
  },
  "language_info": {
   "codemirror_mode": {
    "name": "ipython",
    "version": 3
   },
   "file_extension": ".py",
   "mimetype": "text/x-python",
   "name": "python",
   "nbconvert_exporter": "python",
   "pygments_lexer": "ipython3",
   "version": "3.5.2"
  }
 },
 "nbformat": 4,
 "nbformat_minor": 2
}
