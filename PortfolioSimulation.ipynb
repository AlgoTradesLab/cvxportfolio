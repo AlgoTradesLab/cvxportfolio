{
 "cells": [
  {
   "cell_type": "code",
   "execution_count": 1,
   "metadata": {
    "collapsed": false
   },
   "outputs": [],
   "source": [
    "%load_ext autoreload\n",
    "%autoreload 2\n",
    "%matplotlib inline\n",
    "\n",
    "import pandas as pd\n",
    "import numpy as np\n",
    "import matplotlib.pyplot as plt\n",
    "import cvx_portfolio as cp\n",
    "\n",
    "plotdir = '../portfolio/plots/'"
   ]
  },
  {
   "cell_type": "markdown",
   "metadata": {},
   "source": [
    "## Download data using ee103 code (to be integrated) "
   ]
  },
  {
   "cell_type": "code",
   "execution_count": 2,
   "metadata": {
    "collapsed": true
   },
   "outputs": [],
   "source": [
    "datadir= '../equity_data_tool/'\n",
    "sigmas=pd.read_csv(datadir+'sigmas.txt',index_col=0,parse_dates=[0])\n",
    "returns=pd.read_csv(datadir+'returns.txt',index_col=0,parse_dates=[0])\n",
    "volumes=pd.read_csv(datadir+'volumes.txt',index_col=0,parse_dates=[0])\n",
    "\n",
    "a = pd.DataFrame(data=2.5*1e-4, index=volumes.index, columns=volumes.columns)\n",
    "b = pd.DataFrame(data=1, index=volumes.index, columns=volumes.columns) # fix volatility model\n",
    "s = pd.DataFrame(data=1*1e-4, index=volumes.index, columns=volumes.columns)\n",
    "\n",
    "w_b = pd.Series(index=returns.columns, data=1)\n",
    "w_b.USDOLLAR = 0.\n",
    "w_b/=sum(w_b)\n",
    "\n",
    "start_t=\"2012-01-01\"\n",
    "end_t=\"2016-12-31\""
   ]
  },
  {
   "cell_type": "markdown",
   "metadata": {},
   "source": [
    "## Simulations"
   ]
  },
  {
   "cell_type": "code",
   "execution_count": 3,
   "metadata": {
    "collapsed": false
   },
   "outputs": [
    {
     "name": "stderr",
     "output_type": "stream",
     "text": [
      "WARNING:root:Setting stocks Index(['EQIX'], dtype='object') on 2014-09-25 00:00:00 to null trades (because market volumes are 0)\n",
      "WARNING:root:Setting stocks Index(['EQIX'], dtype='object') on 2014-09-26 00:00:00 to null trades (because market volumes are 0)\n",
      "WARNING:root:Setting stocks Index(['EQIX'], dtype='object') on 2014-09-29 00:00:00 to null trades (because market volumes are 0)\n",
      "WARNING:root:Setting stocks Index(['EQIX'], dtype='object') on 2014-09-30 00:00:00 to null trades (because market volumes are 0)\n",
      "WARNING:root:Setting stocks Index(['EQIX'], dtype='object') on 2014-10-01 00:00:00 to null trades (because market volumes are 0)\n",
      "WARNING:root:Setting stocks Index(['EQIX'], dtype='object') on 2014-10-02 00:00:00 to null trades (because market volumes are 0)\n",
      "WARNING:root:Setting stocks Index(['EQIX'], dtype='object') on 2014-10-03 00:00:00 to null trades (because market volumes are 0)\n",
      "WARNING:root:Setting stocks Index(['EQIX'], dtype='object') on 2014-10-06 00:00:00 to null trades (because market volumes are 0)\n",
      "WARNING:root:Setting stocks Index(['EQIX'], dtype='object') on 2014-10-07 00:00:00 to null trades (because market volumes are 0)\n",
      "WARNING:root:Setting stocks Index(['EQIX'], dtype='object') on 2014-10-08 00:00:00 to null trades (because market volumes are 0)\n",
      "WARNING:root:Setting stocks Index(['EQIX'], dtype='object') on 2014-10-09 00:00:00 to null trades (because market volumes are 0)\n",
      "WARNING:root:Setting stocks Index(['EQIX'], dtype='object') on 2014-10-10 00:00:00 to null trades (because market volumes are 0)\n",
      "WARNING:root:Setting stocks Index(['EQIX'], dtype='object') on 2014-10-13 00:00:00 to null trades (because market volumes are 0)\n",
      "WARNING:root:Setting stocks Index(['EQIX'], dtype='object') on 2014-10-14 00:00:00 to null trades (because market volumes are 0)\n",
      "WARNING:root:Setting stocks Index(['EQIX'], dtype='object') on 2014-10-15 00:00:00 to null trades (because market volumes are 0)\n",
      "WARNING:root:Setting stocks Index(['EQIX'], dtype='object') on 2014-10-16 00:00:00 to null trades (because market volumes are 0)\n",
      "WARNING:root:Setting stocks Index(['EQIX'], dtype='object') on 2014-10-17 00:00:00 to null trades (because market volumes are 0)\n",
      "WARNING:root:Setting stocks Index(['EQIX'], dtype='object') on 2014-10-20 00:00:00 to null trades (because market volumes are 0)\n",
      "WARNING:root:Setting stocks Index(['EQIX'], dtype='object') on 2014-10-21 00:00:00 to null trades (because market volumes are 0)\n",
      "WARNING:root:Setting stocks Index(['EQIX'], dtype='object') on 2014-09-25 00:00:00 to null trades (because market volumes are 0)\n",
      "WARNING:root:Setting stocks Index(['EQIX'], dtype='object') on 2014-09-26 00:00:00 to null trades (because market volumes are 0)\n",
      "WARNING:root:Setting stocks Index(['EQIX'], dtype='object') on 2014-09-29 00:00:00 to null trades (because market volumes are 0)\n",
      "WARNING:root:Setting stocks Index(['EQIX'], dtype='object') on 2014-09-30 00:00:00 to null trades (because market volumes are 0)\n",
      "WARNING:root:Setting stocks Index(['EQIX'], dtype='object') on 2014-10-01 00:00:00 to null trades (because market volumes are 0)\n",
      "WARNING:root:Setting stocks Index(['EQIX'], dtype='object') on 2014-10-02 00:00:00 to null trades (because market volumes are 0)\n",
      "WARNING:root:Setting stocks Index(['EQIX'], dtype='object') on 2014-10-03 00:00:00 to null trades (because market volumes are 0)\n",
      "WARNING:root:Setting stocks Index(['EQIX'], dtype='object') on 2014-10-06 00:00:00 to null trades (because market volumes are 0)\n",
      "WARNING:root:Setting stocks Index(['EQIX'], dtype='object') on 2014-10-07 00:00:00 to null trades (because market volumes are 0)\n",
      "WARNING:root:Setting stocks Index(['EQIX'], dtype='object') on 2014-10-08 00:00:00 to null trades (because market volumes are 0)\n",
      "WARNING:root:Setting stocks Index(['EQIX'], dtype='object') on 2014-10-09 00:00:00 to null trades (because market volumes are 0)\n",
      "WARNING:root:Setting stocks Index(['EQIX'], dtype='object') on 2014-10-10 00:00:00 to null trades (because market volumes are 0)\n",
      "WARNING:root:Setting stocks Index(['EQIX'], dtype='object') on 2014-10-13 00:00:00 to null trades (because market volumes are 0)\n",
      "WARNING:root:Setting stocks Index(['EQIX'], dtype='object') on 2014-10-14 00:00:00 to null trades (because market volumes are 0)\n",
      "WARNING:root:Setting stocks Index(['EQIX'], dtype='object') on 2014-10-15 00:00:00 to null trades (because market volumes are 0)\n",
      "WARNING:root:Setting stocks Index(['EQIX'], dtype='object') on 2014-10-16 00:00:00 to null trades (because market volumes are 0)\n",
      "WARNING:root:Setting stocks Index(['EQIX'], dtype='object') on 2014-10-17 00:00:00 to null trades (because market volumes are 0)\n",
      "WARNING:root:Setting stocks Index(['EQIX'], dtype='object') on 2014-10-20 00:00:00 to null trades (because market volumes are 0)\n",
      "WARNING:root:Setting stocks Index(['EQIX'], dtype='object') on 2014-10-21 00:00:00 to null trades (because market volumes are 0)\n",
      "WARNING:root:Setting stocks Index(['EQIX'], dtype='object') on 2014-09-25 00:00:00 to null trades (because market volumes are 0)\n",
      "WARNING:root:Setting stocks Index(['EQIX'], dtype='object') on 2014-09-26 00:00:00 to null trades (because market volumes are 0)\n",
      "WARNING:root:Setting stocks Index(['EQIX'], dtype='object') on 2014-09-29 00:00:00 to null trades (because market volumes are 0)\n",
      "WARNING:root:Setting stocks Index(['EQIX'], dtype='object') on 2014-09-30 00:00:00 to null trades (because market volumes are 0)\n",
      "WARNING:root:Setting stocks Index(['EQIX'], dtype='object') on 2014-10-01 00:00:00 to null trades (because market volumes are 0)\n",
      "WARNING:root:Setting stocks Index(['EQIX'], dtype='object') on 2014-10-02 00:00:00 to null trades (because market volumes are 0)\n",
      "WARNING:root:Setting stocks Index(['EQIX'], dtype='object') on 2014-10-03 00:00:00 to null trades (because market volumes are 0)\n",
      "WARNING:root:Setting stocks Index(['EQIX'], dtype='object') on 2014-10-06 00:00:00 to null trades (because market volumes are 0)\n",
      "WARNING:root:Setting stocks Index(['EQIX'], dtype='object') on 2014-10-07 00:00:00 to null trades (because market volumes are 0)\n",
      "WARNING:root:Setting stocks Index(['EQIX'], dtype='object') on 2014-10-08 00:00:00 to null trades (because market volumes are 0)\n",
      "WARNING:root:Setting stocks Index(['EQIX'], dtype='object') on 2014-10-09 00:00:00 to null trades (because market volumes are 0)\n",
      "WARNING:root:Setting stocks Index(['EQIX'], dtype='object') on 2014-10-10 00:00:00 to null trades (because market volumes are 0)\n",
      "WARNING:root:Setting stocks Index(['EQIX'], dtype='object') on 2014-10-13 00:00:00 to null trades (because market volumes are 0)\n",
      "WARNING:root:Setting stocks Index(['EQIX'], dtype='object') on 2014-10-14 00:00:00 to null trades (because market volumes are 0)\n",
      "WARNING:root:Setting stocks Index(['EQIX'], dtype='object') on 2014-10-15 00:00:00 to null trades (because market volumes are 0)\n",
      "WARNING:root:Setting stocks Index(['EQIX'], dtype='object') on 2014-10-16 00:00:00 to null trades (because market volumes are 0)\n",
      "WARNING:root:Setting stocks Index(['EQIX'], dtype='object') on 2014-10-17 00:00:00 to null trades (because market volumes are 0)\n",
      "WARNING:root:Setting stocks Index(['EQIX'], dtype='object') on 2014-10-20 00:00:00 to null trades (because market volumes are 0)\n",
      "WARNING:root:Setting stocks Index(['EQIX'], dtype='object') on 2014-10-21 00:00:00 to null trades (because market volumes are 0)\n",
      "WARNING:root:Setting stocks Index(['EQIX'], dtype='object') on 2014-09-25 00:00:00 to null trades (because market volumes are 0)\n",
      "WARNING:root:Setting stocks Index(['EQIX'], dtype='object') on 2014-09-26 00:00:00 to null trades (because market volumes are 0)\n",
      "WARNING:root:Setting stocks Index(['EQIX'], dtype='object') on 2014-09-29 00:00:00 to null trades (because market volumes are 0)\n",
      "WARNING:root:Setting stocks Index(['EQIX'], dtype='object') on 2014-09-30 00:00:00 to null trades (because market volumes are 0)\n",
      "WARNING:root:Setting stocks Index(['EQIX'], dtype='object') on 2014-10-01 00:00:00 to null trades (because market volumes are 0)\n",
      "WARNING:root:Setting stocks Index(['EQIX'], dtype='object') on 2014-10-02 00:00:00 to null trades (because market volumes are 0)\n",
      "WARNING:root:Setting stocks Index(['EQIX'], dtype='object') on 2014-10-03 00:00:00 to null trades (because market volumes are 0)\n",
      "WARNING:root:Setting stocks Index(['EQIX'], dtype='object') on 2014-10-06 00:00:00 to null trades (because market volumes are 0)\n",
      "WARNING:root:Setting stocks Index(['EQIX'], dtype='object') on 2014-10-07 00:00:00 to null trades (because market volumes are 0)\n",
      "WARNING:root:Setting stocks Index(['EQIX'], dtype='object') on 2014-10-08 00:00:00 to null trades (because market volumes are 0)\n",
      "WARNING:root:Setting stocks Index(['EQIX'], dtype='object') on 2014-10-09 00:00:00 to null trades (because market volumes are 0)\n",
      "WARNING:root:Setting stocks Index(['EQIX'], dtype='object') on 2014-10-10 00:00:00 to null trades (because market volumes are 0)\n",
      "WARNING:root:Setting stocks Index(['EQIX'], dtype='object') on 2014-10-13 00:00:00 to null trades (because market volumes are 0)\n",
      "WARNING:root:Setting stocks Index(['EQIX'], dtype='object') on 2014-10-14 00:00:00 to null trades (because market volumes are 0)\n",
      "WARNING:root:Setting stocks Index(['EQIX'], dtype='object') on 2014-10-15 00:00:00 to null trades (because market volumes are 0)\n",
      "WARNING:root:Setting stocks Index(['EQIX'], dtype='object') on 2014-10-16 00:00:00 to null trades (because market volumes are 0)\n",
      "WARNING:root:Setting stocks Index(['EQIX'], dtype='object') on 2014-10-17 00:00:00 to null trades (because market volumes are 0)\n",
      "WARNING:root:Setting stocks Index(['EQIX'], dtype='object') on 2014-10-20 00:00:00 to null trades (because market volumes are 0)\n",
      "WARNING:root:Setting stocks Index(['EQIX'], dtype='object') on 2014-10-21 00:00:00 to null trades (because market volumes are 0)\n",
      "WARNING:root:Setting stocks Index(['EQIX'], dtype='object') on 2014-09-25 00:00:00 to null trades (because market volumes are 0)\n",
      "WARNING:root:Setting stocks Index(['EQIX'], dtype='object') on 2014-09-26 00:00:00 to null trades (because market volumes are 0)\n",
      "WARNING:root:Setting stocks Index(['EQIX'], dtype='object') on 2014-09-29 00:00:00 to null trades (because market volumes are 0)\n",
      "WARNING:root:Setting stocks Index(['EQIX'], dtype='object') on 2014-09-30 00:00:00 to null trades (because market volumes are 0)\n",
      "WARNING:root:Setting stocks Index(['EQIX'], dtype='object') on 2014-10-01 00:00:00 to null trades (because market volumes are 0)\n",
      "WARNING:root:Setting stocks Index(['EQIX'], dtype='object') on 2014-10-02 00:00:00 to null trades (because market volumes are 0)\n",
      "WARNING:root:Setting stocks Index(['EQIX'], dtype='object') on 2014-10-03 00:00:00 to null trades (because market volumes are 0)\n",
      "WARNING:root:Setting stocks Index(['EQIX'], dtype='object') on 2014-10-06 00:00:00 to null trades (because market volumes are 0)\n",
      "WARNING:root:Setting stocks Index(['EQIX'], dtype='object') on 2014-10-07 00:00:00 to null trades (because market volumes are 0)\n",
      "WARNING:root:Setting stocks Index(['EQIX'], dtype='object') on 2014-10-08 00:00:00 to null trades (because market volumes are 0)\n",
      "WARNING:root:Setting stocks Index(['EQIX'], dtype='object') on 2014-10-09 00:00:00 to null trades (because market volumes are 0)\n",
      "WARNING:root:Setting stocks Index(['EQIX'], dtype='object') on 2014-10-10 00:00:00 to null trades (because market volumes are 0)\n",
      "WARNING:root:Setting stocks Index(['EQIX'], dtype='object') on 2014-10-13 00:00:00 to null trades (because market volumes are 0)\n",
      "WARNING:root:Setting stocks Index(['EQIX'], dtype='object') on 2014-10-14 00:00:00 to null trades (because market volumes are 0)\n",
      "WARNING:root:Setting stocks Index(['EQIX'], dtype='object') on 2014-10-15 00:00:00 to null trades (because market volumes are 0)\n",
      "WARNING:root:Setting stocks Index(['EQIX'], dtype='object') on 2014-10-16 00:00:00 to null trades (because market volumes are 0)\n",
      "WARNING:root:Setting stocks Index(['EQIX'], dtype='object') on 2014-10-17 00:00:00 to null trades (because market volumes are 0)\n",
      "WARNING:root:Setting stocks Index(['EQIX'], dtype='object') on 2014-10-20 00:00:00 to null trades (because market volumes are 0)\n",
      "WARNING:root:Setting stocks Index(['EQIX'], dtype='object') on 2014-10-21 00:00:00 to null trades (because market volumes are 0)\n",
      "WARNING:root:Setting stocks Index(['EQIX'], dtype='object') on 2014-09-25 00:00:00 to null trades (because market volumes are 0)\n",
      "WARNING:root:Setting stocks Index(['EQIX'], dtype='object') on 2014-09-26 00:00:00 to null trades (because market volumes are 0)\n",
      "WARNING:root:Setting stocks Index(['EQIX'], dtype='object') on 2014-09-29 00:00:00 to null trades (because market volumes are 0)\n",
      "WARNING:root:Setting stocks Index(['EQIX'], dtype='object') on 2014-09-30 00:00:00 to null trades (because market volumes are 0)\n",
      "WARNING:root:Setting stocks Index(['EQIX'], dtype='object') on 2014-10-01 00:00:00 to null trades (because market volumes are 0)\n",
      "WARNING:root:Setting stocks Index(['EQIX'], dtype='object') on 2014-10-02 00:00:00 to null trades (because market volumes are 0)\n",
      "WARNING:root:Setting stocks Index(['EQIX'], dtype='object') on 2014-10-03 00:00:00 to null trades (because market volumes are 0)\n",
      "WARNING:root:Setting stocks Index(['EQIX'], dtype='object') on 2014-10-06 00:00:00 to null trades (because market volumes are 0)\n",
      "WARNING:root:Setting stocks Index(['EQIX'], dtype='object') on 2014-10-07 00:00:00 to null trades (because market volumes are 0)\n",
      "WARNING:root:Setting stocks Index(['EQIX'], dtype='object') on 2014-10-08 00:00:00 to null trades (because market volumes are 0)\n",
      "WARNING:root:Setting stocks Index(['EQIX'], dtype='object') on 2014-10-09 00:00:00 to null trades (because market volumes are 0)\n",
      "WARNING:root:Setting stocks Index(['EQIX'], dtype='object') on 2014-10-10 00:00:00 to null trades (because market volumes are 0)\n",
      "WARNING:root:Setting stocks Index(['EQIX'], dtype='object') on 2014-10-13 00:00:00 to null trades (because market volumes are 0)\n",
      "WARNING:root:Setting stocks Index(['EQIX'], dtype='object') on 2014-10-14 00:00:00 to null trades (because market volumes are 0)\n",
      "WARNING:root:Setting stocks Index(['EQIX'], dtype='object') on 2014-10-15 00:00:00 to null trades (because market volumes are 0)\n",
      "WARNING:root:Setting stocks Index(['EQIX'], dtype='object') on 2014-10-16 00:00:00 to null trades (because market volumes are 0)\n",
      "WARNING:root:Setting stocks Index(['EQIX'], dtype='object') on 2014-10-17 00:00:00 to null trades (because market volumes are 0)\n",
      "WARNING:root:Setting stocks Index(['EQIX'], dtype='object') on 2014-10-20 00:00:00 to null trades (because market volumes are 0)\n",
      "WARNING:root:Setting stocks Index(['EQIX'], dtype='object') on 2014-10-21 00:00:00 to null trades (because market volumes are 0)\n",
      "WARNING:root:Setting stocks Index(['EQIX'], dtype='object') on 2014-09-25 00:00:00 to null trades (because market volumes are 0)\n",
      "WARNING:root:Setting stocks Index(['EQIX'], dtype='object') on 2014-09-26 00:00:00 to null trades (because market volumes are 0)\n",
      "WARNING:root:Setting stocks Index(['EQIX'], dtype='object') on 2014-09-29 00:00:00 to null trades (because market volumes are 0)\n",
      "WARNING:root:Setting stocks Index(['EQIX'], dtype='object') on 2014-09-30 00:00:00 to null trades (because market volumes are 0)\n",
      "WARNING:root:Setting stocks Index(['EQIX'], dtype='object') on 2014-10-01 00:00:00 to null trades (because market volumes are 0)\n",
      "WARNING:root:Setting stocks Index(['EQIX'], dtype='object') on 2014-10-02 00:00:00 to null trades (because market volumes are 0)\n",
      "WARNING:root:Setting stocks Index(['EQIX'], dtype='object') on 2014-10-03 00:00:00 to null trades (because market volumes are 0)\n",
      "WARNING:root:Setting stocks Index(['EQIX'], dtype='object') on 2014-10-06 00:00:00 to null trades (because market volumes are 0)\n",
      "WARNING:root:Setting stocks Index(['EQIX'], dtype='object') on 2014-10-07 00:00:00 to null trades (because market volumes are 0)\n",
      "WARNING:root:Setting stocks Index(['EQIX'], dtype='object') on 2014-10-08 00:00:00 to null trades (because market volumes are 0)\n",
      "WARNING:root:Setting stocks Index(['EQIX'], dtype='object') on 2014-10-09 00:00:00 to null trades (because market volumes are 0)\n",
      "WARNING:root:Setting stocks Index(['EQIX'], dtype='object') on 2014-10-10 00:00:00 to null trades (because market volumes are 0)\n",
      "WARNING:root:Setting stocks Index(['EQIX'], dtype='object') on 2014-10-13 00:00:00 to null trades (because market volumes are 0)\n",
      "WARNING:root:Setting stocks Index(['EQIX'], dtype='object') on 2014-10-14 00:00:00 to null trades (because market volumes are 0)\n",
      "WARNING:root:Setting stocks Index(['EQIX'], dtype='object') on 2014-10-15 00:00:00 to null trades (because market volumes are 0)\n",
      "WARNING:root:Setting stocks Index(['EQIX'], dtype='object') on 2014-10-16 00:00:00 to null trades (because market volumes are 0)\n",
      "WARNING:root:Setting stocks Index(['EQIX'], dtype='object') on 2014-10-17 00:00:00 to null trades (because market volumes are 0)\n",
      "WARNING:root:Setting stocks Index(['EQIX'], dtype='object') on 2014-10-20 00:00:00 to null trades (because market volumes are 0)\n",
      "WARNING:root:Setting stocks Index(['EQIX'], dtype='object') on 2014-10-21 00:00:00 to null trades (because market volumes are 0)\n",
      "WARNING:root:Setting stocks Index(['EQIX'], dtype='object') on 2014-09-25 00:00:00 to null trades (because market volumes are 0)\n",
      "WARNING:root:Setting stocks Index(['EQIX'], dtype='object') on 2014-09-26 00:00:00 to null trades (because market volumes are 0)\n",
      "WARNING:root:Setting stocks Index(['EQIX'], dtype='object') on 2014-09-29 00:00:00 to null trades (because market volumes are 0)\n",
      "WARNING:root:Setting stocks Index(['EQIX'], dtype='object') on 2014-09-30 00:00:00 to null trades (because market volumes are 0)\n",
      "WARNING:root:Setting stocks Index(['EQIX'], dtype='object') on 2014-10-01 00:00:00 to null trades (because market volumes are 0)\n",
      "WARNING:root:Setting stocks Index(['EQIX'], dtype='object') on 2014-10-02 00:00:00 to null trades (because market volumes are 0)\n",
      "WARNING:root:Setting stocks Index(['EQIX'], dtype='object') on 2014-10-03 00:00:00 to null trades (because market volumes are 0)\n",
      "WARNING:root:Setting stocks Index(['EQIX'], dtype='object') on 2014-10-06 00:00:00 to null trades (because market volumes are 0)\n",
      "WARNING:root:Setting stocks Index(['EQIX'], dtype='object') on 2014-10-07 00:00:00 to null trades (because market volumes are 0)\n",
      "WARNING:root:Setting stocks Index(['EQIX'], dtype='object') on 2014-10-08 00:00:00 to null trades (because market volumes are 0)\n",
      "WARNING:root:Setting stocks Index(['EQIX'], dtype='object') on 2014-10-09 00:00:00 to null trades (because market volumes are 0)\n",
      "WARNING:root:Setting stocks Index(['EQIX'], dtype='object') on 2014-10-10 00:00:00 to null trades (because market volumes are 0)\n",
      "WARNING:root:Setting stocks Index(['EQIX'], dtype='object') on 2014-10-13 00:00:00 to null trades (because market volumes are 0)\n",
      "WARNING:root:Setting stocks Index(['EQIX'], dtype='object') on 2014-10-14 00:00:00 to null trades (because market volumes are 0)\n",
      "WARNING:root:Setting stocks Index(['EQIX'], dtype='object') on 2014-10-15 00:00:00 to null trades (because market volumes are 0)\n",
      "WARNING:root:Setting stocks Index(['EQIX'], dtype='object') on 2014-10-16 00:00:00 to null trades (because market volumes are 0)\n",
      "WARNING:root:Setting stocks Index(['EQIX'], dtype='object') on 2014-10-17 00:00:00 to null trades (because market volumes are 0)\n",
      "WARNING:root:Setting stocks Index(['EQIX'], dtype='object') on 2014-10-20 00:00:00 to null trades (because market volumes are 0)\n",
      "WARNING:root:Setting stocks Index(['EQIX'], dtype='object') on 2014-10-21 00:00:00 to null trades (because market volumes are 0)\n",
      "WARNING:root:Setting stocks Index(['EQIX'], dtype='object') on 2014-09-25 00:00:00 to null trades (because market volumes are 0)\n",
      "WARNING:root:Setting stocks Index(['EQIX'], dtype='object') on 2014-09-26 00:00:00 to null trades (because market volumes are 0)\n",
      "WARNING:root:Setting stocks Index(['EQIX'], dtype='object') on 2014-09-29 00:00:00 to null trades (because market volumes are 0)\n",
      "WARNING:root:Setting stocks Index(['EQIX'], dtype='object') on 2014-09-30 00:00:00 to null trades (because market volumes are 0)\n",
      "WARNING:root:Setting stocks Index(['EQIX'], dtype='object') on 2014-10-01 00:00:00 to null trades (because market volumes are 0)\n",
      "WARNING:root:Setting stocks Index(['EQIX'], dtype='object') on 2014-10-02 00:00:00 to null trades (because market volumes are 0)\n",
      "WARNING:root:Setting stocks Index(['EQIX'], dtype='object') on 2014-10-03 00:00:00 to null trades (because market volumes are 0)\n",
      "WARNING:root:Setting stocks Index(['EQIX'], dtype='object') on 2014-10-06 00:00:00 to null trades (because market volumes are 0)\n",
      "WARNING:root:Setting stocks Index(['EQIX'], dtype='object') on 2014-10-07 00:00:00 to null trades (because market volumes are 0)\n",
      "WARNING:root:Setting stocks Index(['EQIX'], dtype='object') on 2014-10-08 00:00:00 to null trades (because market volumes are 0)\n",
      "WARNING:root:Setting stocks Index(['EQIX'], dtype='object') on 2014-10-09 00:00:00 to null trades (because market volumes are 0)\n",
      "WARNING:root:Setting stocks Index(['EQIX'], dtype='object') on 2014-10-10 00:00:00 to null trades (because market volumes are 0)\n",
      "WARNING:root:Setting stocks Index(['EQIX'], dtype='object') on 2014-10-13 00:00:00 to null trades (because market volumes are 0)\n",
      "WARNING:root:Setting stocks Index(['EQIX'], dtype='object') on 2014-10-14 00:00:00 to null trades (because market volumes are 0)\n",
      "WARNING:root:Setting stocks Index(['EQIX'], dtype='object') on 2014-10-15 00:00:00 to null trades (because market volumes are 0)\n",
      "WARNING:root:Setting stocks Index(['EQIX'], dtype='object') on 2014-10-16 00:00:00 to null trades (because market volumes are 0)\n",
      "WARNING:root:Setting stocks Index(['EQIX'], dtype='object') on 2014-10-17 00:00:00 to null trades (because market volumes are 0)\n",
      "WARNING:root:Setting stocks Index(['EQIX'], dtype='object') on 2014-10-20 00:00:00 to null trades (because market volumes are 0)\n",
      "WARNING:root:Setting stocks Index(['EQIX'], dtype='object') on 2014-10-21 00:00:00 to null trades (because market volumes are 0)\n",
      "WARNING:root:Setting stocks Index(['EQIX'], dtype='object') on 2014-09-25 00:00:00 to null trades (because market volumes are 0)\n",
      "WARNING:root:Setting stocks Index(['EQIX'], dtype='object') on 2014-09-26 00:00:00 to null trades (because market volumes are 0)\n",
      "WARNING:root:Setting stocks Index(['EQIX'], dtype='object') on 2014-09-29 00:00:00 to null trades (because market volumes are 0)\n",
      "WARNING:root:Setting stocks Index(['EQIX'], dtype='object') on 2014-09-30 00:00:00 to null trades (because market volumes are 0)\n",
      "WARNING:root:Setting stocks Index(['EQIX'], dtype='object') on 2014-10-01 00:00:00 to null trades (because market volumes are 0)\n",
      "WARNING:root:Setting stocks Index(['EQIX'], dtype='object') on 2014-10-02 00:00:00 to null trades (because market volumes are 0)\n",
      "WARNING:root:Setting stocks Index(['EQIX'], dtype='object') on 2014-10-03 00:00:00 to null trades (because market volumes are 0)\n",
      "WARNING:root:Setting stocks Index(['EQIX'], dtype='object') on 2014-10-06 00:00:00 to null trades (because market volumes are 0)\n",
      "WARNING:root:Setting stocks Index(['EQIX'], dtype='object') on 2014-10-07 00:00:00 to null trades (because market volumes are 0)\n",
      "WARNING:root:Setting stocks Index(['EQIX'], dtype='object') on 2014-10-08 00:00:00 to null trades (because market volumes are 0)\n",
      "WARNING:root:Setting stocks Index(['EQIX'], dtype='object') on 2014-10-09 00:00:00 to null trades (because market volumes are 0)\n",
      "WARNING:root:Setting stocks Index(['EQIX'], dtype='object') on 2014-10-10 00:00:00 to null trades (because market volumes are 0)\n",
      "WARNING:root:Setting stocks Index(['EQIX'], dtype='object') on 2014-10-13 00:00:00 to null trades (because market volumes are 0)\n",
      "WARNING:root:Setting stocks Index(['EQIX'], dtype='object') on 2014-10-14 00:00:00 to null trades (because market volumes are 0)\n",
      "WARNING:root:Setting stocks Index(['EQIX'], dtype='object') on 2014-10-15 00:00:00 to null trades (because market volumes are 0)\n",
      "WARNING:root:Setting stocks Index(['EQIX'], dtype='object') on 2014-10-16 00:00:00 to null trades (because market volumes are 0)\n",
      "WARNING:root:Setting stocks Index(['EQIX'], dtype='object') on 2014-10-17 00:00:00 to null trades (because market volumes are 0)\n",
      "WARNING:root:Setting stocks Index(['EQIX'], dtype='object') on 2014-10-20 00:00:00 to null trades (because market volumes are 0)\n",
      "WARNING:root:Setting stocks Index(['EQIX'], dtype='object') on 2014-10-21 00:00:00 to null trades (because market volumes are 0)\n",
      "WARNING:root:Setting stocks Index(['EQIX'], dtype='object') on 2014-09-25 00:00:00 to null trades (because market volumes are 0)\n",
      "WARNING:root:Setting stocks Index(['EQIX'], dtype='object') on 2014-09-26 00:00:00 to null trades (because market volumes are 0)\n",
      "WARNING:root:Setting stocks Index(['EQIX'], dtype='object') on 2014-09-29 00:00:00 to null trades (because market volumes are 0)\n",
      "WARNING:root:Setting stocks Index(['EQIX'], dtype='object') on 2014-09-30 00:00:00 to null trades (because market volumes are 0)\n",
      "WARNING:root:Setting stocks Index(['EQIX'], dtype='object') on 2014-10-01 00:00:00 to null trades (because market volumes are 0)\n",
      "WARNING:root:Setting stocks Index(['EQIX'], dtype='object') on 2014-10-02 00:00:00 to null trades (because market volumes are 0)\n",
      "WARNING:root:Setting stocks Index(['EQIX'], dtype='object') on 2014-10-03 00:00:00 to null trades (because market volumes are 0)\n",
      "WARNING:root:Setting stocks Index(['EQIX'], dtype='object') on 2014-10-06 00:00:00 to null trades (because market volumes are 0)\n",
      "WARNING:root:Setting stocks Index(['EQIX'], dtype='object') on 2014-10-07 00:00:00 to null trades (because market volumes are 0)\n",
      "WARNING:root:Setting stocks Index(['EQIX'], dtype='object') on 2014-10-08 00:00:00 to null trades (because market volumes are 0)\n",
      "WARNING:root:Setting stocks Index(['EQIX'], dtype='object') on 2014-10-09 00:00:00 to null trades (because market volumes are 0)\n",
      "WARNING:root:Setting stocks Index(['EQIX'], dtype='object') on 2014-10-10 00:00:00 to null trades (because market volumes are 0)\n",
      "WARNING:root:Setting stocks Index(['EQIX'], dtype='object') on 2014-10-13 00:00:00 to null trades (because market volumes are 0)\n",
      "WARNING:root:Setting stocks Index(['EQIX'], dtype='object') on 2014-10-14 00:00:00 to null trades (because market volumes are 0)\n",
      "WARNING:root:Setting stocks Index(['EQIX'], dtype='object') on 2014-10-15 00:00:00 to null trades (because market volumes are 0)\n",
      "WARNING:root:Setting stocks Index(['EQIX'], dtype='object') on 2014-10-16 00:00:00 to null trades (because market volumes are 0)\n",
      "WARNING:root:Setting stocks Index(['EQIX'], dtype='object') on 2014-10-17 00:00:00 to null trades (because market volumes are 0)\n",
      "WARNING:root:Setting stocks Index(['EQIX'], dtype='object') on 2014-10-20 00:00:00 to null trades (because market volumes are 0)\n",
      "WARNING:root:Setting stocks Index(['EQIX'], dtype='object') on 2014-10-21 00:00:00 to null trades (because market volumes are 0)\n",
      "WARNING:root:Setting stocks Index(['EQIX'], dtype='object') on 2014-09-25 00:00:00 to null trades (because market volumes are 0)\n",
      "WARNING:root:Setting stocks Index(['EQIX'], dtype='object') on 2014-09-26 00:00:00 to null trades (because market volumes are 0)\n",
      "WARNING:root:Setting stocks Index(['EQIX'], dtype='object') on 2014-09-29 00:00:00 to null trades (because market volumes are 0)\n",
      "WARNING:root:Setting stocks Index(['EQIX'], dtype='object') on 2014-09-30 00:00:00 to null trades (because market volumes are 0)\n",
      "WARNING:root:Setting stocks Index(['EQIX'], dtype='object') on 2014-10-01 00:00:00 to null trades (because market volumes are 0)\n",
      "WARNING:root:Setting stocks Index(['EQIX'], dtype='object') on 2014-10-02 00:00:00 to null trades (because market volumes are 0)\n",
      "WARNING:root:Setting stocks Index(['EQIX'], dtype='object') on 2014-10-03 00:00:00 to null trades (because market volumes are 0)\n",
      "WARNING:root:Setting stocks Index(['EQIX'], dtype='object') on 2014-10-06 00:00:00 to null trades (because market volumes are 0)\n",
      "WARNING:root:Setting stocks Index(['EQIX'], dtype='object') on 2014-10-07 00:00:00 to null trades (because market volumes are 0)\n",
      "WARNING:root:Setting stocks Index(['EQIX'], dtype='object') on 2014-10-08 00:00:00 to null trades (because market volumes are 0)\n",
      "WARNING:root:Setting stocks Index(['EQIX'], dtype='object') on 2014-10-09 00:00:00 to null trades (because market volumes are 0)\n",
      "WARNING:root:Setting stocks Index(['EQIX'], dtype='object') on 2014-10-10 00:00:00 to null trades (because market volumes are 0)\n",
      "WARNING:root:Setting stocks Index(['EQIX'], dtype='object') on 2014-10-13 00:00:00 to null trades (because market volumes are 0)\n",
      "WARNING:root:Setting stocks Index(['EQIX'], dtype='object') on 2014-10-14 00:00:00 to null trades (because market volumes are 0)\n",
      "WARNING:root:Setting stocks Index(['EQIX'], dtype='object') on 2014-10-15 00:00:00 to null trades (because market volumes are 0)\n",
      "WARNING:root:Setting stocks Index(['EQIX'], dtype='object') on 2014-10-16 00:00:00 to null trades (because market volumes are 0)\n",
      "WARNING:root:Setting stocks Index(['EQIX'], dtype='object') on 2014-10-17 00:00:00 to null trades (because market volumes are 0)\n",
      "WARNING:root:Setting stocks Index(['EQIX'], dtype='object') on 2014-10-20 00:00:00 to null trades (because market volumes are 0)\n",
      "WARNING:root:Setting stocks Index(['EQIX'], dtype='object') on 2014-10-21 00:00:00 to null trades (because market volumes are 0)\n"
     ]
    }
   ],
   "source": [
    "simulated_tcost = cp.TcostModel(volumes, sigmas, a, b, cash_key='USDOLLAR')\n",
    "simulated_hcost = cp.HcostModel(s, cash_key='USDOLLAR')\n",
    "simulator = cp.MarketSimulator(returns, volumes, [simulated_tcost, simulated_hcost], cash_key='USDOLLAR')\n",
    "\n",
    "policies = [cp.PeriodicRebalance(target=w_b, period=p) for p in ['day', 'week', 'month', 'quarter', 'year']]\n",
    "policies.append(cp.Hold())\n",
    "\n",
    "res = pd.DataFrame(index=['Daily','Weekly','Monthly','Quarterly','Annually','Hold'])\n",
    "for label, fund_val in [('\\$100M',1E8), ('\\$10B',1E10)]:\n",
    "    res[label] = simulator.run_multiple_backtest(fund_val*w_b, start_time=start_t, end_time=end_t, \n",
    "                                                 policies=policies, parallel=False)"
   ]
  },
  {
   "cell_type": "markdown",
   "metadata": {},
   "source": [
    "## Results "
   ]
  },
  {
   "cell_type": "code",
   "execution_count": 16,
   "metadata": {
    "collapsed": false
   },
   "outputs": [
    {
     "name": "stdout",
     "output_type": "stream",
     "text": [
      "\\begin{tabular}{llllll}\n",
      "\\toprule\n",
      "       &       & Active return & Active risk & Trans. costs & Turnover \\\\\n",
      "\\midrule\n",
      "\\$100M & Daily &        -0.08\\% &       0.00\\% &        0.08\\% &  209.08\\% \\\\\n",
      "       & Weekly &        -0.03\\% &       0.09\\% &        0.05\\% &  100.39\\% \\\\\n",
      "       & Monthly &        -0.02\\% &       0.20\\% &        0.03\\% &   50.24\\% \\\\\n",
      "       & Quarterly &         0.06\\% &       0.35\\% &        0.02\\% &   28.79\\% \\\\\n",
      "       & Annually &         0.05\\% &       0.73\\% &        0.01\\% &   12.01\\% \\\\\n",
      "       & Hold &         0.07\\% &       2.02\\% &        0.00\\% &    0.00\\% \\\\\n",
      "\\$10B & Daily &        -0.37\\% &       0.01\\% &        0.37\\% &  209.08\\% \\\\\n",
      "       & Weekly &        -0.23\\% &       0.09\\% &        0.24\\% &  100.39\\% \\\\\n",
      "       & Monthly &        -0.16\\% &       0.21\\% &        0.18\\% &   50.25\\% \\\\\n",
      "       & Quarterly &        -0.05\\% &       0.36\\% &        0.13\\% &   28.80\\% \\\\\n",
      "       & Annually &        -0.01\\% &       0.73\\% &        0.08\\% &   12.01\\% \\\\\n",
      "       & Hold &         0.07\\% &       2.02\\% &        0.00\\% &    0.00\\% \\\\\n",
      "\\bottomrule\n",
      "\\end{tabular}\n",
      "\n"
     ]
    }
   ],
   "source": [
    "used_returns = returns.loc[(returns.index>=start_t)&(returns.index<=end_t)]\n",
    "benchmark_returns = pd.Series(index=used_returns.index, data=used_returns.values@ w_b.values)\n",
    "\n",
    "table=pd.DataFrame()\n",
    "table[r'Active return']=res.applymap(lambda res: 100*250*(res.returns - benchmark_returns).mean()).unstack()\n",
    "table[r'Active risk']= \\\n",
    "    res.applymap(lambda res: np.std(benchmark_returns - res.returns)*100*np.sqrt(250)).unstack()\n",
    "table[r'Trans. costs']=\\\n",
    "    res.applymap(lambda res: (res.simulator_TcostModel.sum(1)/res.v).mean() * 100 * 250).unstack()\n",
    "table[r'Turnover']= \\\n",
    "    res.applymap(lambda res: res.turnover.mean()*100.*250.).unstack()\n",
    "\n",
    "\n",
    "table_print=pd.DataFrame(table,copy=True)\n",
    "table_print.ix[:,:]=table_print.ix[:,:].applymap(lambda x: r'%.2f%%'%x )\n",
    "print(table_print.to_latex(float_format='%.2f', escape=False).replace('%',r'\\%'))"
   ]
  },
  {
   "cell_type": "code",
   "execution_count": 12,
   "metadata": {
    "collapsed": false
   },
   "outputs": [
    {
     "data": {
      "text/plain": [
       "209.08394133694662"
      ]
     },
     "execution_count": 12,
     "metadata": {},
     "output_type": "execute_result"
    }
   ],
   "source": [
    "(res.ix[0,0].turnover.mean()*100.*250.)"
   ]
  },
  {
   "cell_type": "markdown",
   "metadata": {},
   "source": [
    "# Plots "
   ]
  },
  {
   "cell_type": "code",
   "execution_count": 7,
   "metadata": {
    "collapsed": false
   },
   "outputs": [
    {
     "data": {
      "image/png": "[encoded data removed]",
      "text/plain": [
       "<matplotlib.figure.Figure at 0x7fbbcfbb8710>"
      ]
     },
     "metadata": {},
     "output_type": "display_data"
    }
   ],
   "source": [
    "plt.figure(figsize=(6,4))\n",
    "colors=['k','r']\n",
    "offsetx = 0.0035\n",
    "offsety = 0.04\n",
    "data=table.ix[:,:]\n",
    "\n",
    "for j,initval in enumerate(data.index.levels[0]):\n",
    "    x=data.loc[initval].ix[:,1].values\n",
    "    y=data.loc[initval].ix[:,2].values\n",
    "    line,=plt.plot(x,y, colors[j]+'o', \n",
    "                   markersize=12+j,\n",
    "                   fillstyle='none', \n",
    "                   label='$%s\\mathrm{%s}$'%(initval[:-1],initval[-1:]))\n",
    "    for i in range(len(x)):\n",
    "        plt.text(x[i]-offsetx,y[i]-offsety, data.index.levels[1][i][0],color=colors[j] )\n",
    "\n",
    "\n",
    "plt.legend(loc='upper right',numpoints=1)\n",
    "plt.ylabel(r'Active risk')\n",
    "\n",
    "import matplotlib.ticker as mtick\n",
    "ax = plt.gca()\n",
    "ax.xaxis.set_major_formatter(mtick.FormatStrFormatter( '%.2f%%'))\n",
    "ax.yaxis.set_major_formatter(mtick.FormatStrFormatter( '%.1f%%'))\n",
    "\n",
    "plt.xlabel(r'Trans. costs')\n",
    "plt.xlim([-0.01,0.4])\n",
    "#plt.ylim([- 0.5, 14])\n",
    "plt.savefig(plotdir+'basic_frontier.png')"
   ]
  },
  {
   "cell_type": "code",
   "execution_count": 6,
   "metadata": {
    "collapsed": false
   },
   "outputs": [],
   "source": [
    "# res.loc[:, '\\$10B'].apply(lambda x: 100*x.simulator_TcostModel.sum(1)/x.v).T.ix[:,:-1].plot(figsize=(8,5))\n",
    "# import matplotlib.ticker as mtick\n",
    "# ax = plt.gca()\n",
    "# ax.yaxis.set_major_formatter(mtick.FormatStrFormatter('%.2f%%'))\n",
    "\n",
    "# #plt.ylabel(\"$\\phi_t^{\\mathrm{trade}}(z_t)$\",fontsize=20)\n",
    "# plt.ylabel(\"Daily trans. cost\")\n",
    "\n",
    "# plt.savefig(plotdir+'basic_example_tcost_time.png')"
   ]
  }
 ],
 "metadata": {
  "anaconda-cloud": {},
  "kernelspec": {
   "display_name": "Python [default]",
   "language": "python",
   "name": "python3"
  },
  "language_info": {
   "codemirror_mode": {
    "name": "ipython",
    "version": 3
   },
   "file_extension": ".py",
   "mimetype": "text/x-python",
   "name": "python",
   "nbconvert_exporter": "python",
   "pygments_lexer": "ipython3",
   "version": "3.5.2"
  }
 },
 "nbformat": 4,
 "nbformat_minor": 2
}
