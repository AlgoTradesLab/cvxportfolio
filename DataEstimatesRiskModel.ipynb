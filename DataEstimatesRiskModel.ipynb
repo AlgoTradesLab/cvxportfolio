{
 "cells": [
  {
   "cell_type": "code",
   "execution_count": 5,
   "metadata": {
    "collapsed": true
   },
   "outputs": [],
   "source": [
    "from __future__ import print_function\n",
    "import pandas as pd\n",
    "import numpy as np\n",
    "import datetime as dt\n",
    "import quandl"
   ]
  },
  {
   "cell_type": "markdown",
   "metadata": {},
   "source": [
    "# Data "
   ]
  },
  {
   "cell_type": "code",
   "execution_count": 6,
   "metadata": {
    "collapsed": true
   },
   "outputs": [],
   "source": [
    "assets=pd.read_csv('SP500.txt', comment='#').set_index('Symbol')\n",
    "\n",
    "QUANDL={\n",
    "    ## Get a key (free) from quandl.com and copy it here\n",
    "    'authtoken':\"\",\n",
    "    'start_date':dt.date(2007, 1, 1),\n",
    "    'end_date':dt.date(2016, 12, 31)\n",
    "}\n",
    "RISK_FREE_SYMBOL = \"USDOLLAR\"\n",
    "data={}"
   ]
  },
  {
   "cell_type": "markdown",
   "metadata": {},
   "source": [
    "#### Download loop"
   ]
  },
  {
   "cell_type": "markdown",
   "metadata": {},
   "source": [
    "If it stops because of Quandl error codes 503 or 504, try re-running it (it won't download data already downloaded)."
   ]
  },
  {
   "cell_type": "code",
   "execution_count": 40,
   "metadata": {
    "collapsed": false
   },
   "outputs": [
    {
     "name": "stdout",
     "output_type": "stream",
     "text": [
      "downloading BRK-B from 2007-01-01 to 2016-12-31\n",
      "\tInvalid asset code\n",
      "downloading BF-B from 2007-01-01 to 2016-12-31\n",
      "\tInvalid asset code\n"
     ]
    }
   ],
   "source": [
    "# download assets' data\n",
    "for ticker in assets.index:\n",
    "    if ticker in data:\n",
    "        continue\n",
    "    print('downloading %s from %s to %s' %(ticker, QUANDL['start_date'], QUANDL['end_date']))\n",
    "    try:\n",
    "        data[ticker] = quandl.get(assets.Quandlcode[ticker], **QUANDL)\n",
    "    except quandl.NotFoundError:\n",
    "        print('\\tInvalid asset code')"
   ]
  },
  {
   "cell_type": "markdown",
   "metadata": {},
   "source": [
    "#### Computation "
   ]
  },
  {
   "cell_type": "code",
   "execution_count": 30,
   "metadata": {
    "collapsed": true
   },
   "outputs": [],
   "source": [
    "def select_first_valid_column(df, columns):\n",
    "    for column in columns:\n",
    "        if column in df.columns:\n",
    "            return df[column]\n",
    "        \n",
    "# extract prices\n",
    "prices=pd.DataFrame.from_items([(k,select_first_valid_column(v, [\"Adj. Close\", \"Close\", \"VALUE\"])) \n",
    "                                for k,v in data.items()])\n",
    "\n",
    "#compute sigmas\n",
    "high=pd.DataFrame.from_items([(k,select_first_valid_column(v, [\"High\"])) for k,v in data.items()])\n",
    "low=pd.DataFrame.from_items([(k,select_first_valid_column(v, [\"Low\"])) for k,v in data.items()])\n",
    "sigmas = (high-low) / (2*high)\n",
    "\n",
    "# extract volumes\n",
    "volumes=pd.DataFrame.from_items([(k,select_first_valid_column(v, [\"Adj. Volume\", \"Volume\"])) for k,v in data.items()])\n",
    "\n",
    "# fix risk free\n",
    "prices[RISK_FREE_SYMBOL]=10000*(1 + prices[RISK_FREE_SYMBOL]/(100*250)).cumprod()"
   ]
  },
  {
   "cell_type": "markdown",
   "metadata": {},
   "source": [
    "#### Filtering "
   ]
  },
  {
   "cell_type": "code",
   "execution_count": 31,
   "metadata": {
    "collapsed": false
   },
   "outputs": [
    {
     "name": "stdout",
     "output_type": "stream",
     "text": [
      "Assets Index(['ABBV', 'ACE', 'ADT', 'GAS', 'ARG', 'AA', 'ALLE', 'GOOG', 'ALTR',\n",
      "       'AVGO', 'BXLT', 'BRCM', 'CVC', 'CAM', 'CCE', 'CPGX', 'CMCSK', 'CSC',\n",
      "       'CNX', 'DLPH', 'DAL', 'DFS', 'DISCK', 'DG', 'DPS', 'EMC', 'ESV', 'FB',\n",
      "       'FOSL', 'GM', 'GNW', 'HCA', 'HCBK', 'GMCR', 'KMI', 'KHC', 'LYB', 'MNK',\n",
      "       'MPC', 'MHFI', 'MJN', 'WRK', 'KORS', 'NAVI', 'NWSA', 'NWS', 'NLSN',\n",
      "       'PYPL', 'POM', 'PM', 'PSX', 'PCL', 'PCP', 'QRVO', 'SNDK', 'SNI', 'SIAL',\n",
      "       'HOT', 'TEL', 'TE', 'TGNA', 'THC', 'TDC', 'TWC', 'TRIP', 'TYC', 'VRSK',\n",
      "       'V', 'WBA', 'ANTM', 'XYL', 'ZBH', 'ZTS'],\n",
      "      dtype='object') have too many NaNs, removing them\n",
      "Removing these days from dataset:\n",
      "            nan price  nan sigmas  nan volumes\n",
      "2007-01-02        430         NaN          NaN\n",
      "2007-04-06        430         NaN          NaN\n",
      "2007-05-27        431       431.0        430.0\n",
      "2010-04-02        430         NaN          NaN\n",
      "2012-04-06        430         NaN          NaN\n",
      "2012-10-29        430       431.0        427.0\n",
      "2015-04-03        430         NaN          NaN\n",
      "          remaining nan price  remaining nan sigmas  remaining nan volumes\n",
      "MMM                         0                     0                      0\n",
      "ABT                         0                     0                      0\n",
      "ACN                        14                    14                     14\n",
      "ATVI                        3                     3                      3\n",
      "ADBE                       12                    12                     12\n",
      "AAP                         1                     1                      1\n",
      "AES                        13                    13                     13\n",
      "AET                        11                    11                     11\n",
      "AFL                        14                    14                     14\n",
      "AMG                         5                     5                      5\n",
      "A                           1                     1                      1\n",
      "APD                         6                     6                      6\n",
      "AKAM                       12                    12                     12\n",
      "AGN                         0                     0                      0\n",
      "ALXN                        0                     0                      0\n",
      "ADS                        12                    12                     12\n",
      "ALL                        13                    13                     13\n",
      "GOOGL                       0                     0                      0\n",
      "MO                          0                     0                      0\n",
      "AMZN                       11                    11                     11\n",
      "AEE                        11                    11                     11\n",
      "AAL                         1                     1                      1\n",
      "AEP                        12                    12                     12\n",
      "AXP                         1                     1                      1\n",
      "AIG                        13                    13                     13\n",
      "AMT                        12                    12                     12\n",
      "AMP                        13                    13                     13\n",
      "ABC                        15                    15                     15\n",
      "AME                        17                    17                     17\n",
      "AMGN                       12                    12                     12\n",
      "...                       ...                   ...                    ...\n",
      "VTR                        14                    14                     14\n",
      "VRSN                       14                    14                     14\n",
      "VZ                         15                    15                     15\n",
      "VRTX                       14                    15                     14\n",
      "VIAB                       13                    13                     13\n",
      "VNO                        16                    16                     16\n",
      "VMC                        14                    14                     14\n",
      "WMT                        15                    15                     15\n",
      "DIS                        13                    13                     13\n",
      "WM                         16                    16                     16\n",
      "WAT                        15                    15                     15\n",
      "WFC                        13                    13                     13\n",
      "HCN                         0                     0                      0\n",
      "WDC                         8                     8                      8\n",
      "WU                         14                    14                     14\n",
      "WY                         14                    14                     14\n",
      "WHR                        16                    16                     16\n",
      "WFM                        16                    16                     16\n",
      "WMB                        15                    15                     15\n",
      "WEC                        14                    14                     14\n",
      "WYN                        14                    14                     14\n",
      "WYNN                       15                    15                     15\n",
      "XEL                         8                     8                      8\n",
      "XRX                         8                     8                      8\n",
      "XLNX                       16                    16                     16\n",
      "XL                         15                    15                     15\n",
      "YHOO                       16                    16                     16\n",
      "YUM                         0                     0                      0\n",
      "ZION                       15                    15                     15\n",
      "USDOLLAR                   20                  2518                   2518\n",
      "\n",
      "[431 rows x 3 columns]\n",
      "          remaining nan price  remaining nan sigmas  remaining nan volumes\n",
      "MMM                         0                     0                      0\n",
      "ABT                         0                     0                      0\n",
      "ACN                         0                     0                      0\n",
      "ATVI                        0                     0                      0\n",
      "ADBE                        0                     0                      0\n",
      "AAP                         0                     0                      0\n",
      "AES                         0                     0                      0\n",
      "AET                         0                     0                      0\n",
      "AFL                         0                     0                      0\n",
      "AMG                         0                     0                      0\n",
      "A                           0                     0                      0\n",
      "APD                         0                     0                      0\n",
      "AKAM                        0                     0                      0\n",
      "AGN                         0                     0                      0\n",
      "ALXN                        0                     0                      0\n",
      "ADS                         0                     0                      0\n",
      "ALL                         0                     0                      0\n",
      "GOOGL                       0                     0                      0\n",
      "MO                          0                     0                      0\n",
      "AMZN                        0                     0                      0\n",
      "AEE                         0                     0                      0\n",
      "AAL                         0                     0                      0\n",
      "AEP                         0                     0                      0\n",
      "AXP                         0                     0                      0\n",
      "AIG                         0                     0                      0\n",
      "AMT                         0                     0                      0\n",
      "AMP                         0                     0                      0\n",
      "ABC                         0                     0                      0\n",
      "AME                         0                     0                      0\n",
      "AMGN                        0                     0                      0\n",
      "...                       ...                   ...                    ...\n",
      "VTR                         0                     0                      0\n",
      "VRSN                        0                     0                      0\n",
      "VZ                          0                     0                      0\n",
      "VRTX                        0                     0                      0\n",
      "VIAB                        0                     0                      0\n",
      "VNO                         0                     0                      0\n",
      "VMC                         0                     0                      0\n",
      "WMT                         0                     0                      0\n",
      "DIS                         0                     0                      0\n",
      "WM                          0                     0                      0\n",
      "WAT                         0                     0                      0\n",
      "WFC                         0                     0                      0\n",
      "HCN                         0                     0                      0\n",
      "WDC                         0                     0                      0\n",
      "WU                          0                     0                      0\n",
      "WY                          0                     0                      0\n",
      "WHR                         0                     0                      0\n",
      "WFM                         0                     0                      0\n",
      "WMB                         0                     0                      0\n",
      "WEC                         0                     0                      0\n",
      "WYN                         0                     0                      0\n",
      "WYNN                        0                     0                      0\n",
      "XEL                         0                     0                      0\n",
      "XRX                         0                     0                      0\n",
      "XLNX                        0                     0                      0\n",
      "XL                          0                     0                      0\n",
      "YHOO                        0                     0                      0\n",
      "YUM                         0                     0                      0\n",
      "ZION                        0                     0                      0\n",
      "USDOLLAR                    0                  2518                   2518\n",
      "\n",
      "[431 rows x 3 columns]\n"
     ]
    }
   ],
   "source": [
    "# filter NaNs - threshold at 2% missing values\n",
    "bad_assets = prices.columns[prices.isnull().sum()>len(prices)*0.02]\n",
    "if len(bad_assets):\n",
    "    print('Assets %s have too many NaNs, removing them' % bad_assets)\n",
    "\n",
    "prices = prices.loc[:,~prices.columns.isin(bad_assets)]\n",
    "sigmas = sigmas.loc[:,~sigmas.columns.isin(bad_assets)]\n",
    "volumes = volumes.loc[:,~volumes.columns.isin(bad_assets)]\n",
    "\n",
    "nassets=prices.shape[1]\n",
    "\n",
    "# days on which many assets have missing values\n",
    "bad_days1=sigmas.index[sigmas.isnull().sum(1) > nassets*.9]\n",
    "bad_days2=prices.index[prices.isnull().sum(1) > nassets*.9]\n",
    "bad_days3=volumes.index[volumes.isnull().sum(1) > nassets*.9]\n",
    "bad_days=pd.Index(set(bad_days1).union(set(bad_days2)).union(set(bad_days3))).sort_values()\n",
    "print (\"Removing these days from dataset:\")\n",
    "print(pd.DataFrame({'nan price':prices.isnull().sum(1)[bad_days],\n",
    "                    'nan volumes':volumes.isnull().sum(1)[bad_days],\n",
    "                    'nan sigmas':sigmas.isnull().sum(1)[bad_days]}))\n",
    "\n",
    "prices=prices.loc[~prices.index.isin(bad_days)]\n",
    "sigmas=sigmas.loc[~sigmas.index.isin(bad_days)]\n",
    "volumes=volumes.loc[~volumes.index.isin(bad_days)]\n",
    "\n",
    "# extra filtering\n",
    "print(pd.DataFrame({'remaining nan price':prices.isnull().sum(),\n",
    "                    'remaining nan volumes':volumes.isnull().sum(),\n",
    "                    'remaining nan sigmas':sigmas.isnull().sum()}))\n",
    "prices=prices.fillna(method='ffill')\n",
    "sigmas=sigmas.fillna(method='ffill')\n",
    "volumes=volumes.fillna(method='ffill')\n",
    "print(pd.DataFrame({'remaining nan price':prices.isnull().sum(),\n",
    "                    'remaining nan volumes':volumes.isnull().sum(),\n",
    "                    'remaining nan sigmas':sigmas.isnull().sum()}))"
   ]
  },
  {
   "cell_type": "markdown",
   "metadata": {},
   "source": [
    "#### Save "
   ]
  },
  {
   "cell_type": "code",
   "execution_count": 33,
   "metadata": {
    "collapsed": false
   },
   "outputs": [
    {
     "name": "stdout",
     "output_type": "stream",
     "text": [
      "Assets Index(['AAL', 'AIG', 'DISCA', 'ETFC', 'EBAY', 'GGP', 'HBI', 'HIG', 'PPG',\n",
      "       'STT', 'XL'],\n",
      "      dtype='object') have dubious returns\n"
     ]
    }
   ],
   "source": [
    "# make volumes in dollars\n",
    "volumes = volumes*prices\n",
    "\n",
    "# compute returns\n",
    "returns = (prices.diff()/prices.shift(1)).fillna(method='ffill').ix[1:]\n",
    "\n",
    "bad_assets = returns.columns[((-.5>returns).sum()>0)|((returns > 2.).sum()>0)]\n",
    "if len(bad_assets):\n",
    "    print('Assets %s have dubious returns, removed' % bad_assets)\n",
    "    \n",
    "prices = prices.loc[:,~prices.columns.isin(bad_assets)]\n",
    "sigmas = sigmas.loc[:,~sigmas.columns.isin(bad_assets)]\n",
    "volumes = volumes.loc[:,~volumes.columns.isin(bad_assets)]\n",
    "returns = returns.loc[:,~returns.columns.isin(bad_assets)]\n",
    "\n",
    "# save data\n",
    "prices.to_csv('prices.csv.gz', compression='gzip', float_format='%.3f')\n",
    "volumes.to_csv('volumes.csv.gz', compression='gzip', float_format='%d')\n",
    "returns.to_csv('returns.csv.gz', compression='gzip', float_format='%.3e')\n",
    "sigmas.to_csv('sigmas.csv.gz', compression='gzip', float_format='%.3e')"
   ]
  },
  {
   "cell_type": "markdown",
   "metadata": {},
   "source": [
    "### Data we generate "
   ]
  },
  {
   "cell_type": "code",
   "execution_count": 4,
   "metadata": {
    "collapsed": false
   },
   "outputs": [],
   "source": [
    "a = pd.DataFrame(data=2.5*1e-4, index=volumes.index, columns=volumes.columns)\n",
    "b = pd.DataFrame(data=1, index=volumes.index, columns=volumes.columns) \n",
    "s = pd.DataFrame(data=1*1e-4, index=volumes.index, columns=volumes.columns)\n",
    "\n",
    "a.to_csv('a.csv.gz', compression='gzip', float_format='%g')\n",
    "b.to_csv('b.csv.gz', compression='gzip', float_format='%g')\n",
    "s.to_csv('s.csv.gz', compression='gzip', float_format='%g')"
   ]
  },
  {
   "cell_type": "markdown",
   "metadata": {},
   "source": [
    "# Estimates "
   ]
  },
  {
   "cell_type": "code",
   "execution_count": 9,
   "metadata": {
    "collapsed": true
   },
   "outputs": [],
   "source": [
    "np.random.seed(0)\n",
    "noise=pd.DataFrame(index=returns.index, columns=returns.columns, \n",
    "                   data=0.1*np.random.randn(*returns.values.shape))\n",
    "return_estimate= returns + noise\n",
    "return_estimate.USDOLLAR = returns.USDOLLAR\n",
    "\n",
    "return_estimate.to_csv('return_estimate.csv.gz', compression='gzip', float_format='%.3e')\n",
    "\n",
    "volumes.rolling(window=10, center=False).mean().to_csv('volume_estimate.csv.gz', \n",
    "                                                       compression='gzip', float_format='%d')\n",
    "sigmas.rolling(window=10, center=False).mean().to_csv('sigma_estimate.csv.gz', \n",
    "                                                       compression='gzip', float_format='%.3e')"
   ]
  },
  {
   "cell_type": "markdown",
   "metadata": {},
   "source": [
    "# Risk model "
   ]
  },
  {
   "cell_type": "code",
   "execution_count": 40,
   "metadata": {
    "collapsed": true
   },
   "outputs": [],
   "source": [
    "start_t=\"2012-01-01\"\n",
    "end_t=\"2016-12-31\"\n",
    "\n",
    "first_days_month=\\\n",
    "    pd.date_range(start=returns.index[next(i for (i,el) in enumerate(returns.index >= start_t) if el)-1],\n",
    "                                 end=returns.index[-1], freq='MS')\n",
    "\n",
    "k=15\n",
    "exposures, factor_sigma, idyos = {}, {},{}\n",
    "for day in first_days_month:\n",
    "    used_returns = returns.loc[(returns.index < day)&\n",
    "                        (returns.index >= day-pd.Timedelta(\"730 days\"))]\n",
    "    second_moment=used_returns.values.T@used_returns.values/used_returns.values.shape[0]\n",
    "    eival,eivec=np.linalg.eigh(second_moment)\n",
    "    factor_sigma[day]=np.diag(eival[-k:])\n",
    "    exposures[day]=pd.DataFrame(data=eivec[:,-k:],index=returns.columns)\n",
    "    idyos[day]=pd.Series(data=np.diag(eivec[:,:-k]@np.diag(eival[:-k])@eivec[:,:-k].T),index=returns.columns)\n",
    "    \n",
    "pd.Panel(exposures).swapaxes(1,2).to_hdf('risk_model.h5', 'exposures')\n",
    "pd.DataFrame(idyos).T.to_hdf('risk_model.h5', 'idyos')\n",
    "pd.Panel(factor_sigma).to_hdf('risk_model.h5', 'factor_sigma')\n",
    "\n",
    "# load with\n",
    "# store = pd.HDFStore('risk_model.h5')\n",
    "# store.exposures, etc."
   ]
  }
 ],
 "metadata": {
  "kernelspec": {
   "display_name": "Python 3",
   "language": "python",
   "name": "python3"
  },
  "language_info": {
   "codemirror_mode": {
    "name": "ipython",
    "version": 3
   },
   "file_extension": ".py",
   "mimetype": "text/x-python",
   "name": "python",
   "nbconvert_exporter": "python",
   "pygments_lexer": "ipython3",
   "version": "3.6.0"
  }
 },
 "nbformat": 4,
 "nbformat_minor": 2
}
