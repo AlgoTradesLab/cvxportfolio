{
 "cells": [
  {
   "cell_type": "code",
   "execution_count": 1,
   "metadata": {
    "collapsed": false
   },
   "outputs": [],
   "source": [
    "%load_ext autoreload\n",
    "%autoreload 2\n",
    "%matplotlib inline\n",
    "\n",
    "import pandas as pd\n",
    "import numpy as np\n",
    "import matplotlib.pyplot as plt\n",
    "import cvx_portfolio as cp\n",
    "\n",
    "plotdir = '../portfolio/plots/'"
   ]
  },
  {
   "cell_type": "markdown",
   "metadata": {},
   "source": [
    "## Download data using ee103 code (to be integrated) "
   ]
  },
  {
   "cell_type": "code",
   "execution_count": 2,
   "metadata": {
    "collapsed": true
   },
   "outputs": [],
   "source": [
    "datadir= '../equity_data_tool/'\n",
    "sigmas=pd.read_csv(datadir+'sigmas.txt',index_col=0,parse_dates=[0])\n",
    "returns=pd.read_csv(datadir+'returns.txt',index_col=0,parse_dates=[0])\n",
    "volumes=pd.read_csv(datadir+'volumes.txt',index_col=0,parse_dates=[0])\n",
    "\n",
    "a = pd.DataFrame(data=2.5*1e-4, index=volumes.index, columns=volumes.columns)\n",
    "b = pd.DataFrame(data=1, index=volumes.index, columns=volumes.columns) # fix volatility model\n",
    "s = pd.DataFrame(data=1*1e-4, index=volumes.index, columns=volumes.columns)\n",
    "\n",
    "w_b = pd.Series(index=returns.columns, data=1)\n",
    "w_b.USDOLLAR = 0.\n",
    "w_b/=sum(w_b)\n",
    "\n",
    "start_t=\"2012-01-01\"\n",
    "end_t=\"2016-12-31\"\n",
    "\n",
    "np.random.seed(0)\n",
    "noise=pd.DataFrame(index=returns.index, columns=returns.columns, \n",
    "                   data=0.1*np.random.randn(*returns.values.shape))\n",
    "return_estimate= returns + noise\n",
    "return_estimate.USDOLLAR = returns.USDOLLAR\n",
    "alpha_model = cp.AlphaSource(return_estimate)"
   ]
  },
  {
   "cell_type": "code",
   "execution_count": 3,
   "metadata": {
    "collapsed": false
   },
   "outputs": [],
   "source": [
    "# np.random.seed(1)\n",
    "# alpha_signal=generate_alpha_signal(real_returns=returns, IC=0.01, type_noise='OU')\n",
    "# alpha_signal = 0.01 * alpha_signal\n",
    "# alpha_signal.USDOLLAR = returns.USDOLLAR\n",
    "\n",
    "# alpha_model = AlphaSource(alpha_signal)"
   ]
  },
  {
   "cell_type": "markdown",
   "metadata": {},
   "source": [
    "### Compute factor risk model "
   ]
  },
  {
   "cell_type": "code",
   "execution_count": 4,
   "metadata": {
    "collapsed": false
   },
   "outputs": [],
   "source": [
    "# exposures_pan, factor_sigma_pan, idyos_df = series_factor_model_covariance(returns, \n",
    "#                                                                            variance_explained=.75,\n",
    "#                                                                            freq='MS',\n",
    "#                                     lookback_periods = 12)\n",
    "\n",
    "# #risk_model = EmpSigma(returns, lookback=500)\n",
    "# risk_model = FactorModelSigma(exposures_pan, factor_sigma_pan, idyos_df)"
   ]
  },
  {
   "cell_type": "markdown",
   "metadata": {},
   "source": [
    "### Transaction costs model"
   ]
  },
  {
   "cell_type": "code",
   "execution_count": 5,
   "metadata": {
    "collapsed": true
   },
   "outputs": [],
   "source": [
    "# del volumes['USDOLLAR']\n",
    "# del sigmas['USDOLLAR']\n",
    "\n",
    "# spread = pd.DataFrame(data=5e-4, index=volumes.index, columns=volumes.columns)\n",
    "# nonlin_coeff = pd.DataFrame(data=1, index=volumes.index, columns=volumes.columns)\n",
    "# simulated_tcost = TcostModel(volumes, sigmas, spread, nonlin_coeff, cash_key='USDOLLAR')"
   ]
  },
  {
   "cell_type": "code",
   "execution_count": 6,
   "metadata": {
    "collapsed": false
   },
   "outputs": [],
   "source": [
    "simulated_tcost = cp.TcostModel(volumes, sigmas, a, b, cash_key='USDOLLAR')\n",
    "simulated_hcost = cp.HcostModel(s, cash_key='USDOLLAR')\n",
    "simulator = cp.MarketSimulator(returns, volumes, [simulated_tcost, simulated_hcost], cash_key='USDOLLAR')"
   ]
  },
  {
   "cell_type": "markdown",
   "metadata": {},
   "source": [
    "## Portfolio"
   ]
  },
  {
   "cell_type": "code",
   "execution_count": 7,
   "metadata": {
    "collapsed": false
   },
   "outputs": [],
   "source": [
    "# p = pd.Series(index=returns.columns, data=1)\n",
    "# p.USDOLLAR=0.\n",
    "# weights=p/sum(p)\n",
    "# p_0 = 1E8*p"
   ]
  },
  {
   "cell_type": "markdown",
   "metadata": {},
   "source": [
    "## Policy"
   ]
  },
  {
   "cell_type": "code",
   "execution_count": 10,
   "metadata": {
    "collapsed": false
   },
   "outputs": [],
   "source": [
    "from cvx_portfolio.data import series_factor_model_covariance\n",
    "exposures_pan, factor_sigma_pan, idyos_df = series_factor_model_covariance(returns, variance_explained=.75,\n",
    "                                                                           freq='MS',lookback_periods = 12)\n",
    "risk_model = cp.FactorModelSigma(exposures_pan, factor_sigma_pan, idyos_df)\n",
    "\n",
    "\n",
    "gamma_tcost=100.\n",
    "policies={}\n",
    "for lev in [1, 2, 3]:\n",
    "    for risk in [.5,10,100, 1000] : \n",
    "        policies[(risk, lev)] = \\\n",
    "                cp.SinglePeriodOpt(alpha_model, [risk*risk_model, gamma_tcost*simulated_tcost], \n",
    "                                [cp.LeverageLimit(lev)])"
   ]
  },
  {
   "cell_type": "markdown",
   "metadata": {},
   "source": [
    "## Simulations"
   ]
  },
  {
   "cell_type": "code",
   "execution_count": null,
   "metadata": {
    "collapsed": true
   },
   "outputs": [],
   "source": [
    "results=dict(zip(policies.keys(), simulator.run_multiple_backtest(1E8*w_b, start_time=start_t,end_time=end_t,\n",
    "                                              policies=policies.values(), parallel=True)))"
   ]
  },
  {
   "cell_type": "code",
   "execution_count": null,
   "metadata": {
    "collapsed": false
   },
   "outputs": [],
   "source": [
    "# results=dict(zip(policies.keys(), \n",
    "#                  simulator.run_multiple_backtest(p_0, start_time=\"2012-01-01\",end_time=\"2016-12-31\",\n",
    "#                                               policies=policies.values(), parallel=True)))"
   ]
  },
  {
   "cell_type": "code",
   "execution_count": null,
   "metadata": {
    "collapsed": false
   },
   "outputs": [],
   "source": [
    "results"
   ]
  },
  {
   "cell_type": "code",
   "execution_count": null,
   "metadata": {
    "collapsed": false
   },
   "outputs": [],
   "source": [
    "result_df=pd.DataFrame()\n",
    "for k in results:\n",
    "    result_df.loc[k[0], float(k[1])]= results[k]\n",
    "result_df.index.name = 'gamma_risk'\n",
    "result_df.columns.name = 'leverage'\n",
    "result_df = result_df.reindex(index=sorted(result_df.index),columns=sorted(result_df.columns))"
   ]
  },
  {
   "cell_type": "code",
   "execution_count": null,
   "metadata": {
    "collapsed": true
   },
   "outputs": [],
   "source": [
    "result_df=result_df.loc[result_df.index[:3]]\n",
    "result_df=result_df[[1,2,3]]"
   ]
  },
  {
   "cell_type": "code",
   "execution_count": null,
   "metadata": {
    "collapsed": false
   },
   "outputs": [],
   "source": [
    "plt.figure(figsize=(8,5))\n",
    "for leverage in result_df.columns:\n",
    "    x = [100*result_df.loc[(i, leverage)].volatility for i in result_df.index]\n",
    "    y = [100*result_df.loc[(i, leverage)].mean_return for i in result_df.index]\n",
    "    plt.plot(np.array(x),np.array(y), '.-', label=r'$L^\\mathrm{max} = %g$'%leverage)\n",
    "plt.legend(loc='upper left')\n",
    "plt.xlabel('Volatility')\n",
    "plt.ylabel('Return')\n",
    "\n",
    "import matplotlib.ticker as mtick\n",
    "ax = plt.gca()\n",
    "ax.xaxis.set_major_formatter(mtick.FormatStrFormatter('%g%%'))\n",
    "ax.yaxis.set_major_formatter(mtick.FormatStrFormatter('%g%%'))\n",
    "\n",
    "plt.savefig(plotdir+'constr_riskrewardfrontier.png')"
   ]
  },
  {
   "cell_type": "code",
   "execution_count": null,
   "metadata": {
    "collapsed": false
   },
   "outputs": [],
   "source": [
    "result_df_used= result_df\n",
    "\n",
    "avg_daily_return=lambda res: \"%.2f%%\"%(res.mean_return*100)\n",
    "avg_annual_tcost=lambda res: \"%.2f%%\"%((res.simulator_TcostModel.sum(1)/res.v).mean() *250*100)\n",
    "volatility=lambda res: \"%.2f%%\"%(res.volatility*100)\n",
    "\n",
    "table=pd.Panel({r'Return':result_df_used.applymap(avg_daily_return),\n",
    "          r'Trans. costs':result_df_used.applymap(avg_annual_tcost),\n",
    "          r'Volatility':result_df_used.applymap(volatility),\n",
    "               }).to_frame()\n",
    "table = table.set_index(table.index.rename([r'$\\gamma^\\mathrm{risk}$', r'$L^\\mathrm{max}$']))\n",
    "\n",
    "# format index\n",
    "table=table.set_index(table.index.set_levels([[\"%g\"%i for i in table.index.levels[0]],\n",
    "                      [\"%g\"%i for i in table.index.levels[1]]]))\n",
    "\n",
    "table"
   ]
  },
  {
   "cell_type": "code",
   "execution_count": null,
   "metadata": {
    "collapsed": false
   },
   "outputs": [],
   "source": [
    "print(table.to_latex(escape=False).replace('%','\\%'))"
   ]
  },
  {
   "cell_type": "code",
   "execution_count": null,
   "metadata": {
    "collapsed": false
   },
   "outputs": [],
   "source": [
    "# x = [results_s.loc[l].volatility*100 for l in results_s.index]\n",
    "# y = [results_s.loc[l].mean_return*100 for l in results_s.index]\n",
    "# plt.plot(np.array(x),np.array(y), '.-')"
   ]
  },
  {
   "cell_type": "code",
   "execution_count": null,
   "metadata": {
    "collapsed": false
   },
   "outputs": [],
   "source": [
    "# for i in range(5):\\\n",
    "#     results_s.values[i].leverage.plot(label='%g'%leverages[i])\n",
    "# plt.legend()"
   ]
  },
  {
   "cell_type": "code",
   "execution_count": null,
   "metadata": {
    "collapsed": false
   },
   "outputs": [],
   "source": [
    "# for i in range(5):\\\n",
    "#     results_s.values[i].v.plot(label='%g'%leverages[i])\n",
    "# plt.legend()"
   ]
  },
  {
   "cell_type": "code",
   "execution_count": null,
   "metadata": {
    "collapsed": false
   },
   "outputs": [],
   "source": [
    "# for i in range(5):\\\n",
    "#     results_s.values[i].w['USDOLLAR'].plot(label='%g'%leverages[i])\n",
    "# plt.legend()"
   ]
  },
  {
   "cell_type": "code",
   "execution_count": null,
   "metadata": {
    "collapsed": false
   },
   "outputs": [],
   "source": [
    "# for i in range(5):\\\n",
    "#     (np.sqrt(250)*np.sqrt(results_s.values[i].policy_FactorModelSigma)).plot(label='%g'%leverages[i])\n",
    "# plt.legend()"
   ]
  },
  {
   "cell_type": "code",
   "execution_count": null,
   "metadata": {
    "collapsed": true
   },
   "outputs": [],
   "source": []
  },
  {
   "cell_type": "code",
   "execution_count": null,
   "metadata": {
    "collapsed": true
   },
   "outputs": [],
   "source": []
  }
 ],
 "metadata": {
  "anaconda-cloud": {},
  "kernelspec": {
   "display_name": "Python [conda root]",
   "language": "python",
   "name": "conda-root-py"
  },
  "language_info": {
   "codemirror_mode": {
    "name": "ipython",
    "version": 3
   },
   "file_extension": ".py",
   "mimetype": "text/x-python",
   "name": "python",
   "nbconvert_exporter": "python",
   "pygments_lexer": "ipython3",
   "version": "3.5.2"
  }
 },
 "nbformat": 4,
 "nbformat_minor": 2
}
