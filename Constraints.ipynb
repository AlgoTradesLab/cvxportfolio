{
 "cells": [
  {
   "cell_type": "code",
   "execution_count": null,
   "metadata": {
    "collapsed": false
   },
   "outputs": [],
   "source": [
    "%load_ext autoreload\n",
    "%autoreload 2\n",
    "%matplotlib inline\n",
    "\n",
    "import pandas as pd\n",
    "import numpy as np\n",
    "import matplotlib.pyplot as plt\n",
    "import cvx_portfolio as cp\n",
    "\n",
    "plotdir = '../portfolio/plots/'\n",
    "\n",
    "sigmas=pd.read_csv('sigmas.csv.gz',index_col=0,parse_dates=[0])\n",
    "returns=pd.read_csv('returns.csv.gz',index_col=0,parse_dates=[0])\n",
    "volumes=pd.read_csv('volumes.csv.gz',index_col=0,parse_dates=[0])\n",
    "\n",
    "a = pd.DataFrame(data=2.5*1e-4, index=volumes.index, columns=volumes.columns)\n",
    "b = pd.DataFrame(data=1, index=volumes.index, columns=volumes.columns) # fix volatility model\n",
    "s = pd.DataFrame(data=1*1e-4, index=volumes.index, columns=volumes.columns)\n",
    "\n",
    "w_b = pd.Series(index=returns.columns, data=1)\n",
    "w_b.USDOLLAR = 0.\n",
    "w_b/=sum(w_b)\n",
    "\n",
    "start_t=\"2012-01-01\"\n",
    "end_t=\"2016-12-31\"\n",
    "\n",
    "np.random.seed(0)\n",
    "noise=pd.DataFrame(index=returns.index, columns=returns.columns, \n",
    "                   data=0.1*np.random.randn(*returns.values.shape))\n",
    "return_estimate= returns + noise\n",
    "return_estimate.USDOLLAR = returns.USDOLLAR\n",
    "alpha_model = cp.AlphaSource(return_estimate)\n",
    "\n",
    "simulated_tcost = cp.TcostModel(volumes, sigmas, a, b, cash_key='USDOLLAR')\n",
    "simulated_hcost = cp.HcostModel(s, cash_key='USDOLLAR')\n",
    "simulator = cp.MarketSimulator(returns, volumes, [simulated_tcost, simulated_hcost], cash_key='USDOLLAR')\n",
    "\n",
    "from cvx_portfolio.data import series_factor_model_covariance\n",
    "exposures_pan, factor_sigma_pan, idyos_df = series_factor_model_covariance(returns, variance_explained=.75,\n",
    "                                                                           freq='MS',lookback_periods = 12)\n",
    "risk_model = cp.FactorModelSigma(exposures_pan, factor_sigma_pan, idyos_df)\n",
    "\n",
    "results={}"
   ]
  },
  {
   "cell_type": "markdown",
   "metadata": {},
   "source": [
    "## Simulations"
   ]
  },
  {
   "cell_type": "code",
   "execution_count": null,
   "metadata": {
    "collapsed": false,
    "scrolled": true
   },
   "outputs": [],
   "source": [
    "gamma_tcost=50.\n",
    "policies={}\n",
    "for lev in [1,2,3]:\n",
    "    for risk in [ 30., 100., 300., 1000.] : \n",
    "        policies[(risk, lev)] = \\\n",
    "                cp.SinglePeriodOpt(alpha_model, [risk*risk_model, gamma_tcost*simulated_tcost], \n",
    "                                [cp.LeverageLimit(lev)])\n",
    "\n",
    "results.update(dict(zip(policies.keys(), simulator.run_multiple_backtest(1E8*w_b, start_time=start_t,end_time=end_t,\n",
    "                                              policies=policies.values(), parallel=True))))"
   ]
  },
  {
   "cell_type": "code",
   "execution_count": null,
   "metadata": {
    "collapsed": false
   },
   "outputs": [],
   "source": [
    "result_df=pd.DataFrame()\n",
    "for k in results:\n",
    "    result_df.loc[k[0], float(k[1])]= results[k]\n",
    "result_df.index.name = 'gamma_risk'\n",
    "result_df.columns.name = 'leverage'\n",
    "result_df = result_df.reindex(index=sorted(result_df.index),columns=sorted(result_df.columns))"
   ]
  },
  {
   "cell_type": "code",
   "execution_count": null,
   "metadata": {
    "collapsed": false
   },
   "outputs": [],
   "source": [
    "used_returns = returns.loc[(returns.index>=start_t)&(returns.index<=end_t)]\n",
    "benchmark_returns = pd.Series(index=used_returns.index, data=used_returns.USDOLLAR)\n",
    "\n",
    "result_df_used= result_df\n",
    "\n",
    "table=pd.DataFrame()\n",
    "table[r'Excess return']=\\\n",
    "result_df_used.applymap(lambda res: 100*250*(res.returns - benchmark_returns).mean()).unstack()\n",
    "table[r'Excess risk']= \\\n",
    "    result_df_used.applymap(lambda res: np.std(benchmark_returns - res.returns)*100*np.sqrt(250)).unstack()\n",
    "table[r'Transaction costs']=\\\n",
    "    result_df_used.applymap(lambda res: (res.simulator_TcostModel.sum(1)/res.v).mean() * 100 * 250).unstack()\n",
    "    \n",
    "# avg_daily_return=lambda res: \"%.2f%%\"%(res.mean_return*100)\n",
    "# avg_annual_tcost=lambda res: \"%.2f%%\"%((res.simulator_TcostModel.sum(1)/res.v).mean() *250*100)\n",
    "# volatility=lambda res: \"%.2f%%\"%(res.volatility*100)\n",
    "\n",
    "# table=pd.Panel({r'Return':result_df_used.applymap(avg_daily_return),\n",
    "#           r'Trans. costs':result_df_used.applymap(avg_annual_tcost),\n",
    "#           r'Volatility':result_df_used.applymap(volatility),\n",
    "#                }).to_frame()\n",
    "table = table.set_index(table.index.rename([ r'$L^\\mathrm{max}$',r'$\\gamma^\\mathrm{risk}$',]))\n",
    "\n",
    "# format index\n",
    "table=table.set_index(table.index.set_levels([[\"%g\"%i for i in table.index.levels[0]],\n",
    "                      [\"%g\"%i for i in table.index.levels[1]]]))\n",
    "\n",
    "table_print=pd.DataFrame(table,copy=True)\n",
    "table_print.ix[:,:]=table_print.ix[:,:].applymap(lambda x: r'%.2f%%'%x )\n",
    "print(table_print.to_latex(float_format='%.2f', escape=False).replace('%',r'\\%'))"
   ]
  },
  {
   "cell_type": "code",
   "execution_count": null,
   "metadata": {
    "collapsed": false
   },
   "outputs": [],
   "source": [
    "# plt.figure(figsize=(8,5))\n",
    "# for leverage in result_df.columns:\n",
    "#     x = [100*result_df.loc[(i, leverage)].volatility for i in result_df.index]\n",
    "#     y = [100*result_df.loc[(i, leverage)].mean_return for i in result_df.index]\n",
    "#     plt.plot(np.array(x),np.array(y), '.-', label=r'$L^\\mathrm{max} = %g$'%leverage)\n",
    "# plt.legend(loc='upper left')\n",
    "# plt.xlabel('Volatility')\n",
    "# plt.ylabel('Return')\n",
    "\n",
    "plt.figure(figsize=(8,5))\n",
    "for leverage in table.index.levels[0][1:4]:\n",
    "    x = table.loc[leverage]['Excess risk']\n",
    "    y = table.loc[leverage]['Excess return']\n",
    "    plt.plot(np.array(x),np.array(y), '.-', label=r'$L^\\mathrm{max} = %s$'%leverage)\n",
    "plt.legend(loc='upper left')\n",
    "plt.xlabel('Volatility')\n",
    "plt.ylabel('Return')\n",
    "\n",
    "plt.xlim([4,24])\n",
    "plt.ylim([0,35])\n",
    "\n",
    "\n",
    "import matplotlib.ticker as mtick\n",
    "ax = plt.gca()\n",
    "ax.xaxis.set_major_formatter(mtick.FormatStrFormatter('%g%%'))\n",
    "ax.yaxis.set_major_formatter(mtick.FormatStrFormatter('%g%%'))\n",
    "\n",
    "plt.savefig(plotdir+'constr_riskrewardfrontier.png')"
   ]
  },
  {
   "cell_type": "code",
   "execution_count": null,
   "metadata": {
    "collapsed": false
   },
   "outputs": [],
   "source": [
    "# x = [results_s.loc[l].volatility*100 for l in results_s.index]\n",
    "# y = [results_s.loc[l].mean_return*100 for l in results_s.index]\n",
    "# plt.plot(np.array(x),np.array(y), '.-')"
   ]
  },
  {
   "cell_type": "code",
   "execution_count": null,
   "metadata": {
    "collapsed": false
   },
   "outputs": [],
   "source": [
    "result_df[1.]"
   ]
  },
  {
   "cell_type": "code",
   "execution_count": null,
   "metadata": {
    "collapsed": false
   },
   "outputs": [],
   "source": [
    "for res in result_df[1.]:\n",
    "    res.v.plot()"
   ]
  },
  {
   "cell_type": "code",
   "execution_count": null,
   "metadata": {
    "collapsed": false
   },
   "outputs": [],
   "source": [
    "for res in result_df[2.]:\n",
    "    res.v.plot()"
   ]
  },
  {
   "cell_type": "code",
   "execution_count": null,
   "metadata": {
    "collapsed": false
   },
   "outputs": [],
   "source": [
    "# for i in range(5):\\\n",
    "#     results_s.values[i].v.plot(label='%g'%leverages[i])\n",
    "# plt.legend()"
   ]
  },
  {
   "cell_type": "code",
   "execution_count": null,
   "metadata": {
    "collapsed": false
   },
   "outputs": [],
   "source": [
    "# for i in range(5):\\\n",
    "#     results_s.values[i].w['USDOLLAR'].plot(label='%g'%leverages[i])\n",
    "# plt.legend()"
   ]
  },
  {
   "cell_type": "code",
   "execution_count": null,
   "metadata": {
    "collapsed": false
   },
   "outputs": [],
   "source": [
    "# for i in range(5):\\\n",
    "#     (np.sqrt(250)*np.sqrt(results_s.values[i].policy_FactorModelSigma)).plot(label='%g'%leverages[i])\n",
    "# plt.legend()"
   ]
  },
  {
   "cell_type": "code",
   "execution_count": null,
   "metadata": {
    "collapsed": true
   },
   "outputs": [],
   "source": []
  },
  {
   "cell_type": "code",
   "execution_count": null,
   "metadata": {
    "collapsed": true
   },
   "outputs": [],
   "source": []
  }
 ],
 "metadata": {
  "anaconda-cloud": {},
  "kernelspec": {
   "display_name": "Python 3",
   "language": "python",
   "name": "python3"
  },
  "language_info": {
   "codemirror_mode": {
    "name": "ipython",
    "version": 3
   },
   "file_extension": ".py",
   "mimetype": "text/x-python",
   "name": "python",
   "nbconvert_exporter": "python",
   "pygments_lexer": "ipython3",
   "version": "3.6.0"
  }
 },
 "nbformat": 4,
 "nbformat_minor": 2
}
