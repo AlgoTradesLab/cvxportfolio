{
 "cells": [
  {
   "cell_type": "code",
   "execution_count": null,
   "metadata": {
    "collapsed": true
   },
   "outputs": [],
   "source": [
    "from __future__ import print_function\n",
    "import pandas as pd\n",
    "import numpy as np\n",
    "import datetime as dt\n",
    "import quandl\n",
    "\n",
    "assets=pd.read_csv('SP500.txt', comment='#').set_index('Symbol')\n",
    "\n",
    "QUANDL={\n",
    "    ## Get a key (free) from quandl.com and copy it here\n",
    "    'authtoken':\"\",\n",
    "    'start_date':dt.date(2007, 1, 1),\n",
    "    'end_date':dt.date(2016, 12, 31)\n",
    "}\n",
    "RISK_FREE_SYMBOL = \"USDOLLAR\"\n",
    "data={}"
   ]
  },
  {
   "cell_type": "markdown",
   "metadata": {},
   "source": [
    "### Download loop"
   ]
  },
  {
   "cell_type": "markdown",
   "metadata": {},
   "source": [
    "If it stops because of Quandl error codes 503 or 504, try re-running it (it won't download data already downloaded)."
   ]
  },
  {
   "cell_type": "code",
   "execution_count": 40,
   "metadata": {
    "collapsed": false
   },
   "outputs": [
    {
     "name": "stdout",
     "output_type": "stream",
     "text": [
      "downloading BRK-B from 2007-01-01 to 2016-12-31\n",
      "\tInvalid asset code\n",
      "downloading BF-B from 2007-01-01 to 2016-12-31\n",
      "\tInvalid asset code\n"
     ]
    }
   ],
   "source": [
    "# download assets' data\n",
    "for ticker in assets.index:\n",
    "    if ticker in data:\n",
    "        continue\n",
    "    print('downloading %s from %s to %s' %(ticker, QUANDL['start_date'], QUANDL['end_date']))\n",
    "    try:\n",
    "        data[ticker] = quandl.get(assets.Quandlcode[ticker], **QUANDL)\n",
    "    except quandl.NotFoundError:\n",
    "        print('\\tInvalid asset code')"
   ]
  },
  {
   "cell_type": "markdown",
   "metadata": {},
   "source": [
    "### Computation "
   ]
  },
  {
   "cell_type": "code",
   "execution_count": 30,
   "metadata": {
    "collapsed": true
   },
   "outputs": [],
   "source": [
    "def select_first_valid_column(df, columns):\n",
    "    for column in columns:\n",
    "        if column in df.columns:\n",
    "            return df[column]\n",
    "        \n",
    "# extract prices\n",
    "prices=pd.DataFrame.from_items([(k,select_first_valid_column(v, [\"Adj. Close\", \"Close\", \"VALUE\"])) \n",
    "                                for k,v in data.items()])\n",
    "\n",
    "#compute sigmas\n",
    "high=pd.DataFrame.from_items([(k,select_first_valid_column(v, [\"High\"])) for k,v in data.items()])\n",
    "low=pd.DataFrame.from_items([(k,select_first_valid_column(v, [\"Low\"])) for k,v in data.items()])\n",
    "sigmas = (high-low) / (2*high)\n",
    "\n",
    "# extract volumes\n",
    "volumes=pd.DataFrame.from_items([(k,select_first_valid_column(v, [\"Adj. Volume\", \"Volume\"])) for k,v in data.items()])\n",
    "\n",
    "# fix risk free\n",
    "prices[RISK_FREE_SYMBOL]=10000*(1 + prices[RISK_FREE_SYMBOL]/(100*250)).cumprod()"
   ]
  },
  {
   "cell_type": "markdown",
   "metadata": {},
   "source": [
    "### Filtering "
   ]
  },
  {
   "cell_type": "code",
   "execution_count": 31,
   "metadata": {
    "collapsed": false
   },
   "outputs": [
    {
     "name": "stdout",
     "output_type": "stream",
     "text": [
      "Assets Index(['ABBV', 'ACE', 'ADT', 'GAS', 'ARG', 'AA', 'ALLE', 'GOOG', 'ALTR',\n",
      "       'AVGO', 'BXLT', 'BRCM', 'CVC', 'CAM', 'CCE', 'CPGX', 'CMCSK', 'CSC',\n",
      "       'CNX', 'DLPH', 'DAL', 'DFS', 'DISCK', 'DG', 'DPS', 'EMC', 'ESV', 'FB',\n",
      "       'FOSL', 'GM', 'GNW', 'HCA', 'HCBK', 'GMCR', 'KMI', 'KHC', 'LYB', 'MNK',\n",
      "       'MPC', 'MHFI', 'MJN', 'WRK', 'KORS', 'NAVI', 'NWSA', 'NWS', 'NLSN',\n",
      "       'PYPL', 'POM', 'PM', 'PSX', 'PCL', 'PCP', 'QRVO', 'SNDK', 'SNI', 'SIAL',\n",
      "       'HOT', 'TEL', 'TE', 'TGNA', 'THC', 'TDC', 'TWC', 'TRIP', 'TYC', 'VRSK',\n",
      "       'V', 'WBA', 'ANTM', 'XYL', 'ZBH', 'ZTS'],\n",
      "      dtype='object') have too many NaNs, removing them\n",
      "Removing these days from dataset:\n",
      "            nan price  nan sigmas  nan volumes\n",
      "2007-01-02        430         NaN          NaN\n",
      "2007-04-06        430         NaN          NaN\n",
      "2007-05-27        431       431.0        430.0\n",
      "2010-04-02        430         NaN          NaN\n",
      "2012-04-06        430         NaN          NaN\n",
      "2012-10-29        430       431.0        427.0\n",
      "2015-04-03        430         NaN          NaN\n",
      "          remaining nan price  remaining nan sigmas  remaining nan volumes\n",
      "MMM                         0                     0                      0\n",
      "ABT                         0                     0                      0\n",
      "ACN                        14                    14                     14\n",
      "ATVI                        3                     3                      3\n",
      "ADBE                       12                    12                     12\n",
      "AAP                         1                     1                      1\n",
      "AES                        13                    13                     13\n",
      "AET                        11                    11                     11\n",
      "AFL                        14                    14                     14\n",
      "AMG                         5                     5                      5\n",
      "A                           1                     1                      1\n",
      "APD                         6                     6                      6\n",
      "AKAM                       12                    12                     12\n",
      "AGN                         0                     0                      0\n",
      "ALXN                        0                     0                      0\n",
      "ADS                        12                    12                     12\n",
      "ALL                        13                    13                     13\n",
      "GOOGL                       0                     0                      0\n",
      "MO                          0                     0                      0\n",
      "AMZN                       11                    11                     11\n",
      "AEE                        11                    11                     11\n",
      "AAL                         1                     1                      1\n",
      "AEP                        12                    12                     12\n",
      "AXP                         1                     1                      1\n",
      "AIG                        13                    13                     13\n",
      "AMT                        12                    12                     12\n",
      "AMP                        13                    13                     13\n",
      "ABC                        15                    15                     15\n",
      "AME                        17                    17                     17\n",
      "AMGN                       12                    12                     12\n",
      "...                       ...                   ...                    ...\n",
      "VTR                        14                    14                     14\n",
      "VRSN                       14                    14                     14\n",
      "VZ                         15                    15                     15\n",
      "VRTX                       14                    15                     14\n",
      "VIAB                       13                    13                     13\n",
      "VNO                        16                    16                     16\n",
      "VMC                        14                    14                     14\n",
      "WMT                        15                    15                     15\n",
      "DIS                        13                    13                     13\n",
      "WM                         16                    16                     16\n",
      "WAT                        15                    15                     15\n",
      "WFC                        13                    13                     13\n",
      "HCN                         0                     0                      0\n",
      "WDC                         8                     8                      8\n",
      "WU                         14                    14                     14\n",
      "WY                         14                    14                     14\n",
      "WHR                        16                    16                     16\n",
      "WFM                        16                    16                     16\n",
      "WMB                        15                    15                     15\n",
      "WEC                        14                    14                     14\n",
      "WYN                        14                    14                     14\n",
      "WYNN                       15                    15                     15\n",
      "XEL                         8                     8                      8\n",
      "XRX                         8                     8                      8\n",
      "XLNX                       16                    16                     16\n",
      "XL                         15                    15                     15\n",
      "YHOO                       16                    16                     16\n",
      "YUM                         0                     0                      0\n",
      "ZION                       15                    15                     15\n",
      "USDOLLAR                   20                  2518                   2518\n",
      "\n",
      "[431 rows x 3 columns]\n",
      "          remaining nan price  remaining nan sigmas  remaining nan volumes\n",
      "MMM                         0                     0                      0\n",
      "ABT                         0                     0                      0\n",
      "ACN                         0                     0                      0\n",
      "ATVI                        0                     0                      0\n",
      "ADBE                        0                     0                      0\n",
      "AAP                         0                     0                      0\n",
      "AES                         0                     0                      0\n",
      "AET                         0                     0                      0\n",
      "AFL                         0                     0                      0\n",
      "AMG                         0                     0                      0\n",
      "A                           0                     0                      0\n",
      "APD                         0                     0                      0\n",
      "AKAM                        0                     0                      0\n",
      "AGN                         0                     0                      0\n",
      "ALXN                        0                     0                      0\n",
      "ADS                         0                     0                      0\n",
      "ALL                         0                     0                      0\n",
      "GOOGL                       0                     0                      0\n",
      "MO                          0                     0                      0\n",
      "AMZN                        0                     0                      0\n",
      "AEE                         0                     0                      0\n",
      "AAL                         0                     0                      0\n",
      "AEP                         0                     0                      0\n",
      "AXP                         0                     0                      0\n",
      "AIG                         0                     0                      0\n",
      "AMT                         0                     0                      0\n",
      "AMP                         0                     0                      0\n",
      "ABC                         0                     0                      0\n",
      "AME                         0                     0                      0\n",
      "AMGN                        0                     0                      0\n",
      "...                       ...                   ...                    ...\n",
      "VTR                         0                     0                      0\n",
      "VRSN                        0                     0                      0\n",
      "VZ                          0                     0                      0\n",
      "VRTX                        0                     0                      0\n",
      "VIAB                        0                     0                      0\n",
      "VNO                         0                     0                      0\n",
      "VMC                         0                     0                      0\n",
      "WMT                         0                     0                      0\n",
      "DIS                         0                     0                      0\n",
      "WM                          0                     0                      0\n",
      "WAT                         0                     0                      0\n",
      "WFC                         0                     0                      0\n",
      "HCN                         0                     0                      0\n",
      "WDC                         0                     0                      0\n",
      "WU                          0                     0                      0\n",
      "WY                          0                     0                      0\n",
      "WHR                         0                     0                      0\n",
      "WFM                         0                     0                      0\n",
      "WMB                         0                     0                      0\n",
      "WEC                         0                     0                      0\n",
      "WYN                         0                     0                      0\n",
      "WYNN                        0                     0                      0\n",
      "XEL                         0                     0                      0\n",
      "XRX                         0                     0                      0\n",
      "XLNX                        0                     0                      0\n",
      "XL                          0                     0                      0\n",
      "YHOO                        0                     0                      0\n",
      "YUM                         0                     0                      0\n",
      "ZION                        0                     0                      0\n",
      "USDOLLAR                    0                  2518                   2518\n",
      "\n",
      "[431 rows x 3 columns]\n"
     ]
    }
   ],
   "source": [
    "# filter NaNs - threshold at 2% missing values\n",
    "bad_assets = prices.columns[prices.isnull().sum()>len(prices)*0.02]\n",
    "if len(bad_assets):\n",
    "    print('Assets %s have too many NaNs, removing them' % bad_assets)\n",
    "\n",
    "prices = prices.loc[:,~prices.columns.isin(bad_assets)]\n",
    "sigmas = sigmas.loc[:,~sigmas.columns.isin(bad_assets)]\n",
    "volumes = volumes.loc[:,~volumes.columns.isin(bad_assets)]\n",
    "\n",
    "nassets=prices.shape[1]\n",
    "\n",
    "# days on which many assets have missing values\n",
    "bad_days1=sigmas.index[sigmas.isnull().sum(1) > nassets*.9]\n",
    "bad_days2=prices.index[prices.isnull().sum(1) > nassets*.9]\n",
    "bad_days3=volumes.index[volumes.isnull().sum(1) > nassets*.9]\n",
    "bad_days=pd.Index(set(bad_days1).union(set(bad_days2)).union(set(bad_days3))).sort_values()\n",
    "print (\"Removing these days from dataset:\")\n",
    "print(pd.DataFrame({'nan price':prices.isnull().sum(1)[bad_days],\n",
    "                    'nan volumes':volumes.isnull().sum(1)[bad_days],\n",
    "                    'nan sigmas':sigmas.isnull().sum(1)[bad_days]}))\n",
    "\n",
    "prices=prices.loc[~prices.index.isin(bad_days)]\n",
    "sigmas=sigmas.loc[~sigmas.index.isin(bad_days)]\n",
    "volumes=volumes.loc[~volumes.index.isin(bad_days)]\n",
    "\n",
    "# extra filtering\n",
    "print(pd.DataFrame({'remaining nan price':prices.isnull().sum(),\n",
    "                    'remaining nan volumes':volumes.isnull().sum(),\n",
    "                    'remaining nan sigmas':sigmas.isnull().sum()}))\n",
    "prices=prices.fillna(method='ffill')\n",
    "sigmas=sigmas.fillna(method='ffill')\n",
    "volumes=volumes.fillna(method='ffill')\n",
    "print(pd.DataFrame({'remaining nan price':prices.isnull().sum(),\n",
    "                    'remaining nan volumes':volumes.isnull().sum(),\n",
    "                    'remaining nan sigmas':sigmas.isnull().sum()}))"
   ]
  },
  {
   "cell_type": "markdown",
   "metadata": {},
   "source": [
    "#### Extra computation "
   ]
  },
  {
   "cell_type": "code",
   "execution_count": 32,
   "metadata": {
    "collapsed": true
   },
   "outputs": [],
   "source": [
    "# make volumes in dollars\n",
    "volumes = volumes*prices\n",
    "\n",
    "# compute returns\n",
    "returns = (prices.diff()/prices.shift(1)).fillna(method='ffill').ix[1:]"
   ]
  },
  {
   "cell_type": "markdown",
   "metadata": {},
   "source": [
    "#### Extra filtering "
   ]
  },
  {
   "cell_type": "code",
   "execution_count": 33,
   "metadata": {
    "collapsed": false
   },
   "outputs": [
    {
     "name": "stdout",
     "output_type": "stream",
     "text": [
      "Assets Index(['AAL', 'AIG', 'DISCA', 'ETFC', 'EBAY', 'GGP', 'HBI', 'HIG', 'PPG',\n",
      "       'STT', 'XL'],\n",
      "      dtype='object') have dubious returns\n"
     ]
    }
   ],
   "source": [
    "bad_assets = returns.columns[((-.5>returns).sum()>0)|((returns > 2.).sum()>0)]\n",
    "if len(bad_assets):\n",
    "    print('Assets %s have dubious returns, removed' % bad_assets)\n",
    "    \n",
    "prices = prices.loc[:,~prices.columns.isin(bad_assets)]\n",
    "sigmas = sigmas.loc[:,~sigmas.columns.isin(bad_assets)]\n",
    "volumes = volumes.loc[:,~volumes.columns.isin(bad_assets)]\n",
    "returns = returns.loc[:,~returns.columns.isin(bad_assets)]"
   ]
  },
  {
   "cell_type": "markdown",
   "metadata": {},
   "source": [
    "### save data"
   ]
  },
  {
   "cell_type": "code",
   "execution_count": 28,
   "metadata": {
    "collapsed": false
   },
   "outputs": [],
   "source": [
    "prices.to_csv('prices.csv.gz', compression='gzip', float_format='%.3f')\n",
    "volumes.to_csv('volumes.csv.gz', compression='gzip', float_format='%d')\n",
    "returns.to_csv('returns.csv.gz', compression='gzip', float_format='%.3e')\n",
    "sigmas.to_csv('sigmas.csv.gz', compression='gzip', float_format='%.3e')"
   ]
  },
  {
   "cell_type": "code",
   "execution_count": 39,
   "metadata": {
    "collapsed": false
   },
   "outputs": [
    {
     "name": "stdout",
     "output_type": "stream",
     "text": [
      "total 14M\r\n",
      "drwxrwxr-x 4 ebusseti ebusseti 4.0K Mar 13 16:18 .\r\n",
      "drwxrwxr-x 4 ebusseti ebusseti 4.0K Mar 13 15:35 ..\r\n",
      "-rw-rw-r-- 1 ebusseti ebusseti 2.8K Mar 13 15:35 assets.txt\r\n",
      "-rw-rw-r-- 1 ebusseti ebusseti  35K Mar 13 16:17 DownloadData.ipynb\r\n",
      "-rw-rw-r-- 1 ebusseti ebusseti 4.6K Mar 13 15:35 download_data.py\r\n",
      "drwxrwxr-x 8 ebusseti ebusseti 4.0K Mar 13 15:35 .git\r\n",
      "drwxr-xr-x 2 ebusseti ebusseti 4.0K Mar 13 15:39 .ipynb_checkpoints\r\n",
      "-rw-rw-r-- 1 ebusseti ebusseti  282 Mar 13 15:35 load_data.jl\r\n",
      "-rw-rw-r-- 1 ebusseti ebusseti  127 Mar 13 15:35 load_data.m\r\n",
      "-rw-rw-r-- 1 ebusseti ebusseti  595 Mar 13 15:35 load_data.py\r\n",
      "-rw-rw-r-- 1 ebusseti ebusseti 4.2K Mar 13 15:35 NASDAQ100.txt\r\n",
      "-rw-rw-r-- 1 ebusseti ebusseti 2.8K Mar 13 15:35 plot_data.py\r\n",
      "-rw-rw-r-- 1 ebusseti ebusseti 3.0M Mar 13 16:12 prices.csv.gz\r\n",
      "-rw-rw-r-- 1 ebusseti ebusseti 2.9M Mar 13 16:12 returns.csv.gz\r\n",
      "-rw-rw-r-- 1 ebusseti ebusseti 2.6M Mar 13 16:12 sigmas.csv.gz\r\n",
      "-rw-rw-r-- 1 ebusseti ebusseti  20K Mar 13 15:35 SP500.txt\r\n",
      "-rw-rw-r-- 1 ebusseti ebusseti 4.7M Mar 13 16:12 volumes.csv.gz\r\n"
     ]
    }
   ],
   "source": [
    "!ls -hal"
   ]
  }
 ],
 "metadata": {
  "kernelspec": {
   "display_name": "Python 3",
   "language": "python",
   "name": "python3"
  },
  "language_info": {
   "codemirror_mode": {
    "name": "ipython",
    "version": 3
   },
   "file_extension": ".py",
   "mimetype": "text/x-python",
   "name": "python",
   "nbconvert_exporter": "python",
   "pygments_lexer": "ipython3",
   "version": "3.6.0"
  }
 },
 "nbformat": 4,
 "nbformat_minor": 2
}
