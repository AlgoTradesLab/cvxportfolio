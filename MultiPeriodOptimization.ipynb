{
 "cells": [
  {
   "cell_type": "code",
   "execution_count": 2,
   "metadata": {
    "collapsed": false,
    "deletable": true,
    "editable": true
   },
   "outputs": [
    {
     "name": "stdout",
     "output_type": "stream",
     "text": [
      "The autoreload extension is already loaded. To reload it, use:\n",
      "  %reload_ext autoreload\n"
     ]
    }
   ],
   "source": [
    "%load_ext autoreload\n",
    "%autoreload 2\n",
    "%matplotlib inline\n",
    "\n",
    "import pandas as pd\n",
    "import numpy as np\n",
    "import matplotlib.pyplot as plt\n",
    "import cvx_portfolio as cp\n",
    "\n",
    "plotdir = '../portfolio/plots/'\n",
    "\n",
    "sigmas=pd.read_csv('sigmas.csv.gz',index_col=0,parse_dates=[0])\n",
    "returns=pd.read_csv('returns.csv.gz',index_col=0,parse_dates=[0])\n",
    "volumes=pd.read_csv('volumes.csv.gz',index_col=0,parse_dates=[0])\n",
    "a = pd.read_csv('a.csv.gz',index_col=0,parse_dates=[0])\n",
    "b = pd.read_csv('b.csv.gz',index_col=0,parse_dates=[0])\n",
    "s = pd.read_csv('s.csv.gz',index_col=0,parse_dates=[0])\n",
    "\n",
    "w_b = pd.Series(index=returns.columns, data=1)\n",
    "w_b.USDOLLAR = 0.\n",
    "w_b/=sum(w_b)\n",
    "\n",
    "start_t=\"2012-01-01\"\n",
    "end_t=\"2016-12-29\"\n",
    "\n",
    "simulated_tcost = cp.TcostModel(volumes, sigmas, a, b, cash_key='USDOLLAR')\n",
    "simulated_hcost = cp.HcostModel(s, cash_key='USDOLLAR')\n",
    "simulator = cp.MarketSimulator(returns, volumes, [simulated_tcost, simulated_hcost], cash_key='USDOLLAR')\n",
    "\n",
    "return_estimate=pd.read_csv('return_estimate.csv.gz',index_col=0,parse_dates=[0])\n",
    "volume_estimate=pd.read_csv('volume_estimate.csv.gz',index_col=0,parse_dates=[0])\n",
    "sigma_estimate=pd.read_csv('sigma_estimate.csv.gz',index_col=0,parse_dates=[0])\n",
    "optimization_tcost=cp.TcostModel(volume_estimate, sigma_estimate, a, b, cash_key='USDOLLAR')\n",
    "optimization_hcost=cp.HcostModel(s, cash_key='USDOLLAR')\n",
    "\n",
    "risk_data = pd.HDFStore('risk_model.h5')\n",
    "risk_model = cp.FactorModelSigma(risk_data.exposures, risk_data.factor_sigma, risk_data.idyos)"
   ]
  },
  {
   "cell_type": "code",
   "execution_count": 3,
   "metadata": {
    "collapsed": true,
    "editable": true
   },
   "outputs": [],
   "source": [
    "all_return_estimates={}\n",
    "n_p1=returns.shape[1]\n",
    "T=returns.shape[0]\n",
    "\n",
    "# sigma2_n=0.02\n",
    "# sigma2_r=0.0005\n",
    "# std_noise=np.sqrt(sigma2_n)\n",
    "\n",
    "# np.random.seed(100)\n",
    "# make new predictions\n",
    "for i,t in enumerate(returns.index[:-1]):\n",
    "    all_return_estimates[(t,t)]= return_estimate.loc[t]\n",
    "    tp1=returns.index[i+1]\n",
    "    all_return_estimates[(t,tp1)]=return_estimate.loc[tp1]\n",
    "    \n",
    "alpha_model = cp.MPOAlphaSource(all_return_estimates)\n",
    "results_MPO={}"
   ]
  },
  {
   "cell_type": "code",
   "execution_count": 7,
   "metadata": {
    "collapsed": true
   },
   "outputs": [],
   "source": [
    "# all_return_estimates={}\n",
    "# n_p1=returns.shape[1]\n",
    "# T=returns.shape[0]\n",
    "\n",
    "# std_noise=np.sqrt(0.1)\n",
    "\n",
    "# np.random.seed(100)\n",
    "# # make new predictions\n",
    "# for i,t in enumerate(returns.index[:-4]):\n",
    "#     for tau in returns.index[i:i+5]: \n",
    "#         all_return_estimates[(t,tau)]=returns.loc[tau]+std_noise*np.random.randn(n_p1)\n",
    "#         all_return_estimates[(t,tau)].USDOLLAR=returns.loc[tau].ix[-1]\n",
    "    \n",
    "# alpha_model = cp.MPOAlphaSource(all_return_estimates)\n",
    "# results_MPO={}"
   ]
  },
  {
   "cell_type": "markdown",
   "metadata": {},
   "source": [
    "## MPO Coarse search "
   ]
  },
  {
   "cell_type": "code",
   "execution_count": 8,
   "metadata": {
    "collapsed": false
   },
   "outputs": [],
   "source": [
    "import cvxpy as cvx\n",
    "policies={}\n",
    "gamma_risks_coarse=[1,10,100,1000]\n",
    "gamma_tcosts_coarse=[5,10,20]\n",
    "for gamma_risk in gamma_risks_coarse:\n",
    "    for gamma_tcost in gamma_tcosts_coarse=[5,10,20] : \n",
    "        policies[(gamma_risk, gamma_tcost)] = \\\n",
    "      cp.MultiPeriodOpt(alpha_model=alpha_model, \n",
    "                          costs=[gamma_risk*risk_model, gamma_tcost*optimization_tcost, optimization_hcost], \n",
    "                          constraints=[cp.LeverageLimit(3)],\n",
    "                          trading_times=list(returns.index[(returns.index>=start_t)&(returns.index<=end_t)]),\n",
    "                         lookahead_periods=2,\n",
    "                         terminal_weights=None)\n",
    "\n",
    "results_MPO.update({k:v for k,v in zip(policies.keys(),\n",
    "                           simulator.run_multiple_backtest(w_b*1e8, start_time = start_t, end_time=end_t, \n",
    "                                          policies=policies.values(),parallel=True))})"
   ]
  },
  {
   "cell_type": "code",
   "execution_count": 9,
   "metadata": {
    "collapsed": false
   },
   "outputs": [],
   "source": [
    "result_df_coarse=pd.DataFrame()\n",
    "for k in results_MPO:\n",
    "    if k[0] in gamma_risks_coarse and k[1] in gamma_tcosts_coarse:\n",
    "        result_df_coarse.loc[k[0], k[1]] = results_MPO[k]\n",
    "        \n",
    "result_df = result_df_coarse.loc[sorted(result_df_coarse.index), sorted(result_df_coarse.columns)]"
   ]
  },
  {
   "cell_type": "code",
   "execution_count": 10,
   "metadata": {
    "collapsed": false,
    "deletable": true,
    "editable": true
   },
   "outputs": [
    {
     "data": {
      "image/png": "[encoded data removed]",
      "text/plain": [
       "<matplotlib.figure.Figure at 0x7fef9af94f98>"
      ]
     },
     "metadata": {},
     "output_type": "display_data"
    }
   ],
   "source": [
    "plt.figure(figsize=(8,5))\n",
    "for gamma_tcost in result_df.columns:\n",
    "    x=[el.excess_returns.std()*100*np.sqrt(250) for el in result_df[gamma_tcost]]\n",
    "    y=[el.excess_returns.mean()*100*250 for el in result_df[gamma_tcost]]\n",
    "    plt.plot(np.array(x),np.array(y), '.-', label='$\\gamma^\\mathrm{trade} = %g$'%gamma_tcost)\n",
    "plt.legend(loc='lower right')\n",
    "plt.xlabel('Risk')\n",
    "plt.ylabel('Return')\n",
    "plt.xlim([0,20])\n",
    "plt.ylim([0,30])\n",
    "\n",
    "\n",
    "import matplotlib.ticker as mtick\n",
    "ax = plt.gca()\n",
    "ax.xaxis.set_major_formatter(mtick.FormatStrFormatter('%.0f%%'))\n",
    "ax.yaxis.set_major_formatter(mtick.FormatStrFormatter('%.0f%%'))\n",
    "\n",
    "plt.savefig(plotdir+'mpo_riskrewardfrontier_h5.png')"
   ]
  },
  {
   "cell_type": "markdown",
   "metadata": {},
   "source": [
    "# MPO Pareto search "
   ]
  },
  {
   "cell_type": "code",
   "execution_count": 17,
   "metadata": {
    "collapsed": true
   },
   "outputs": [],
   "source": [
    "results_pareto={}"
   ]
  },
  {
   "cell_type": "code",
   "execution_count": 18,
   "metadata": {
    "collapsed": false
   },
   "outputs": [
    {
     "name": "stderr",
     "output_type": "stream",
     "text": [
      "WARNING:root:Solver failed on timestamp 2013-03-28 00:00:00. Defaulting to no trades.\n",
      "WARNING:root:Solver failed on timestamp 2014-02-12 00:00:00. Defaulting to no trades.\n",
      "WARNING:root:Solver failed on timestamp 2013-03-13 00:00:00. Defaulting to no trades.\n",
      "WARNING:root:Solver failed on timestamp 2014-08-27 00:00:00. Defaulting to no trades.\n",
      "WARNING:root:Solver failed on timestamp 2016-05-12 00:00:00. Defaulting to no trades.\n"
     ]
    }
   ],
   "source": [
    "policies={}\n",
    "#gamma_risks_pareto=[20, 35, 60, 110, 200, 350, 600, 1100, 2000, 3500, 6000, 11000, 20000]\n",
    "gamma_risks_pareto=[.1,.3,1,3,10,30,100,300,1000]\n",
    "gamma_tcosts_pareto=[7,8,9,10,11,12]\n",
    "gamma_holdings=[.1,1.,10., 100.,1000.]\n",
    "for gamma_risk in gamma_risks_pareto:\n",
    "    for gamma_tcost in gamma_tcosts_pareto : \n",
    "        for gamma_holding in gamma_holdings:\n",
    "            policies[(gamma_risk, gamma_tcost, gamma_holding)] = \\\n",
    "      cp.MultiPeriodOpt(alpha_model=alpha_model, \n",
    "                          costs=[gamma_risk*risk_model, gamma_tcost*optimization_tcost, \n",
    "                                 gamma_holding*optimization_hcost], \n",
    "                          constraints=[cp.LeverageLimit(3)],\n",
    "                          trading_times=list(returns.index[(returns.index>=start_t)&(returns.index<=end_t)]),\n",
    "                         lookahead_periods=2,\n",
    "                         terminal_weights=None)\n",
    "\n",
    "import warnings\n",
    "warnings.filterwarnings('ignore')\n",
    "results_pareto.update(dict(zip(policies.keys(), simulator.run_multiple_backtest(1E8*w_b, start_time=start_t,\n",
    "                                                                                end_time=end_t,\n",
    "                                              policies=policies.values(), parallel=True))))"
   ]
  },
  {
   "cell_type": "code",
   "execution_count": 19,
   "metadata": {
    "collapsed": true
   },
   "outputs": [],
   "source": [
    "table=pd.DataFrame()\n",
    "table[r'$\\gamma^\\mathrm{risk}$']=[el[0] for el in results_pareto.keys()]\n",
    "table[r'$\\gamma^\\mathrm{trade}$']=[el[1] for el in results_pareto.keys()]\n",
    "table[r'$\\gamma^\\mathrm{hold}$']=['%g'%el[2] for el in results_pareto.keys()]\n",
    "table['Return']=[(results_pareto[k].excess_returns.mean()*100*250) for k in results_pareto.keys()]\n",
    "table['Risk']=[(results_pareto[k].excess_returns.std()*100*np.sqrt(250)) for k in results_pareto.keys()]\n",
    "\n",
    "table = table.sort_values('Risk', ascending=False).reset_index()\n",
    "del table['index']\n",
    "is_pareto = lambda i: table.loc[i,'Return']>=max(table.ix[i:].Return)\n",
    "table['is_pareto'] = [is_pareto(i) for i in range(len(table))]\n",
    "table.to_csv('mpo_pareto_results.csv', float_format='%g')"
   ]
  },
  {
   "cell_type": "code",
   "execution_count": 20,
   "metadata": {
    "collapsed": false
   },
   "outputs": [
    {
     "data": {
      "image/png": "[encoded data removed]",
      "text/plain": [
       "<matplotlib.figure.Figure at 0x7fede53dfa58>"
      ]
     },
     "metadata": {},
     "output_type": "display_data"
    }
   ],
   "source": [
    "plt.figure(figsize=(8,5))\n",
    "plt.scatter(table.Risk.values,table.Return.values)\n",
    "plt.plot(table[table.is_pareto].Risk,table[table.is_pareto].Return, 'C1.-', label='Pareto optimal frontier')\n",
    "plt.legend( loc='lower right')\n",
    "plt.xlabel('Risk')\n",
    "plt.ylabel('Return')\n",
    "plt.xlim([0,20])\n",
    "plt.ylim([0,30])\n",
    "\n",
    "import matplotlib.ticker as mtick\n",
    "ax = plt.gca()\n",
    "ax.xaxis.set_major_formatter(mtick.FormatStrFormatter('%.0f%%'))\n",
    "ax.yaxis.set_major_formatter(mtick.FormatStrFormatter('%.0f%%'))\n",
    "\n",
    "plt.savefig(plotdir+'mpo_pareto.png')"
   ]
  },
  {
   "cell_type": "code",
   "execution_count": 21,
   "metadata": {
    "collapsed": false
   },
   "outputs": [
    {
     "name": "stdout",
     "output_type": "stream",
     "text": [
      "\\begin{tabular}{rrlll}\n",
      "\\toprule\n",
      " $\\gamma^\\mathrm{risk}$ &  $\\gamma^\\mathrm{trade}$ & $\\gamma^\\mathrm{hold}$ &  Return &    Risk \\\\\n",
      "\\midrule\n",
      "                 1000.0 &                       12 &                   1000 &   0.83\\% &   0.29\\% \\\\\n",
      "                 1000.0 &                       12 &                    100 &   0.86\\% &   0.29\\% \\\\\n",
      "                 1000.0 &                       11 &                   1000 &   0.88\\% &   0.30\\% \\\\\n",
      "                 1000.0 &                       11 &                    100 &   0.92\\% &   0.31\\% \\\\\n",
      "                 1000.0 &                       10 &                   1000 &   0.93\\% &   0.32\\% \\\\\n",
      "                 1000.0 &                       10 &                    100 &   1.00\\% &   0.32\\% \\\\\n",
      "                 1000.0 &                        9 &                    100 &   1.08\\% &   0.34\\% \\\\\n",
      "                 1000.0 &                        8 &                    100 &   1.19\\% &   0.35\\% \\\\\n",
      "                 1000.0 &                        7 &                    100 &   1.32\\% &   0.38\\% \\\\\n",
      "                  300.0 &                       12 &                   1000 &   2.13\\% &   0.77\\% \\\\\n",
      "                  300.0 &                       12 &                    100 &   2.16\\% &   0.77\\% \\\\\n",
      "                  300.0 &                       11 &                   1000 &   2.27\\% &   0.81\\% \\\\\n",
      "                  300.0 &                       11 &                    100 &   2.31\\% &   0.82\\% \\\\\n",
      "                  300.0 &                       10 &                   1000 &   2.42\\% &   0.86\\% \\\\\n",
      "                  300.0 &                       10 &                    100 &   2.47\\% &   0.86\\% \\\\\n",
      "                  300.0 &                        9 &                   1000 &   2.55\\% &   0.91\\% \\\\\n",
      "                  300.0 &                        9 &                    100 &   2.63\\% &   0.92\\% \\\\\n",
      "                 1000.0 &                       12 &                     10 &   4.97\\% &   0.96\\% \\\\\n",
      "                 1000.0 &                       11 &                     10 &   5.55\\% &   1.04\\% \\\\\n",
      "                 1000.0 &                       10 &                     10 &   6.17\\% &   1.14\\% \\\\\n",
      "                 1000.0 &                        9 &                     10 &   6.81\\% &   1.25\\% \\\\\n",
      "                 1000.0 &                        8 &                     10 &   7.47\\% &   1.39\\% \\\\\n",
      "                 1000.0 &                        7 &                     10 &   8.10\\% &   1.54\\% \\\\\n",
      "                 1000.0 &                        7 &                      1 &   8.24\\% &   1.93\\% \\\\\n",
      "                  300.0 &                       11 &                     10 &   8.54\\% &   2.09\\% \\\\\n",
      "                  300.0 &                       10 &                     10 &   9.43\\% &   2.31\\% \\\\\n",
      "                  300.0 &                        9 &                     10 &  10.36\\% &   2.54\\% \\\\\n",
      "                  300.0 &                        9 &                      1 &  10.37\\% &   2.73\\% \\\\\n",
      "                  300.0 &                        9 &                    0.1 &  10.37\\% &   2.73\\% \\\\\n",
      "                  300.0 &                        8 &                     10 &  11.32\\% &   2.78\\% \\\\\n",
      "                  300.0 &                        8 &                      1 &  11.41\\% &   2.87\\% \\\\\n",
      "                  300.0 &                        8 &                    0.1 &  11.42\\% &   2.87\\% \\\\\n",
      "                  300.0 &                        7 &                     10 &  12.07\\% &   2.98\\% \\\\\n",
      "                  300.0 &                        7 &                      1 &  12.13\\% &   3.02\\% \\\\\n",
      "                  100.0 &                       10 &                     10 &  12.66\\% &   3.51\\% \\\\\n",
      "                  100.0 &                        9 &                     10 &  13.90\\% &   3.73\\% \\\\\n",
      "                  100.0 &                        8 &                     10 &  14.98\\% &   3.99\\% \\\\\n",
      "                  100.0 &                        7 &                     10 &  15.97\\% &   4.28\\% \\\\\n",
      "                   30.0 &                       10 &                    0.1 &  16.80\\% &   5.33\\% \\\\\n",
      "                   30.0 &                       10 &                      1 &  16.81\\% &   5.33\\% \\\\\n",
      "                   30.0 &                       10 &                     10 &  17.13\\% &   5.33\\% \\\\\n",
      "                   30.0 &                        9 &                     10 &  18.52\\% &   5.68\\% \\\\\n",
      "                   30.0 &                        8 &                     10 &  19.80\\% &   6.15\\% \\\\\n",
      "                   30.0 &                        7 &                     10 &  21.03\\% &   6.75\\% \\\\\n",
      "                   10.0 &                       10 &                    0.1 &  21.72\\% &   8.56\\% \\\\\n",
      "                   10.0 &                       10 &                      1 &  21.73\\% &   8.56\\% \\\\\n",
      "                   10.0 &                       10 &                     10 &  22.47\\% &   8.58\\% \\\\\n",
      "                   10.0 &                        9 &                    0.1 &  23.85\\% &   9.17\\% \\\\\n",
      "                   10.0 &                        9 &                      1 &  23.85\\% &   9.17\\% \\\\\n",
      "                   10.0 &                        9 &                     10 &  24.34\\% &   9.19\\% \\\\\n",
      "                   10.0 &                        8 &                      1 &  25.54\\% &   9.86\\% \\\\\n",
      "                   10.0 &                        8 &                     10 &  25.88\\% &   9.88\\% \\\\\n",
      "                   10.0 &                        7 &                      1 &  26.52\\% &  10.74\\% \\\\\n",
      "                   10.0 &                        7 &                     10 &  26.74\\% &  10.75\\% \\\\\n",
      "                    3.0 &                        9 &                    0.1 &  27.04\\% &  12.54\\% \\\\\n",
      "                    3.0 &                        9 &                      1 &  27.09\\% &  12.55\\% \\\\\n",
      "                    3.0 &                       10 &                     10 &  28.08\\% &  12.73\\% \\\\\n",
      "                    3.0 &                        9 &                     10 &  29.72\\% &  12.98\\% \\\\\n",
      "\\bottomrule\n",
      "\\end{tabular}\n",
      "\n"
     ]
    }
   ],
   "source": [
    "xlim=20\n",
    "ylim=30\n",
    "tableprint=table[table.is_pareto]\n",
    "tableprint=tableprint[tableprint.Risk <= xlim]\n",
    "tableprint=tableprint[tableprint.Return <= ylim]\n",
    "del tableprint['is_pareto']\n",
    "tableprint.Risk=tableprint.Risk.apply(lambda x: '%.2f%%'%x)\n",
    "tableprint.Return=tableprint.Return.apply(lambda x: '%.2f%%'%x)\n",
    "print(tableprint.iloc[::-1].to_latex(float_format='%.2f', escape=False, index=False).replace('%',r'\\%'))"
   ]
  },
  {
   "cell_type": "markdown",
   "metadata": {
    "collapsed": true,
    "deletable": true,
    "editable": true
   },
   "source": [
    "# SPO vs MPO "
   ]
  },
  {
   "cell_type": "code",
   "execution_count": 23,
   "metadata": {
    "collapsed": false
   },
   "outputs": [
    {
     "data": {
      "image/png": "[encoded data removed]",
      "text/plain": [
       "<matplotlib.figure.Figure at 0x7fefa4a55978>"
      ]
     },
     "metadata": {},
     "output_type": "display_data"
    }
   ],
   "source": [
    "table_spo = pd.read_csv('spo_pareto_results.csv', index_col=0)\n",
    "plt.figure(figsize=(8,5))\n",
    "\n",
    "plt.plot(table[table.is_pareto].Risk,table[table.is_pareto].Return, 'C3.-', label='MPO pareto frontier')\n",
    "plt.plot(table_spo[table_spo.is_pareto].Risk,\n",
    "         table_spo[table_spo.is_pareto].Return, 'C2.-', label='SPO pareto frontier')\n",
    "plt.legend(loc='lower right')\n",
    "plt.xlabel('Risk')\n",
    "plt.ylabel('Return')\n",
    "plt.xlim([0,20])\n",
    "plt.ylim([0,30])\n",
    "\n",
    "import matplotlib.ticker as mtick\n",
    "ax = plt.gca()\n",
    "ax.xaxis.set_major_formatter(mtick.FormatStrFormatter('%.0f%%'))\n",
    "ax.yaxis.set_major_formatter(mtick.FormatStrFormatter('%.0f%%'))\n",
    "\n",
    "\n",
    "plt.savefig(plotdir+'spo_vs_mpo_pareto.png')"
   ]
  },
  {
   "cell_type": "code",
   "execution_count": null,
   "metadata": {
    "collapsed": false,
    "deletable": true,
    "editable": true
   },
   "outputs": [],
   "source": [
    "# results_avg={}\n",
    "# policies={}\n",
    "# gamma_risks_coarse=[ 20, 50, 100, 200, 500, 1000, 2000]\n",
    "# gamma_tcosts_coarse=[ 20, 50, 100, 200, 500, 1000, 2000]\n",
    "# for gamma_risk in gamma_risks_coarse:\n",
    "#     for gamma_tcost in gamma_tcosts_coarse : \n",
    "#         policies[(gamma_risk, gamma_tcost)] = \\\n",
    "#       cp.SinglePeriodOpt(avg_alpha_model, [gamma_risk*risk_model,gamma_tcost*optimization_tcost,optimization_hcost], \n",
    "#                                 [cp.LeverageLimit(3)])\n",
    "\n",
    "# import warnings\n",
    "# warnings.filterwarnings('ignore')\n",
    "# results_avg.update(dict(zip(policies.keys(), simulator.run_multiple_backtest(1E8*w_b, start_time=start_t,end_time=end_t,\n",
    "#                                               policies=policies.values(), parallel=True))))\n",
    "\n",
    "# result_df_avg=pd.DataFrame()\n",
    "# for k in results:\n",
    "#     if k[0] in gamma_risks_coarse and k[1] in gamma_tcosts_coarse:\n",
    "#         result_df_avg.loc[k[0], k[1]] = results_avg[k]"
   ]
  },
  {
   "cell_type": "code",
   "execution_count": null,
   "metadata": {
    "collapsed": false,
    "deletable": true,
    "editable": true
   },
   "outputs": [],
   "source": [
    "# plt.figure(figsize=(8,5))\n",
    "\n",
    "# for gamma_tcost in result_df_MPO.columns:\n",
    "#     x=[el.excess_returns.std()*100*np.sqrt(250) for el in result_df_MPO[gamma_tcost]]\n",
    "#     y=[el.excess_returns.mean()*100*250 for el in result_df_MPO[gamma_tcost]]\n",
    "#     plt.plot(np.array(x),np.array(y), '.-', label='$\\gamma^\\mathrm{trade} = %g$'%gamma_tcost)\n",
    "    \n",
    "# for gamma_tcost in result_df_avg.columns:\n",
    "#     x=[el.excess_returns.std()*100*np.sqrt(250) for el in result_df_avg[gamma_tcost]]\n",
    "#     y=[el.excess_returns.mean()*100*250 for el in result_df_avg[gamma_tcost]]\n",
    "#     plt.plot(np.array(x),np.array(y), '.--', label='$\\gamma^\\mathrm{trade} = %g$'%gamma_tcost)\n",
    "    \n",
    "# plt.legend(loc='lower right')\n",
    "# plt.xlabel('Excess risk')\n",
    "# plt.ylabel('Excess return')\n",
    "# plt.xlim([0,25])\n",
    "# plt.ylim([0,55])\n",
    "\n",
    "\n",
    "\n",
    "# import matplotlib.ticker as mtick\n",
    "# ax = plt.gca()\n",
    "# ax.xaxis.set_major_formatter(mtick.FormatStrFormatter('%.0f%%'))\n",
    "# ax.yaxis.set_major_formatter(mtick.FormatStrFormatter('%.0f%%'))\n",
    "\n",
    "# #plt.savefig(plotdir+'mpo_riskrewardfrontier.png')"
   ]
  },
  {
   "cell_type": "code",
   "execution_count": null,
   "metadata": {
    "collapsed": true,
    "deletable": true,
    "editable": true
   },
   "outputs": [],
   "source": []
  }
 ],
 "metadata": {
  "anaconda-cloud": {},
  "kernelspec": {
   "display_name": "Python 3",
   "language": "python",
   "name": "python3"
  },
  "language_info": {
   "codemirror_mode": {
    "name": "ipython",
    "version": 3
   },
   "file_extension": ".py",
   "mimetype": "text/x-python",
   "name": "python",
   "nbconvert_exporter": "python",
   "pygments_lexer": "ipython3",
   "version": "3.6.0"
  }
 },
 "nbformat": 4,
 "nbformat_minor": 2
}
