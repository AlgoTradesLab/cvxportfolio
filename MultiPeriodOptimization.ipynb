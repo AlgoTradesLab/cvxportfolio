{
 "cells": [
  {
   "cell_type": "code",
   "execution_count": 24,
   "metadata": {
    "collapsed": false,
    "deletable": true,
    "editable": true
   },
   "outputs": [
    {
     "name": "stdout",
     "output_type": "stream",
     "text": [
      "The autoreload extension is already loaded. To reload it, use:\n",
      "  %reload_ext autoreload\n"
     ]
    }
   ],
   "source": [
    "%load_ext autoreload\n",
    "%autoreload 2\n",
    "%matplotlib inline\n",
    "\n",
    "import pandas as pd\n",
    "import numpy as np\n",
    "import matplotlib.pyplot as plt\n",
    "import cvx_portfolio as cp\n",
    "\n",
    "plotdir = '../portfolio/plots/'\n",
    "\n",
    "sigmas=pd.read_csv('sigmas.csv.gz',index_col=0,parse_dates=[0])\n",
    "returns=pd.read_csv('returns.csv.gz',index_col=0,parse_dates=[0])\n",
    "volumes=pd.read_csv('volumes.csv.gz',index_col=0,parse_dates=[0])\n",
    "a = pd.read_csv('a.csv.gz',index_col=0,parse_dates=[0])\n",
    "b = pd.read_csv('b.csv.gz',index_col=0,parse_dates=[0])\n",
    "s = pd.read_csv('s.csv.gz',index_col=0,parse_dates=[0])\n",
    "\n",
    "w_b = pd.Series(index=returns.columns, data=1)\n",
    "w_b.USDOLLAR = 0.\n",
    "w_b/=sum(w_b)\n",
    "\n",
    "start_t=\"2012-01-01\"\n",
    "end_t=\"2016-12-29\"\n",
    "\n",
    "simulated_tcost = cp.TcostModel(volumes, sigmas, a, b, cash_key='USDOLLAR')\n",
    "simulated_hcost = cp.HcostModel(s, cash_key='USDOLLAR')\n",
    "simulator = cp.MarketSimulator(returns, volumes, [simulated_tcost, simulated_hcost], cash_key='USDOLLAR')\n",
    "\n",
    "volume_estimate=pd.read_csv('volume_estimate.csv.gz',index_col=0,parse_dates=[0])\n",
    "sigma_estimate=pd.read_csv('sigma_estimate.csv.gz',index_col=0,parse_dates=[0])\n",
    "optimization_tcost=cp.TcostModel(volume_estimate, sigma_estimate, a, b, cash_key='USDOLLAR')\n",
    "optimization_hcost=cp.HcostModel(s, cash_key='USDOLLAR')\n",
    "\n",
    "risk_data = pd.HDFStore('risk_model.h5')\n",
    "risk_model = cp.FactorModelSigma(risk_data.exposures, risk_data.factor_sigma, risk_data.idyos)"
   ]
  },
  {
   "cell_type": "code",
   "execution_count": null,
   "metadata": {
    "collapsed": true,
    "editable": true
   },
   "outputs": [],
   "source": [
    "all_return_estimates={}\n",
    "n_p1=returns.shape[1]\n",
    "T=returns.shape[0]\n",
    "\n",
    "std_noise=0.2\n",
    "\n",
    "np.random.seed(100)\n",
    "# make new predictions\n",
    "for i,t in enumerate(returns.index[:-1]):\n",
    "    all_return_estimates[(t,t)]=returns.loc[t]+std_noise*np.random.randn(n_p1)\n",
    "    all_return_estimates[(t,t)].USDOLLAR=returns.loc[t].ix[-1]\n",
    "    tp1 = returns.index[i+1] \n",
    "    all_return_estimates[(t,tp1)]=returns.loc[tp1]+std_noise*np.random.randn(n_p1)\n",
    "    all_return_estimates[(t,tp1)].USDOLLAR=returns.loc[tp1].ix[-1]\n",
    "    \n",
    "alpha_model = cp.MPOAlphaSource(all_return_estimates)\n",
    "results_MPO={}"
   ]
  },
  {
   "cell_type": "markdown",
   "metadata": {},
   "source": [
    "## MPO Coarse search "
   ]
  },
  {
   "cell_type": "code",
   "execution_count": null,
   "metadata": {
    "collapsed": false
   },
   "outputs": [],
   "source": [
    "import cvxpy as cvx\n",
    "\n",
    "policies={}\n",
    "gamma_risks_coarse=[20, 60, 200, 600, 2000, 6000, 20000]\n",
    "gamma_tcosts_coarse=[50, 100, 200, 500, 1000]\n",
    "for gamma_risk in gamma_risks_coarse:\n",
    "    for gamma_tcost in gamma_tcosts_coarse : \n",
    "        policies[(gamma_risk, gamma_tcost)] = \\\n",
    "      cp.MultiPeriodOpt(alpha_model=alpha_model, \n",
    "                          costs=[gamma_risk*risk_model, gamma_tcost*optimization_tcost, optimization_hcost], \n",
    "                          constraints=[cp.LeverageLimit(3)],\n",
    "                          trading_times=list(returns.index[(returns.index>=start_t)&(returns.index<=end_t)]),\n",
    "                         lookahead_periods=2,\n",
    "                         terminal_weights=None)\n",
    "\n",
    "results_MPO.update({k:v for k,v in zip(policies.keys(),\n",
    "                           simulator.run_multiple_backtest(w_b*1e8, start_time = start_t, end_time=end_t, \n",
    "                                          policies=policies.values(),parallel=True))})"
   ]
  },
  {
   "cell_type": "code",
   "execution_count": null,
   "metadata": {
    "collapsed": false
   },
   "outputs": [],
   "source": [
    "result_df_coarse=pd.DataFrame()\n",
    "for k in results_MPO:\n",
    "    if k[0] in gamma_risks_coarse and k[1] in gamma_tcosts_coarse:\n",
    "        result_df_coarse.loc[k[0], k[1]] = results_MPO[k]\n",
    "        \n",
    "result_df = result_df_coarse.loc[sorted(result_df_coarse.index), sorted(result_df_coarse.columns)]"
   ]
  },
  {
   "cell_type": "markdown",
   "metadata": {
    "deletable": true,
    "editable": true
   },
   "source": [
    "### DOnt plot gamma trade = 30, get rid of turnover "
   ]
  },
  {
   "cell_type": "code",
   "execution_count": 42,
   "metadata": {
    "collapsed": false,
    "deletable": true,
    "editable": true
   },
   "outputs": [
    {
     "data": {
      "image/png": "[encoded data removed]",
      "text/plain": [
       "<matplotlib.figure.Figure at 0x7f7c35495828>"
      ]
     },
     "metadata": {},
     "output_type": "display_data"
    }
   ],
   "source": [
    "plt.figure(figsize=(8,5))\n",
    "for gamma_tcost in result_df.columns:\n",
    "    x=[el.excess_returns.std()*100*np.sqrt(250) for el in result_df[gamma_tcost]]\n",
    "    y=[el.excess_returns.mean()*100*250 for el in result_df[gamma_tcost]]\n",
    "    plt.plot(np.array(x),np.array(y), '.-', label='$\\gamma^\\mathrm{trade} = %g$'%gamma_tcost)\n",
    "plt.legend(loc='lower right')\n",
    "plt.xlabel('Risk')\n",
    "plt.ylabel('Return')\n",
    "plt.xlim([0,20])\n",
    "plt.ylim([0,30])\n",
    "\n",
    "\n",
    "import matplotlib.ticker as mtick\n",
    "ax = plt.gca()\n",
    "ax.xaxis.set_major_formatter(mtick.FormatStrFormatter('%.0f%%'))\n",
    "ax.yaxis.set_major_formatter(mtick.FormatStrFormatter('%.0f%%'))\n",
    "\n",
    "plt.savefig(plotdir+'mpo_riskrewardfrontier.png')"
   ]
  },
  {
   "cell_type": "markdown",
   "metadata": {},
   "source": [
    "# MPO Pareto search "
   ]
  },
  {
   "cell_type": "code",
   "execution_count": 13,
   "metadata": {
    "collapsed": true
   },
   "outputs": [],
   "source": [
    "results_pareto={}"
   ]
  },
  {
   "cell_type": "code",
   "execution_count": null,
   "metadata": {
    "collapsed": false
   },
   "outputs": [],
   "source": [
    "policies={}\n",
    "#gamma_risks_pareto=[20, 35, 60, 110, 200, 350, 600, 1100, 2000, 3500, 6000, 11000, 20000]\n",
    "gamma_risks_pareto=[35, 110, 350, 1100, 3500, 11000]\n",
    "gamma_tcosts_pareto=[400, 450, 500,  550, 600]\n",
    "gamma_holdings=[1.,10., 100.,1000.,10000.]\n",
    "for gamma_risk in gamma_risks_pareto:\n",
    "    for gamma_tcost in gamma_tcosts_pareto : \n",
    "        for gamma_holding in gamma_holdings:\n",
    "            policies[(gamma_risk, gamma_tcost, gamma_holding)] = \\\n",
    "      cp.MultiPeriodOpt(alpha_model=alpha_model, \n",
    "                          costs=[gamma_risk*risk_model, gamma_tcost*optimization_tcost, \n",
    "                                 gamma_holding*optimization_hcost], \n",
    "                          constraints=[cp.LeverageLimit(3)],\n",
    "                          trading_times=list(returns.index[(returns.index>=start_t)&(returns.index<=end_t)]),\n",
    "                         lookahead_periods=2,\n",
    "                         terminal_weights=None)\n",
    "\n",
    "import warnings\n",
    "warnings.filterwarnings('ignore')\n",
    "results_pareto.update(dict(zip(policies.keys(), simulator.run_multiple_backtest(1E8*w_b, start_time=start_t,\n",
    "                                                                                end_time=end_t,\n",
    "                                              policies=policies.values(), parallel=True))))"
   ]
  },
  {
   "cell_type": "code",
   "execution_count": null,
   "metadata": {
    "collapsed": true
   },
   "outputs": [],
   "source": [
    "table=pd.DataFrame()\n",
    "table[r'$\\gamma^\\mathrm{risk}$']=[el[0] for el in results_pareto.keys()]\n",
    "table[r'$\\gamma^\\mathrm{trade}$']=[el[1] for el in results_pareto.keys()]\n",
    "table[r'$\\gamma^\\mathrm{hold}$']=['%g'%el[2] for el in results_pareto.keys()]\n",
    "table['Return']=[(results_pareto[k].excess_returns.mean()*100*250) for k in results_pareto.keys()]\n",
    "table['Risk']=[(results_pareto[k].excess_returns.std()*100*np.sqrt(250)) for k in results_pareto.keys()]\n",
    "\n",
    "table = table.sort_values('Risk', ascending=False).reset_index()\n",
    "del table['index']\n",
    "is_pareto = lambda i: table.loc[i,'Return']>=max(table.ix[i:].Return)\n",
    "table['is_pareto'] = [is_pareto(i) for i in range(len(table))]\n",
    "table.to_csv('mpo_pareto_results.csv', float_format='%g')"
   ]
  },
  {
   "cell_type": "code",
   "execution_count": null,
   "metadata": {
    "collapsed": false
   },
   "outputs": [],
   "source": [
    "plt.figure(figsize=(8,5))\n",
    "plt.scatter(table.Risk.values,table.Return.values)\n",
    "plt.plot(table[table.is_pareto].Risk,table[table.is_pareto].Return, 'C1.-', label='Pareto optimal frontier')\n",
    "plt.legend( loc='lower right')\n",
    "plt.xlabel('Risk')\n",
    "plt.ylabel('Return')\n",
    "plt.xlim([0,20])\n",
    "plt.ylim([0,30])\n",
    "\n",
    "import matplotlib.ticker as mtick\n",
    "ax = plt.gca()\n",
    "ax.xaxis.set_major_formatter(mtick.FormatStrFormatter('%.0f%%'))\n",
    "ax.yaxis.set_major_formatter(mtick.FormatStrFormatter('%.0f%%'))\n",
    "\n",
    "plt.savefig(plotdir+'mpo_pareto.png')"
   ]
  },
  {
   "cell_type": "code",
   "execution_count": null,
   "metadata": {
    "collapsed": false
   },
   "outputs": [],
   "source": [
    "# table=table[table.is_pareto]\n",
    "# table=table[table.Risk <= xlim]\n",
    "# table=table[table.Return <= ylim]\n",
    "# del table['is_pareto']\n",
    "# table.Risk=table.Risk.apply(lambda x: '%.2f%%'%x)\n",
    "# table.Return=table.Return.apply(lambda x: '%.2f%%'%x)\n",
    "# print(table.iloc[::-1].to_latex(float_format='%.2f', escape=False, index=False).replace('%',r'\\%'))"
   ]
  },
  {
   "cell_type": "markdown",
   "metadata": {
    "collapsed": true,
    "deletable": true,
    "editable": true
   },
   "source": [
    "# SPO vs MPO "
   ]
  },
  {
   "cell_type": "code",
   "execution_count": null,
   "metadata": {
    "collapsed": false
   },
   "outputs": [],
   "source": [
    "table_spo = pd.read_csv('spo_pareto_results.csv', index_col=0)\n",
    "plt.figure(figsize=(8,5))\n",
    "\n",
    "plt.plot(table[table.is_pareto].Risk,table[table.is_pareto].Return, 'C3.-', label='MPO pareto frontier')\n",
    "plt.plot(table_spo[table_spo.is_pareto].Risk,\n",
    "         table_spo[table_spo.is_pareto].Return, 'C2.-', label='SPO pareto frontier')\n",
    "plt.legend(loc='lower right')\n",
    "plt.xlabel('Risk')\n",
    "plt.ylabel('Return')\n",
    "plt.xlim([0,20])\n",
    "plt.ylim([0,30])\n",
    "plt.savefig(plotdir+'spo_vs_mpo_pareto.png')"
   ]
  },
  {
   "cell_type": "code",
   "execution_count": null,
   "metadata": {
    "collapsed": false,
    "deletable": true,
    "editable": true
   },
   "outputs": [],
   "source": [
    "# results_avg={}\n",
    "# policies={}\n",
    "# gamma_risks_coarse=[ 20, 50, 100, 200, 500, 1000, 2000]\n",
    "# gamma_tcosts_coarse=[ 20, 50, 100, 200, 500, 1000, 2000]\n",
    "# for gamma_risk in gamma_risks_coarse:\n",
    "#     for gamma_tcost in gamma_tcosts_coarse : \n",
    "#         policies[(gamma_risk, gamma_tcost)] = \\\n",
    "#       cp.SinglePeriodOpt(avg_alpha_model, [gamma_risk*risk_model,gamma_tcost*optimization_tcost,optimization_hcost], \n",
    "#                                 [cp.LeverageLimit(3)])\n",
    "\n",
    "# import warnings\n",
    "# warnings.filterwarnings('ignore')\n",
    "# results_avg.update(dict(zip(policies.keys(), simulator.run_multiple_backtest(1E8*w_b, start_time=start_t,end_time=end_t,\n",
    "#                                               policies=policies.values(), parallel=True))))\n",
    "\n",
    "# result_df_avg=pd.DataFrame()\n",
    "# for k in results:\n",
    "#     if k[0] in gamma_risks_coarse and k[1] in gamma_tcosts_coarse:\n",
    "#         result_df_avg.loc[k[0], k[1]] = results_avg[k]"
   ]
  },
  {
   "cell_type": "code",
   "execution_count": null,
   "metadata": {
    "collapsed": false,
    "deletable": true,
    "editable": true
   },
   "outputs": [],
   "source": [
    "# plt.figure(figsize=(8,5))\n",
    "\n",
    "# for gamma_tcost in result_df_MPO.columns:\n",
    "#     x=[el.excess_returns.std()*100*np.sqrt(250) for el in result_df_MPO[gamma_tcost]]\n",
    "#     y=[el.excess_returns.mean()*100*250 for el in result_df_MPO[gamma_tcost]]\n",
    "#     plt.plot(np.array(x),np.array(y), '.-', label='$\\gamma^\\mathrm{trade} = %g$'%gamma_tcost)\n",
    "    \n",
    "# for gamma_tcost in result_df_avg.columns:\n",
    "#     x=[el.excess_returns.std()*100*np.sqrt(250) for el in result_df_avg[gamma_tcost]]\n",
    "#     y=[el.excess_returns.mean()*100*250 for el in result_df_avg[gamma_tcost]]\n",
    "#     plt.plot(np.array(x),np.array(y), '.--', label='$\\gamma^\\mathrm{trade} = %g$'%gamma_tcost)\n",
    "    \n",
    "# plt.legend(loc='lower right')\n",
    "# plt.xlabel('Excess risk')\n",
    "# plt.ylabel('Excess return')\n",
    "# plt.xlim([0,25])\n",
    "# plt.ylim([0,55])\n",
    "\n",
    "\n",
    "\n",
    "# import matplotlib.ticker as mtick\n",
    "# ax = plt.gca()\n",
    "# ax.xaxis.set_major_formatter(mtick.FormatStrFormatter('%.0f%%'))\n",
    "# ax.yaxis.set_major_formatter(mtick.FormatStrFormatter('%.0f%%'))\n",
    "\n",
    "# #plt.savefig(plotdir+'mpo_riskrewardfrontier.png')"
   ]
  },
  {
   "cell_type": "code",
   "execution_count": null,
   "metadata": {
    "collapsed": true,
    "deletable": true,
    "editable": true
   },
   "outputs": [],
   "source": []
  }
 ],
 "metadata": {
  "anaconda-cloud": {},
  "kernelspec": {
   "display_name": "Python 3",
   "language": "python",
   "name": "python3"
  },
  "language_info": {
   "codemirror_mode": {
    "name": "ipython",
    "version": 3
   },
   "file_extension": ".py",
   "mimetype": "text/x-python",
   "name": "python",
   "nbconvert_exporter": "python",
   "pygments_lexer": "ipython3",
   "version": "3.6.0"
  }
 },
 "nbformat": 4,
 "nbformat_minor": 2
}
